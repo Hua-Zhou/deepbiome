{
 "cells": [
  {
   "cell_type": "markdown",
   "metadata": {},
   "source": [
    "# DeepBiome Usage"
   ]
  },
  {
   "cell_type": "code",
   "execution_count": 1,
   "metadata": {},
   "outputs": [
    {
     "name": "stderr",
     "output_type": "stream",
     "text": [
      "Using TensorFlow backend.\n"
     ]
    }
   ],
   "source": [
    "from deepbiome.deepbiome import *"
   ]
  },
  {
   "cell_type": "markdown",
   "metadata": {},
   "source": [
    "### Arguments"
   ]
  },
  {
   "cell_type": "code",
   "execution_count": 2,
   "metadata": {
    "collapsed": true
   },
   "outputs": [],
   "source": [
    "logging.basicConfig(format = '[%(name)-8s|%(levelname)s|%(filename)s:%(lineno)s] %(message)s',\n",
    "                    level=logging.DEBUG)\n",
    "log = logging.getLogger()"
   ]
  },
  {
   "cell_type": "code",
   "execution_count": 3,
   "metadata": {
    "collapsed": true
   },
   "outputs": [],
   "source": [
    "network_info = {\n",
    "    'architecture_info': {'batch_normalization': 'False',\n",
    "                          'drop_out': '0',\n",
    "                          'weight_initial': 'glorot_uniform',\n",
    "                          'weight_l1_penalty':'0.01',\n",
    "                          'weight_decay': 'phylogenetic_tree',\n",
    "                         },\n",
    "    'model_info': {'decay': '0.001',\n",
    "                   'loss': 'binary_crossentropy',\n",
    "                   'lr': '0.01',\n",
    "                   'metrics': 'binary_accuracy, sensitivity, specificity, gmeasure, auc',\n",
    "                   'network_class': 'DeepBiomeNetwork',\n",
    "                   'normalizer': 'normalize_minmax',\n",
    "                   'optimizer': 'adam',\n",
    "                   'reader_class': 'MicroBiomeReader',\n",
    "                   'texa_selection_metrics': 'accuracy, sensitivity, specificity, gmeasure'},\n",
    " 'tensorboard_info': {'histogram_freq': '0',\n",
    "  'tensorboard_dir': 'None',\n",
    "  'write_grads': 'False',\n",
    "  'write_graph': 'False',\n",
    "  'write_image': 'False',\n",
    "  'write_weights_histogram': 'False',\n",
    "  'write_weights_images': 'False'},\n",
    " 'test_info': {'batch_size': 'None'},\n",
    " 'training_info': {'batch_size': '200', 'epochs': '10'},\n",
    " 'validation_info': {'batch_size': 'None', 'validation_size': '0.2'}}"
   ]
  },
  {
   "cell_type": "code",
   "execution_count": 4,
   "metadata": {
    "collapsed": true
   },
   "outputs": [],
   "source": [
    "path_info = {'data_info': {'count_list_path': 'data/simulation/gcount_list.csv',\n",
    "                          'count_path': 'data/simulation/count',\n",
    "                          'data_path': 'data/simulation/s2/',\n",
    "                          'idx_path': 'data/simulation/s2/idx.csv',\n",
    "                          'tree_info_path': 'data/genus48/genus48_dic.csv',\n",
    "                          'x_path': '',\n",
    "                          'y_path': 'y.csv'},\n",
    "             'model_info': {'evaluation': 'eval.npy',\n",
    "                          'history': 'history/hist.json',\n",
    "                          'model_dir': './simulation_s2/simulation_s2_deepbiome/',\n",
    "                          'weight': 'weight/weight.h5'}}"
   ]
  },
  {
   "cell_type": "markdown",
   "metadata": {},
   "source": [
    "## Deepbiome Training"
   ]
  },
  {
   "cell_type": "code",
   "execution_count": 5,
   "metadata": {},
   "outputs": [
    {
     "name": "stderr",
     "output_type": "stream",
     "text": [
      "[root    |INFO|deepbiome.py:68] -----------------------------------------------------------------\n",
      "[root    |INFO|deepbiome.py:93] -------1 simulation start!----------------------------------\n",
      "[root    |INFO|readers.py:59] -----------------------------------------------------------------------\n",
      "[root    |INFO|readers.py:60] Construct Dataset\n",
      "[root    |INFO|readers.py:61] -----------------------------------------------------------------------\n",
      "[root    |INFO|readers.py:62] Load data\n",
      "[root    |INFO|deepbiome.py:103] -----------------------------------------------------------------\n",
      "[root    |INFO|deepbiome.py:104] Build network for 1 simulation\n",
      "[root    |INFO|build_network.py:508] ------------------------------------------------------------------------------------------\n",
      "[root    |INFO|build_network.py:509] Read phylogenetic tree information from data/genus48/genus48_dic.csv\n",
      "[root    |INFO|build_network.py:513] Phylogenetic tree level list: ['Genus', 'Family', 'Order', 'Class', 'Phylum']\n",
      "[root    |INFO|build_network.py:514] ------------------------------------------------------------------------------------------\n",
      "[root    |INFO|build_network.py:519]      Genus: 48\n",
      "[root    |INFO|build_network.py:519]     Family: 40\n",
      "[root    |INFO|build_network.py:519]      Order: 23\n",
      "[root    |INFO|build_network.py:519]      Class: 17\n",
      "[root    |INFO|build_network.py:519]     Phylum: 9\n",
      "[root    |INFO|build_network.py:522] ------------------------------------------------------------------------------------------\n",
      "[root    |INFO|build_network.py:523] Phylogenetic_tree_dict info: ['Phylum', 'Class', 'Genus', 'Number', 'Family', 'Order']\n",
      "[root    |INFO|build_network.py:524] ------------------------------------------------------------------------------------------\n",
      "[root    |INFO|build_network.py:534] Build edge weights between [ Genus, Family]\n",
      "[root    |INFO|build_network.py:534] Build edge weights between [Family,  Order]\n",
      "[root    |INFO|build_network.py:534] Build edge weights between [ Order,  Class]\n",
      "[root    |INFO|build_network.py:534] Build edge weights between [ Class, Phylum]\n",
      "[root    |INFO|build_network.py:547] ------------------------------------------------------------------------------------------\n",
      "[root    |INFO|build_network.py:563] ------------------------------------------------------------------------------------------\n",
      "[root    |INFO|build_network.py:564] Build network based on phylogenetic tree information\n",
      "[root    |INFO|build_network.py:565] ------------------------------------------------------------------------------------------\n"
     ]
    },
    {
     "name": "stdout",
     "output_type": "stream",
     "text": [
      "WARNING:tensorflow:From /usr/local/lib/python3.5/dist-packages/tensorflow/python/ops/resource_variable_ops.py:432: colocate_with (from tensorflow.python.framework.ops) is deprecated and will be removed in a future version.\n",
      "Instructions for updating:\n",
      "Colocations handled automatically by placer.\n"
     ]
    },
    {
     "name": "stderr",
     "output_type": "stream",
     "text": [
      "[tensorflow|WARNING|deprecation.py:328] From /usr/local/lib/python3.5/dist-packages/tensorflow/python/ops/resource_variable_ops.py:432: colocate_with (from tensorflow.python.framework.ops) is deprecated and will be removed in a future version.\n",
      "Instructions for updating:\n",
      "Colocations handled automatically by placer.\n",
      "[root    |INFO|build_network.py:636] ------------------------------------------------------------------------------------------\n"
     ]
    },
    {
     "name": "stdout",
     "output_type": "stream",
     "text": [
      "Model: \"model_1\"\n",
      "_________________________________________________________________\n",
      "Layer (type)                 Output Shape              Param #   \n",
      "=================================================================\n",
      "input (InputLayer)           (None, 48)                0         \n",
      "_________________________________________________________________\n",
      "l1_dense (Dense_with_tree)   (None, 40)                1960      \n",
      "_________________________________________________________________\n",
      "l1_activation (Activation)   (None, 40)                0         \n",
      "_________________________________________________________________\n",
      "l2_dense (Dense_with_tree)   (None, 23)                943       \n",
      "_________________________________________________________________\n",
      "l2_activation (Activation)   (None, 23)                0         \n",
      "_________________________________________________________________\n",
      "l3_dense (Dense_with_tree)   (None, 17)                408       \n",
      "_________________________________________________________________\n",
      "l3_activation (Activation)   (None, 17)                0         \n",
      "_________________________________________________________________\n",
      "l4_dense (Dense_with_tree)   (None, 9)                 162       \n",
      "_________________________________________________________________\n",
      "l4_activation (Activation)   (None, 9)                 0         \n",
      "_________________________________________________________________\n",
      "last_dense_h (Dense)         (None, 1)                 10        \n",
      "_________________________________________________________________\n",
      "p_hat (Activation)           (None, 1)                 0         \n",
      "=================================================================\n",
      "Total params: 3,483\n",
      "Trainable params: 3,483\n",
      "Non-trainable params: 0\n",
      "_________________________________________________________________\n",
      "WARNING:tensorflow:From /DATA/home/muha/github_repos/deepbiome/deepbiome/loss_and_metric.py:51: py_func (from tensorflow.python.ops.script_ops) is deprecated and will be removed in a future version.\n",
      "Instructions for updating:\n",
      "tf.py_func is deprecated in TF V2. Instead, use\n",
      "    tf.py_function, which takes a python function which manipulates tf eager\n",
      "    tensors instead of numpy arrays. It's easy to convert a tf eager tensor to\n",
      "    an ndarray (just call tensor.numpy()) but having access to eager tensors\n",
      "    means `tf.py_function`s can use accelerators such as GPUs as well as\n",
      "    being differentiable using a gradient tape.\n",
      "    \n"
     ]
    },
    {
     "name": "stderr",
     "output_type": "stream",
     "text": [
      "[tensorflow|WARNING|deprecation.py:328] From /DATA/home/muha/github_repos/deepbiome/deepbiome/loss_and_metric.py:51: py_func (from tensorflow.python.ops.script_ops) is deprecated and will be removed in a future version.\n",
      "Instructions for updating:\n",
      "tf.py_func is deprecated in TF V2. Instead, use\n",
      "    tf.py_function, which takes a python function which manipulates tf eager\n",
      "    tensors instead of numpy arrays. It's easy to convert a tf eager tensor to\n",
      "    an ndarray (just call tensor.numpy()) but having access to eager tensors\n",
      "    means `tf.py_function`s can use accelerators such as GPUs as well as\n",
      "    being differentiable using a gradient tape.\n",
      "    \n",
      "[root    |INFO|build_network.py:57] Build Network\n",
      "[root    |INFO|build_network.py:58] Optimizer = adam\n",
      "[root    |INFO|build_network.py:59] Loss = binary_crossentropy\n",
      "[root    |INFO|build_network.py:60] Metrics = binary_accuracy, sensitivity, specificity, gmeasure, auc\n",
      "[root    |INFO|deepbiome.py:111] -----------------------------------------------------------------\n",
      "[root    |INFO|deepbiome.py:112] 1 fold computing start!----------------------------------\n",
      "[root    |INFO|build_network.py:136] Training start!\n"
     ]
    },
    {
     "name": "stdout",
     "output_type": "stream",
     "text": [
      "WARNING:tensorflow:From /usr/local/lib/python3.5/dist-packages/tensorflow/python/ops/math_ops.py:2862: to_int32 (from tensorflow.python.ops.math_ops) is deprecated and will be removed in a future version.\n",
      "Instructions for updating:\n",
      "Use tf.cast instead.\n"
     ]
    },
    {
     "name": "stderr",
     "output_type": "stream",
     "text": [
      "[tensorflow|WARNING|deprecation.py:328] From /usr/local/lib/python3.5/dist-packages/tensorflow/python/ops/math_ops.py:2862: to_int32 (from tensorflow.python.ops.math_ops) is deprecated and will be removed in a future version.\n",
      "Instructions for updating:\n",
      "Use tf.cast instead.\n"
     ]
    },
    {
     "name": "stdout",
     "output_type": "stream",
     "text": [
      "Train on 600 samples, validate on 150 samples\n",
      "Epoch 1/10\n",
      "600/600 [==============================] - 1s 909us/step - loss: 11.0946 - binary_accuracy: 0.3117 - sensitivity: 0.0000e+00 - specificity: 1.0000 - gmeasure: 0.0000e+00 - auc: 0.4534 - val_loss: 11.2827 - val_binary_accuracy: 0.3000 - val_sensitivity: 0.0000e+00 - val_specificity: 1.0000 - val_gmeasure: 0.0000e+00 - val_auc: 0.4971\n",
      "Epoch 2/10\n",
      "600/600 [==============================] - 0s 35us/step - loss: 11.0946 - binary_accuracy: 0.3117 - sensitivity: 0.0000e+00 - specificity: 1.0000 - gmeasure: 0.0000e+00 - auc: 0.4554 - val_loss: 11.2827 - val_binary_accuracy: 0.3000 - val_sensitivity: 0.0000e+00 - val_specificity: 1.0000 - val_gmeasure: 0.0000e+00 - val_auc: 0.4971\n",
      "Epoch 3/10\n",
      "600/600 [==============================] - 0s 34us/step - loss: 11.0946 - binary_accuracy: 0.3117 - sensitivity: 0.0000e+00 - specificity: 1.0000 - gmeasure: 0.0000e+00 - auc: 0.4526 - val_loss: 11.2827 - val_binary_accuracy: 0.3000 - val_sensitivity: 0.0000e+00 - val_specificity: 1.0000 - val_gmeasure: 0.0000e+00 - val_auc: 0.4971\n",
      "Epoch 4/10\n",
      "600/600 [==============================] - 0s 29us/step - loss: 11.0946 - binary_accuracy: 0.3117 - sensitivity: 0.0000e+00 - specificity: 1.0000 - gmeasure: 0.0000e+00 - auc: 0.4499 - val_loss: 11.2827 - val_binary_accuracy: 0.3000 - val_sensitivity: 0.0000e+00 - val_specificity: 1.0000 - val_gmeasure: 0.0000e+00 - val_auc: 0.4971\n",
      "Epoch 5/10\n",
      "600/600 [==============================] - 0s 31us/step - loss: 11.0946 - binary_accuracy: 0.3117 - sensitivity: 0.0000e+00 - specificity: 1.0000 - gmeasure: 0.0000e+00 - auc: 0.4505 - val_loss: 11.2827 - val_binary_accuracy: 0.3000 - val_sensitivity: 0.0000e+00 - val_specificity: 1.0000 - val_gmeasure: 0.0000e+00 - val_auc: 0.4971\n",
      "Epoch 6/10\n",
      "600/600 [==============================] - 0s 28us/step - loss: 11.0946 - binary_accuracy: 0.3117 - sensitivity: 0.0000e+00 - specificity: 1.0000 - gmeasure: 0.0000e+00 - auc: 0.4536 - val_loss: 11.2827 - val_binary_accuracy: 0.3000 - val_sensitivity: 0.0000e+00 - val_specificity: 1.0000 - val_gmeasure: 0.0000e+00 - val_auc: 0.4971\n",
      "Epoch 7/10\n",
      "600/600 [==============================] - 0s 29us/step - loss: 11.0946 - binary_accuracy: 0.3117 - sensitivity: 0.0000e+00 - specificity: 1.0000 - gmeasure: 0.0000e+00 - auc: 0.4592 - val_loss: 11.2827 - val_binary_accuracy: 0.3000 - val_sensitivity: 0.0000e+00 - val_specificity: 1.0000 - val_gmeasure: 0.0000e+00 - val_auc: 0.4971\n",
      "Epoch 8/10\n",
      "600/600 [==============================] - 0s 30us/step - loss: 11.0946 - binary_accuracy: 0.3117 - sensitivity: 0.0000e+00 - specificity: 1.0000 - gmeasure: 0.0000e+00 - auc: 0.4490 - val_loss: 11.2827 - val_binary_accuracy: 0.3000 - val_sensitivity: 0.0000e+00 - val_specificity: 1.0000 - val_gmeasure: 0.0000e+00 - val_auc: 0.4971\n",
      "Epoch 9/10\n",
      "600/600 [==============================] - 0s 30us/step - loss: 11.0946 - binary_accuracy: 0.3117 - sensitivity: 0.0000e+00 - specificity: 1.0000 - gmeasure: 0.0000e+00 - auc: 0.4517 - val_loss: 11.2827 - val_binary_accuracy: 0.3000 - val_sensitivity: 0.0000e+00 - val_specificity: 1.0000 - val_gmeasure: 0.0000e+00 - val_auc: 0.4971\n",
      "Epoch 10/10\n",
      "600/600 [==============================] - 0s 30us/step - loss: 11.0946 - binary_accuracy: 0.3117 - sensitivity: 0.0000e+00 - specificity: 1.0000 - gmeasure: 0.0000e+00 - auc: 0.4566 - val_loss: 11.2827 - val_binary_accuracy: 0.3000 - val_sensitivity: 0.0000e+00 - val_specificity: 1.0000 - val_gmeasure: 0.0000e+00 - val_auc: 0.4971\n"
     ]
    },
    {
     "name": "stderr",
     "output_type": "stream",
     "text": [
      "[root    |INFO|build_network.py:146] Training end with time 3.0055654048919678!\n",
      "[root    |INFO|build_network.py:79] Saved trained model weight at ./simulation_s2/simulation_s2_deepbiome/weight/weight_0.h5 \n",
      "[root    |DEBUG|deepbiome.py:120] Save weight at ./simulation_s2/simulation_s2_deepbiome/weight/weight_0.h5\n",
      "[root    |INFO|build_network.py:172] Evaluation start!\n"
     ]
    },
    {
     "name": "stdout",
     "output_type": "stream",
     "text": [
      "\r",
      "750/750 [==============================] - 0s 3us/step\n"
     ]
    },
    {
     "name": "stderr",
     "output_type": "stream",
     "text": [
      "[root    |INFO|build_network.py:177] Evaluation end with time 0.007144451141357422!\n",
      "[root    |INFO|build_network.py:178] Evaluation: [11.132231712341309, 0.30933332443237305, 0.0, 1.0, 0.0, 0.4608990252017975]\n",
      "[root    |INFO|build_network.py:172] Evaluation start!\n"
     ]
    },
    {
     "name": "stdout",
     "output_type": "stream",
     "text": [
      "\r",
      "250/250 [==============================] - 0s 10us/step\n"
     ]
    },
    {
     "name": "stderr",
     "output_type": "stream",
     "text": [
      "[root    |INFO|build_network.py:177] Evaluation end with time 0.008138895034790039!\n",
      "[root    |INFO|build_network.py:178] Evaluation: [10.895832061767578, 0.3240000009536743, 0.0, 1.0, 0.0, 0.5190298557281494]\n",
      "[root    |INFO|deepbiome.py:132] Compute time : 5.786710023880005\n",
      "[root    |INFO|deepbiome.py:133] 1 fold computing end!---------------------------------------------\n",
      "[root    |INFO|deepbiome.py:93] -------2 simulation start!----------------------------------\n",
      "[root    |INFO|readers.py:59] -----------------------------------------------------------------------\n",
      "[root    |INFO|readers.py:60] Construct Dataset\n",
      "[root    |INFO|readers.py:61] -----------------------------------------------------------------------\n",
      "[root    |INFO|readers.py:62] Load data\n",
      "[root    |INFO|deepbiome.py:103] -----------------------------------------------------------------\n",
      "[root    |INFO|deepbiome.py:104] Build network for 2 simulation\n",
      "[root    |INFO|build_network.py:508] ------------------------------------------------------------------------------------------\n",
      "[root    |INFO|build_network.py:509] Read phylogenetic tree information from data/genus48/genus48_dic.csv\n",
      "[root    |INFO|build_network.py:513] Phylogenetic tree level list: ['Genus', 'Family', 'Order', 'Class', 'Phylum']\n",
      "[root    |INFO|build_network.py:514] ------------------------------------------------------------------------------------------\n",
      "[root    |INFO|build_network.py:519]      Genus: 48\n",
      "[root    |INFO|build_network.py:519]     Family: 40\n",
      "[root    |INFO|build_network.py:519]      Order: 23\n",
      "[root    |INFO|build_network.py:519]      Class: 17\n",
      "[root    |INFO|build_network.py:519]     Phylum: 9\n",
      "[root    |INFO|build_network.py:522] ------------------------------------------------------------------------------------------\n",
      "[root    |INFO|build_network.py:523] Phylogenetic_tree_dict info: ['Phylum', 'Class', 'Genus', 'Number', 'Family', 'Order']\n",
      "[root    |INFO|build_network.py:524] ------------------------------------------------------------------------------------------\n",
      "[root    |INFO|build_network.py:534] Build edge weights between [ Genus, Family]\n",
      "[root    |INFO|build_network.py:534] Build edge weights between [Family,  Order]\n",
      "[root    |INFO|build_network.py:534] Build edge weights between [ Order,  Class]\n",
      "[root    |INFO|build_network.py:534] Build edge weights between [ Class, Phylum]\n",
      "[root    |INFO|build_network.py:547] ------------------------------------------------------------------------------------------\n",
      "[root    |INFO|build_network.py:563] ------------------------------------------------------------------------------------------\n",
      "[root    |INFO|build_network.py:564] Build network based on phylogenetic tree information\n",
      "[root    |INFO|build_network.py:565] ------------------------------------------------------------------------------------------\n",
      "[root    |INFO|build_network.py:636] ------------------------------------------------------------------------------------------\n",
      "[root    |INFO|build_network.py:57] Build Network\n",
      "[root    |INFO|build_network.py:58] Optimizer = adam\n",
      "[root    |INFO|build_network.py:59] Loss = binary_crossentropy\n",
      "[root    |INFO|build_network.py:60] Metrics = binary_accuracy, sensitivity, specificity, gmeasure, auc\n"
     ]
    },
    {
     "name": "stdout",
     "output_type": "stream",
     "text": [
      "Model: \"model_1\"\n",
      "_________________________________________________________________\n",
      "Layer (type)                 Output Shape              Param #   \n",
      "=================================================================\n",
      "input (InputLayer)           (None, 48)                0         \n",
      "_________________________________________________________________\n",
      "l1_dense (Dense_with_tree)   (None, 40)                1960      \n",
      "_________________________________________________________________\n",
      "l1_activation (Activation)   (None, 40)                0         \n",
      "_________________________________________________________________\n",
      "l2_dense (Dense_with_tree)   (None, 23)                943       \n",
      "_________________________________________________________________\n",
      "l2_activation (Activation)   (None, 23)                0         \n",
      "_________________________________________________________________\n",
      "l3_dense (Dense_with_tree)   (None, 17)                408       \n",
      "_________________________________________________________________\n",
      "l3_activation (Activation)   (None, 17)                0         \n",
      "_________________________________________________________________\n",
      "l4_dense (Dense_with_tree)   (None, 9)                 162       \n",
      "_________________________________________________________________\n",
      "l4_activation (Activation)   (None, 9)                 0         \n",
      "_________________________________________________________________\n",
      "last_dense_h (Dense)         (None, 1)                 10        \n",
      "_________________________________________________________________\n",
      "p_hat (Activation)           (None, 1)                 0         \n",
      "=================================================================\n",
      "Total params: 3,483\n",
      "Trainable params: 3,483\n",
      "Non-trainable params: 0\n",
      "_________________________________________________________________\n"
     ]
    },
    {
     "name": "stderr",
     "output_type": "stream",
     "text": [
      "[root    |INFO|deepbiome.py:111] -----------------------------------------------------------------\n",
      "[root    |INFO|deepbiome.py:112] 2 fold computing start!----------------------------------\n",
      "[root    |INFO|build_network.py:136] Training start!\n"
     ]
    },
    {
     "name": "stdout",
     "output_type": "stream",
     "text": [
      "Train on 600 samples, validate on 150 samples\n",
      "Epoch 1/10\n",
      "600/600 [==============================] - 0s 589us/step - loss: 4.6405 - binary_accuracy: 0.2717 - sensitivity: 0.0000e+00 - specificity: 1.0000 - gmeasure: 0.0000e+00 - auc: 0.5133 - val_loss: 1.6818 - val_binary_accuracy: 0.2733 - val_sensitivity: 0.0000e+00 - val_specificity: 1.0000 - val_gmeasure: 0.0000e+00 - val_auc: 0.5469\n",
      "Epoch 2/10\n",
      "600/600 [==============================] - 0s 33us/step - loss: 1.5507 - binary_accuracy: 0.2717 - sensitivity: 0.0000e+00 - specificity: 1.0000 - gmeasure: 0.0000e+00 - auc: 0.5149 - val_loss: 1.3384 - val_binary_accuracy: 0.2733 - val_sensitivity: 0.0000e+00 - val_specificity: 1.0000 - val_gmeasure: 0.0000e+00 - val_auc: 0.5252\n",
      "Epoch 3/10\n",
      "600/600 [==============================] - 0s 31us/step - loss: 1.2741 - binary_accuracy: 0.2717 - sensitivity: 0.0000e+00 - specificity: 1.0000 - gmeasure: 0.0000e+00 - auc: 0.5329 - val_loss: 1.1641 - val_binary_accuracy: 0.2733 - val_sensitivity: 0.0000e+00 - val_specificity: 1.0000 - val_gmeasure: 0.0000e+00 - val_auc: 0.5158\n",
      "Epoch 4/10\n",
      "600/600 [==============================] - 0s 32us/step - loss: 1.1251 - binary_accuracy: 0.2717 - sensitivity: 0.0000e+00 - specificity: 1.0000 - gmeasure: 0.0000e+00 - auc: 0.5374 - val_loss: 1.0535 - val_binary_accuracy: 0.2733 - val_sensitivity: 0.0000e+00 - val_specificity: 1.0000 - val_gmeasure: 0.0000e+00 - val_auc: 0.5001\n",
      "Epoch 5/10\n",
      "600/600 [==============================] - 0s 33us/step - loss: 1.0278 - binary_accuracy: 0.2717 - sensitivity: 0.0000e+00 - specificity: 1.0000 - gmeasure: 0.0000e+00 - auc: 0.5451 - val_loss: 0.9754 - val_binary_accuracy: 0.2733 - val_sensitivity: 0.0000e+00 - val_specificity: 1.0000 - val_gmeasure: 0.0000e+00 - val_auc: 0.4963\n",
      "Epoch 6/10\n",
      "600/600 [==============================] - 0s 34us/step - loss: 0.9565 - binary_accuracy: 0.2717 - sensitivity: 0.0000e+00 - specificity: 1.0000 - gmeasure: 0.0000e+00 - auc: 0.5438 - val_loss: 0.9169 - val_binary_accuracy: 0.2733 - val_sensitivity: 0.0000e+00 - val_specificity: 1.0000 - val_gmeasure: 0.0000e+00 - val_auc: 0.4889\n",
      "Epoch 7/10\n",
      "600/600 [==============================] - 0s 34us/step - loss: 0.9016 - binary_accuracy: 0.2717 - sensitivity: 0.0000e+00 - specificity: 1.0000 - gmeasure: 0.0000e+00 - auc: 0.5402 - val_loss: 0.8710 - val_binary_accuracy: 0.2733 - val_sensitivity: 0.0000e+00 - val_specificity: 1.0000 - val_gmeasure: 0.0000e+00 - val_auc: 0.4851\n",
      "Epoch 8/10\n",
      "600/600 [==============================] - 0s 30us/step - loss: 0.8585 - binary_accuracy: 0.2717 - sensitivity: 0.0000e+00 - specificity: 1.0000 - gmeasure: 0.0000e+00 - auc: 0.5486 - val_loss: 0.8338 - val_binary_accuracy: 0.2733 - val_sensitivity: 0.0000e+00 - val_specificity: 1.0000 - val_gmeasure: 0.0000e+00 - val_auc: 0.4679\n",
      "Epoch 9/10\n",
      "600/600 [==============================] - 0s 29us/step - loss: 0.8239 - binary_accuracy: 0.2717 - sensitivity: 0.0000e+00 - specificity: 1.0000 - gmeasure: 0.0000e+00 - auc: 0.5510 - val_loss: 0.8028 - val_binary_accuracy: 0.2733 - val_sensitivity: 0.0000e+00 - val_specificity: 1.0000 - val_gmeasure: 0.0000e+00 - val_auc: 0.4594\n",
      "Epoch 10/10\n",
      "600/600 [==============================] - ETA: 0s - loss: 0.8080 - binary_accuracy: 0.2600 - sensitivity: 0.0000e+00 - specificity: 1.0000 - gmeasure: 0.0000e+00 - auc: 0.52 - 0s 34us/step - loss: 0.7943 - binary_accuracy: 0.2717 - sensitivity: 0.0000e+00 - specificity: 1.0000 - gmeasure: 0.0000e+00 - auc: 0.5464 - val_loss: 0.7763 - val_binary_accuracy: 0.2733 - val_sensitivity: 0.0000e+00 - val_specificity: 1.0000 - val_gmeasure: 0.0000e+00 - val_auc: 0.4508\n"
     ]
    },
    {
     "name": "stderr",
     "output_type": "stream",
     "text": [
      "[root    |INFO|build_network.py:146] Training end with time 1.4760422706604004!\n",
      "[root    |INFO|build_network.py:79] Saved trained model weight at ./simulation_s2/simulation_s2_deepbiome/weight/weight_1.h5 \n",
      "[root    |DEBUG|deepbiome.py:120] Save weight at ./simulation_s2/simulation_s2_deepbiome/weight/weight_1.h5\n",
      "[root    |INFO|build_network.py:172] Evaluation start!\n"
     ]
    },
    {
     "name": "stdout",
     "output_type": "stream",
     "text": [
      "\r",
      "750/750 [==============================] - 0s 3us/step\n"
     ]
    },
    {
     "name": "stderr",
     "output_type": "stream",
     "text": [
      "[root    |INFO|build_network.py:177] Evaluation end with time 0.0070536136627197266!\n",
      "[root    |INFO|build_network.py:178] Evaluation: [0.7767019867897034, 0.2720000147819519, 0.0, 1.0, 0.0, 0.525892436504364]\n",
      "[root    |INFO|build_network.py:172] Evaluation start!\n"
     ]
    },
    {
     "name": "stdout",
     "output_type": "stream",
     "text": [
      "\r",
      "250/250 [==============================] - 0s 10us/step\n"
     ]
    },
    {
     "name": "stderr",
     "output_type": "stream",
     "text": [
      "[root    |INFO|build_network.py:177] Evaluation end with time 0.00684356689453125!\n",
      "[root    |INFO|build_network.py:178] Evaluation: [0.7667507529258728, 0.30399999022483826, 0.0, 1.0, 0.0, 0.48147308826446533]\n",
      "[root    |INFO|deepbiome.py:132] Compute time : 2.6687440872192383\n",
      "[root    |INFO|deepbiome.py:133] 2 fold computing end!---------------------------------------------\n",
      "[root    |INFO|deepbiome.py:136] -----------------------------------------------------------------\n",
      "[root    |INFO|deepbiome.py:138] Train Evaluation : ['loss' 'binary_accuracy' 'sensitivity' 'specificity' 'gmeasure' 'auc']\n",
      "[root    |INFO|deepbiome.py:141]       mean : [5.95446685 0.29066667 0.         1.         0.         0.49339573]\n",
      "[root    |INFO|deepbiome.py:142]        std : [5.17776486 0.01866665 0.         0.         0.         0.03249671]\n",
      "[root    |INFO|deepbiome.py:143] -----------------------------------------------------------------\n",
      "[root    |INFO|deepbiome.py:145] Test Evaluation : ['loss' 'binary_accuracy' 'sensitivity' 'specificity' 'gmeasure' 'auc']\n",
      "[root    |INFO|deepbiome.py:148]       mean : [5.83129141 0.314      0.         1.         0.         0.50025147]\n",
      "[root    |INFO|deepbiome.py:149]        std : [5.06454065 0.01000001 0.         0.         0.         0.01877838]\n",
      "[root    |INFO|deepbiome.py:150] -----------------------------------------------------------------\n",
      "[root    |INFO|deepbiome.py:159] Total Computing Ended\n",
      "[root    |INFO|deepbiome.py:160] -----------------------------------------------------------------\n"
     ]
    }
   ],
   "source": [
    "test_evaluation, train_evaluation, network = deepbiome_train(log, network_info, path_info, number_of_fold=2)"
   ]
  },
  {
   "cell_type": "code",
   "execution_count": 6,
   "metadata": {},
   "outputs": [
    {
     "data": {
      "text/plain": [
       "array([[10.89583206,  0.324     ,  0.        ,  1.        ,  0.        ,\n",
       "         0.51902986],\n",
       "       [ 0.76675075,  0.30399999,  0.        ,  1.        ,  0.        ,\n",
       "         0.48147309]])"
      ]
     },
     "execution_count": 6,
     "metadata": {},
     "output_type": "execute_result"
    }
   ],
   "source": [
    "test_evaluation"
   ]
  }
 ],
 "metadata": {
  "kernelspec": {
   "display_name": "Python 3",
   "language": "python",
   "name": "python3"
  },
  "language_info": {
   "codemirror_mode": {
    "name": "ipython",
    "version": 3
   },
   "file_extension": ".py",
   "mimetype": "text/x-python",
   "name": "python",
   "nbconvert_exporter": "python",
   "pygments_lexer": "ipython3",
   "version": "3.5.2"
  }
 },
 "nbformat": 4,
 "nbformat_minor": 2
}
