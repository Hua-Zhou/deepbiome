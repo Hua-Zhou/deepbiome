{
 "cells": [
  {
   "cell_type": "markdown",
   "metadata": {},
   "source": [
    "# DeepBiome Usage"
   ]
  },
  {
   "cell_type": "code",
   "execution_count": 1,
   "metadata": {},
   "outputs": [
    {
     "name": "stderr",
     "output_type": "stream",
     "text": [
      "Using TensorFlow backend.\n"
     ]
    }
   ],
   "source": [
    "from deepbiome.deepbiome import *"
   ]
  },
  {
   "cell_type": "markdown",
   "metadata": {},
   "source": [
    "### Arguments"
   ]
  },
  {
   "cell_type": "code",
   "execution_count": 2,
   "metadata": {
    "collapsed": true
   },
   "outputs": [],
   "source": [
    "logging.basicConfig(format = '[%(name)-8s|%(levelname)s|%(filename)s:%(lineno)s] %(message)s',\n",
    "                    level=logging.DEBUG)\n",
    "log = logging.getLogger()"
   ]
  },
  {
   "cell_type": "code",
   "execution_count": 3,
   "metadata": {
    "collapsed": true
   },
   "outputs": [],
   "source": [
    "network_info = {\n",
    "    'architecture_info': {\n",
    "        'batch_normalization': 'False',\n",
    "        'drop_out': '0',\n",
    "        'weight_initial': 'glorot_uniform',\n",
    "        'weight_l1_penalty':'0.01',\n",
    "        'weight_decay': 'phylogenetic_tree',\n",
    "    },\n",
    "    'model_info': {\n",
    "        'decay': '0.001',\n",
    "        'loss': 'binary_crossentropy',\n",
    "        'lr': '0.01',\n",
    "        'metrics': 'binary_accuracy, sensitivity, specificity, gmeasure, auc',\n",
    "        'network_class': 'DeepBiomeNetwork',\n",
    "        'normalizer': 'normalize_minmax',\n",
    "        'optimizer': 'adam',\n",
    "        'reader_class': 'MicroBiomeReader',\n",
    "        'texa_selection_metrics': 'accuracy, sensitivity, specificity, gmeasure'\n",
    "    },\n",
    "    'tensorboard_info': {\n",
    "        'histogram_freq': '0',\n",
    "        'tensorboard_dir': 'None',\n",
    "        'write_grads': 'False',\n",
    "        'write_graph': 'False',\n",
    "        'write_image': 'False',\n",
    "        'write_weights_histogram': 'False',\n",
    "        'write_weights_images': 'False'},\n",
    "    'test_info': {\n",
    "        'batch_size': 'None'\n",
    "    },\n",
    "    'training_info': {\n",
    "        'batch_size': '200', 'epochs': '10'\n",
    "    },\n",
    "    'validation_info': {\n",
    "        'batch_size': 'None', 'validation_size': '0.2'\n",
    "    }\n",
    "}"
   ]
  },
  {
   "cell_type": "code",
   "execution_count": 4,
   "metadata": {
    "collapsed": true
   },
   "outputs": [],
   "source": [
    "path_info = {\n",
    "    'data_info': {\n",
    "        'count_list_path': 'data/simulation/gcount_list.csv',\n",
    "        'count_path': 'data/simulation/count',\n",
    "        'data_path': 'data/simulation/s2/',\n",
    "        'idx_path': 'data/simulation/s2/idx.csv',\n",
    "        'tree_info_path': 'data/genus48/genus48_dic.csv',\n",
    "        'x_path': '',\n",
    "        'y_path': 'y.csv'\n",
    "    },\n",
    "    'model_info': {\n",
    "        'evaluation': 'eval.npy',\n",
    "        'history': 'history/hist.json',\n",
    "        'model_dir': './simulation_s2/simulation_s2_deepbiome/',\n",
    "        'weight': 'weight/weight.h5'\n",
    "    }\n",
    "}"
   ]
  },
  {
   "cell_type": "markdown",
   "metadata": {},
   "source": [
    "## Deepbiome Training"
   ]
  },
  {
   "cell_type": "code",
   "execution_count": 5,
   "metadata": {},
   "outputs": [
    {
     "name": "stderr",
     "output_type": "stream",
     "text": [
      "[root    |INFO|deepbiome.py:72] -----------------------------------------------------------------\n",
      "[root    |INFO|deepbiome.py:97] -------1 simulation start!----------------------------------\n",
      "[root    |INFO|readers.py:59] -----------------------------------------------------------------------\n",
      "[root    |INFO|readers.py:60] Construct Dataset\n",
      "[root    |INFO|readers.py:61] -----------------------------------------------------------------------\n",
      "[root    |INFO|readers.py:62] Load data\n",
      "[root    |INFO|deepbiome.py:107] -----------------------------------------------------------------\n",
      "[root    |INFO|deepbiome.py:108] Build network for 1 simulation\n",
      "[root    |INFO|build_network.py:508] ------------------------------------------------------------------------------------------\n",
      "[root    |INFO|build_network.py:509] Read phylogenetic tree information from data/genus48/genus48_dic.csv\n",
      "[root    |INFO|build_network.py:513] Phylogenetic tree level list: ['Genus', 'Family', 'Order', 'Class', 'Phylum']\n",
      "[root    |INFO|build_network.py:514] ------------------------------------------------------------------------------------------\n",
      "[root    |INFO|build_network.py:519]      Genus: 48\n",
      "[root    |INFO|build_network.py:519]     Family: 40\n",
      "[root    |INFO|build_network.py:519]      Order: 23\n",
      "[root    |INFO|build_network.py:519]      Class: 17\n",
      "[root    |INFO|build_network.py:519]     Phylum: 9\n",
      "[root    |INFO|build_network.py:522] ------------------------------------------------------------------------------------------\n",
      "[root    |INFO|build_network.py:523] Phylogenetic_tree_dict info: ['Genus', 'Number', 'Phylum', 'Order', 'Family', 'Class']\n",
      "[root    |INFO|build_network.py:524] ------------------------------------------------------------------------------------------\n",
      "[root    |INFO|build_network.py:534] Build edge weights between [ Genus, Family]\n",
      "[root    |INFO|build_network.py:534] Build edge weights between [Family,  Order]\n",
      "[root    |INFO|build_network.py:534] Build edge weights between [ Order,  Class]\n",
      "[root    |INFO|build_network.py:534] Build edge weights between [ Class, Phylum]\n",
      "[root    |INFO|build_network.py:547] ------------------------------------------------------------------------------------------\n",
      "[root    |INFO|build_network.py:563] ------------------------------------------------------------------------------------------\n",
      "[root    |INFO|build_network.py:564] Build network based on phylogenetic tree information\n",
      "[root    |INFO|build_network.py:565] ------------------------------------------------------------------------------------------\n"
     ]
    },
    {
     "name": "stdout",
     "output_type": "stream",
     "text": [
      "WARNING:tensorflow:From /usr/local/lib/python3.5/dist-packages/tensorflow/python/ops/resource_variable_ops.py:432: colocate_with (from tensorflow.python.framework.ops) is deprecated and will be removed in a future version.\n",
      "Instructions for updating:\n",
      "Colocations handled automatically by placer.\n"
     ]
    },
    {
     "name": "stderr",
     "output_type": "stream",
     "text": [
      "[tensorflow|WARNING|deprecation.py:328] From /usr/local/lib/python3.5/dist-packages/tensorflow/python/ops/resource_variable_ops.py:432: colocate_with (from tensorflow.python.framework.ops) is deprecated and will be removed in a future version.\n",
      "Instructions for updating:\n",
      "Colocations handled automatically by placer.\n",
      "[root    |INFO|build_network.py:636] ------------------------------------------------------------------------------------------\n"
     ]
    },
    {
     "name": "stdout",
     "output_type": "stream",
     "text": [
      "Model: \"model_1\"\n",
      "_________________________________________________________________\n",
      "Layer (type)                 Output Shape              Param #   \n",
      "=================================================================\n",
      "input (InputLayer)           (None, 48)                0         \n",
      "_________________________________________________________________\n",
      "l1_dense (Dense_with_tree)   (None, 40)                1960      \n",
      "_________________________________________________________________\n",
      "l1_activation (Activation)   (None, 40)                0         \n",
      "_________________________________________________________________\n",
      "l2_dense (Dense_with_tree)   (None, 23)                943       \n",
      "_________________________________________________________________\n",
      "l2_activation (Activation)   (None, 23)                0         \n",
      "_________________________________________________________________\n",
      "l3_dense (Dense_with_tree)   (None, 17)                408       \n",
      "_________________________________________________________________\n",
      "l3_activation (Activation)   (None, 17)                0         \n",
      "_________________________________________________________________\n",
      "l4_dense (Dense_with_tree)   (None, 9)                 162       \n",
      "_________________________________________________________________\n",
      "l4_activation (Activation)   (None, 9)                 0         \n",
      "_________________________________________________________________\n",
      "last_dense_h (Dense)         (None, 1)                 10        \n",
      "_________________________________________________________________\n",
      "p_hat (Activation)           (None, 1)                 0         \n",
      "=================================================================\n",
      "Total params: 3,483\n",
      "Trainable params: 3,483\n",
      "Non-trainable params: 0\n",
      "_________________________________________________________________\n",
      "WARNING:tensorflow:From /DATA/home/muha/github_repos/deepbiome/deepbiome/loss_and_metric.py:51: py_func (from tensorflow.python.ops.script_ops) is deprecated and will be removed in a future version.\n",
      "Instructions for updating:\n",
      "tf.py_func is deprecated in TF V2. Instead, use\n",
      "    tf.py_function, which takes a python function which manipulates tf eager\n",
      "    tensors instead of numpy arrays. It's easy to convert a tf eager tensor to\n",
      "    an ndarray (just call tensor.numpy()) but having access to eager tensors\n",
      "    means `tf.py_function`s can use accelerators such as GPUs as well as\n",
      "    being differentiable using a gradient tape.\n",
      "    \n"
     ]
    },
    {
     "name": "stderr",
     "output_type": "stream",
     "text": [
      "[tensorflow|WARNING|deprecation.py:328] From /DATA/home/muha/github_repos/deepbiome/deepbiome/loss_and_metric.py:51: py_func (from tensorflow.python.ops.script_ops) is deprecated and will be removed in a future version.\n",
      "Instructions for updating:\n",
      "tf.py_func is deprecated in TF V2. Instead, use\n",
      "    tf.py_function, which takes a python function which manipulates tf eager\n",
      "    tensors instead of numpy arrays. It's easy to convert a tf eager tensor to\n",
      "    an ndarray (just call tensor.numpy()) but having access to eager tensors\n",
      "    means `tf.py_function`s can use accelerators such as GPUs as well as\n",
      "    being differentiable using a gradient tape.\n",
      "    \n",
      "[root    |INFO|build_network.py:57] Build Network\n",
      "[root    |INFO|build_network.py:58] Optimizer = adam\n",
      "[root    |INFO|build_network.py:59] Loss = binary_crossentropy\n",
      "[root    |INFO|build_network.py:60] Metrics = binary_accuracy, sensitivity, specificity, gmeasure, auc\n",
      "[root    |INFO|deepbiome.py:115] -----------------------------------------------------------------\n",
      "[root    |INFO|deepbiome.py:116] 1 fold computing start!----------------------------------\n",
      "[root    |INFO|build_network.py:136] Training start!\n"
     ]
    },
    {
     "name": "stdout",
     "output_type": "stream",
     "text": [
      "WARNING:tensorflow:From /usr/local/lib/python3.5/dist-packages/tensorflow/python/ops/math_ops.py:2862: to_int32 (from tensorflow.python.ops.math_ops) is deprecated and will be removed in a future version.\n",
      "Instructions for updating:\n",
      "Use tf.cast instead.\n"
     ]
    },
    {
     "name": "stderr",
     "output_type": "stream",
     "text": [
      "[tensorflow|WARNING|deprecation.py:328] From /usr/local/lib/python3.5/dist-packages/tensorflow/python/ops/math_ops.py:2862: to_int32 (from tensorflow.python.ops.math_ops) is deprecated and will be removed in a future version.\n",
      "Instructions for updating:\n",
      "Use tf.cast instead.\n"
     ]
    },
    {
     "name": "stdout",
     "output_type": "stream",
     "text": [
      "Train on 600 samples, validate on 150 samples\n",
      "Epoch 1/10\n",
      "600/600 [==============================] - 1s 902us/step - loss: 5.2725 - binary_accuracy: 0.3117 - sensitivity: 0.0000e+00 - specificity: 1.0000 - gmeasure: 0.0000e+00 - auc: 0.4494 - val_loss: 1.7537 - val_binary_accuracy: 0.3000 - val_sensitivity: 0.0000e+00 - val_specificity: 1.0000 - val_gmeasure: 0.0000e+00 - val_auc: 0.4509\n",
      "Epoch 2/10\n",
      "600/600 [==============================] - 0s 34us/step - loss: 1.5901 - binary_accuracy: 0.3117 - sensitivity: 0.0000e+00 - specificity: 1.0000 - gmeasure: 0.0000e+00 - auc: 0.4924 - val_loss: 1.4026 - val_binary_accuracy: 0.3000 - val_sensitivity: 0.0000e+00 - val_specificity: 1.0000 - val_gmeasure: 0.0000e+00 - val_auc: 0.4369\n",
      "Epoch 3/10\n",
      "600/600 [==============================] - 0s 29us/step - loss: 1.3127 - binary_accuracy: 0.3117 - sensitivity: 0.0000e+00 - specificity: 1.0000 - gmeasure: 0.0000e+00 - auc: 0.4738 - val_loss: 1.2158 - val_binary_accuracy: 0.3000 - val_sensitivity: 0.0000e+00 - val_specificity: 1.0000 - val_gmeasure: 0.0000e+00 - val_auc: 0.4612\n",
      "Epoch 4/10\n",
      "600/600 [==============================] - 0s 29us/step - loss: 1.1550 - binary_accuracy: 0.3117 - sensitivity: 0.0000e+00 - specificity: 1.0000 - gmeasure: 0.0000e+00 - auc: 0.4686 - val_loss: 1.0913 - val_binary_accuracy: 0.3000 - val_sensitivity: 0.0000e+00 - val_specificity: 1.0000 - val_gmeasure: 0.0000e+00 - val_auc: 0.4686\n",
      "Epoch 5/10\n",
      "600/600 [==============================] - 0s 28us/step - loss: 1.0465 - binary_accuracy: 0.3117 - sensitivity: 0.0000e+00 - specificity: 1.0000 - gmeasure: 0.0000e+00 - auc: 0.4617 - val_loss: 0.9995 - val_binary_accuracy: 0.3000 - val_sensitivity: 0.0000e+00 - val_specificity: 1.0000 - val_gmeasure: 0.0000e+00 - val_auc: 0.4677\n",
      "Epoch 6/10\n",
      "600/600 [==============================] - 0s 28us/step - loss: 0.9632 - binary_accuracy: 0.3117 - sensitivity: 0.0000e+00 - specificity: 1.0000 - gmeasure: 0.0000e+00 - auc: 0.4688 - val_loss: 0.9281 - val_binary_accuracy: 0.3000 - val_sensitivity: 0.0000e+00 - val_specificity: 1.0000 - val_gmeasure: 0.0000e+00 - val_auc: 0.4699\n",
      "Epoch 7/10\n",
      "600/600 [==============================] - 0s 28us/step - loss: 0.8997 - binary_accuracy: 0.3117 - sensitivity: 0.0000e+00 - specificity: 1.0000 - gmeasure: 0.0000e+00 - auc: 0.4629 - val_loss: 0.8705 - val_binary_accuracy: 0.3000 - val_sensitivity: 0.0000e+00 - val_specificity: 1.0000 - val_gmeasure: 0.0000e+00 - val_auc: 0.4694\n",
      "Epoch 8/10\n",
      "600/600 [==============================] - 0s 30us/step - loss: 0.8465 - binary_accuracy: 0.3117 - sensitivity: 0.0000e+00 - specificity: 1.0000 - gmeasure: 0.0000e+00 - auc: 0.4627 - val_loss: 0.8229 - val_binary_accuracy: 0.3000 - val_sensitivity: 0.0000e+00 - val_specificity: 1.0000 - val_gmeasure: 0.0000e+00 - val_auc: 0.4656\n",
      "Epoch 9/10\n",
      "600/600 [==============================] - 0s 28us/step - loss: 0.8041 - binary_accuracy: 0.3117 - sensitivity: 0.0000e+00 - specificity: 1.0000 - gmeasure: 0.0000e+00 - auc: 0.4602 - val_loss: 0.7830 - val_binary_accuracy: 0.3000 - val_sensitivity: 0.0000e+00 - val_specificity: 1.0000 - val_gmeasure: 0.0000e+00 - val_auc: 0.4660\n",
      "Epoch 10/10\n",
      "600/600 [==============================] - 0s 34us/step - loss: 0.7674 - binary_accuracy: 0.3117 - sensitivity: 0.0000e+00 - specificity: 1.0000 - gmeasure: 0.0000e+00 - auc: 0.4584 - val_loss: 0.7492 - val_binary_accuracy: 0.3000 - val_sensitivity: 0.0000e+00 - val_specificity: 1.0000 - val_gmeasure: 0.0000e+00 - val_auc: 0.4668\n"
     ]
    },
    {
     "name": "stderr",
     "output_type": "stream",
     "text": [
      "[root    |INFO|build_network.py:146] Training end with time 2.7012884616851807!\n",
      "[root    |INFO|build_network.py:79] Saved trained model weight at ./simulation_s2/simulation_s2_deepbiome/weight/weight_0.h5 \n",
      "[root    |DEBUG|deepbiome.py:124] Save weight at ./simulation_s2/simulation_s2_deepbiome/weight/weight_0.h5\n",
      "[root    |INFO|build_network.py:172] Evaluation start!\n"
     ]
    },
    {
     "name": "stdout",
     "output_type": "stream",
     "text": [
      "\r",
      "750/750 [==============================] - 0s 3us/step\n"
     ]
    },
    {
     "name": "stderr",
     "output_type": "stream",
     "text": [
      "[root    |INFO|build_network.py:177] Evaluation end with time 0.008256196975708008!\n",
      "[root    |INFO|build_network.py:178] Evaluation: [0.7469476461410522, 0.30933332443237305, 0.0, 1.0, 0.0, 0.46350768208503723]\n",
      "[root    |INFO|build_network.py:172] Evaluation start!\n"
     ]
    },
    {
     "name": "stdout",
     "output_type": "stream",
     "text": [
      "\r",
      "250/250 [==============================] - 0s 8us/step\n"
     ]
    },
    {
     "name": "stderr",
     "output_type": "stream",
     "text": [
      "[root    |INFO|build_network.py:177] Evaluation end with time 0.007585287094116211!\n",
      "[root    |INFO|build_network.py:178] Evaluation: [0.7433822154998779, 0.3240000009536743, 0.0, 1.0, 0.0, 0.47034114599227905]\n",
      "[root    |INFO|deepbiome.py:136] Compute time : 5.389277935028076\n",
      "[root    |INFO|deepbiome.py:137] 1 fold computing end!---------------------------------------------\n",
      "[root    |INFO|deepbiome.py:97] -------2 simulation start!----------------------------------\n",
      "[root    |INFO|readers.py:59] -----------------------------------------------------------------------\n",
      "[root    |INFO|readers.py:60] Construct Dataset\n",
      "[root    |INFO|readers.py:61] -----------------------------------------------------------------------\n",
      "[root    |INFO|readers.py:62] Load data\n",
      "[root    |INFO|deepbiome.py:107] -----------------------------------------------------------------\n",
      "[root    |INFO|deepbiome.py:108] Build network for 2 simulation\n",
      "[root    |INFO|build_network.py:508] ------------------------------------------------------------------------------------------\n",
      "[root    |INFO|build_network.py:509] Read phylogenetic tree information from data/genus48/genus48_dic.csv\n",
      "[root    |INFO|build_network.py:513] Phylogenetic tree level list: ['Genus', 'Family', 'Order', 'Class', 'Phylum']\n",
      "[root    |INFO|build_network.py:514] ------------------------------------------------------------------------------------------\n",
      "[root    |INFO|build_network.py:519]      Genus: 48\n",
      "[root    |INFO|build_network.py:519]     Family: 40\n",
      "[root    |INFO|build_network.py:519]      Order: 23\n",
      "[root    |INFO|build_network.py:519]      Class: 17\n",
      "[root    |INFO|build_network.py:519]     Phylum: 9\n",
      "[root    |INFO|build_network.py:522] ------------------------------------------------------------------------------------------\n",
      "[root    |INFO|build_network.py:523] Phylogenetic_tree_dict info: ['Genus', 'Number', 'Phylum', 'Order', 'Family', 'Class']\n",
      "[root    |INFO|build_network.py:524] ------------------------------------------------------------------------------------------\n",
      "[root    |INFO|build_network.py:534] Build edge weights between [ Genus, Family]\n",
      "[root    |INFO|build_network.py:534] Build edge weights between [Family,  Order]\n",
      "[root    |INFO|build_network.py:534] Build edge weights between [ Order,  Class]\n",
      "[root    |INFO|build_network.py:534] Build edge weights between [ Class, Phylum]\n",
      "[root    |INFO|build_network.py:547] ------------------------------------------------------------------------------------------\n",
      "[root    |INFO|build_network.py:563] ------------------------------------------------------------------------------------------\n",
      "[root    |INFO|build_network.py:564] Build network based on phylogenetic tree information\n",
      "[root    |INFO|build_network.py:565] ------------------------------------------------------------------------------------------\n",
      "[root    |INFO|build_network.py:636] ------------------------------------------------------------------------------------------\n",
      "[root    |INFO|build_network.py:57] Build Network\n",
      "[root    |INFO|build_network.py:58] Optimizer = adam\n",
      "[root    |INFO|build_network.py:59] Loss = binary_crossentropy\n",
      "[root    |INFO|build_network.py:60] Metrics = binary_accuracy, sensitivity, specificity, gmeasure, auc\n"
     ]
    },
    {
     "name": "stdout",
     "output_type": "stream",
     "text": [
      "Model: \"model_1\"\n",
      "_________________________________________________________________\n",
      "Layer (type)                 Output Shape              Param #   \n",
      "=================================================================\n",
      "input (InputLayer)           (None, 48)                0         \n",
      "_________________________________________________________________\n",
      "l1_dense (Dense_with_tree)   (None, 40)                1960      \n",
      "_________________________________________________________________\n",
      "l1_activation (Activation)   (None, 40)                0         \n",
      "_________________________________________________________________\n",
      "l2_dense (Dense_with_tree)   (None, 23)                943       \n",
      "_________________________________________________________________\n",
      "l2_activation (Activation)   (None, 23)                0         \n",
      "_________________________________________________________________\n",
      "l3_dense (Dense_with_tree)   (None, 17)                408       \n",
      "_________________________________________________________________\n",
      "l3_activation (Activation)   (None, 17)                0         \n",
      "_________________________________________________________________\n",
      "l4_dense (Dense_with_tree)   (None, 9)                 162       \n",
      "_________________________________________________________________\n",
      "l4_activation (Activation)   (None, 9)                 0         \n",
      "_________________________________________________________________\n",
      "last_dense_h (Dense)         (None, 1)                 10        \n",
      "_________________________________________________________________\n",
      "p_hat (Activation)           (None, 1)                 0         \n",
      "=================================================================\n",
      "Total params: 3,483\n",
      "Trainable params: 3,483\n",
      "Non-trainable params: 0\n",
      "_________________________________________________________________\n"
     ]
    },
    {
     "name": "stderr",
     "output_type": "stream",
     "text": [
      "[root    |INFO|deepbiome.py:115] -----------------------------------------------------------------\n",
      "[root    |INFO|deepbiome.py:116] 2 fold computing start!----------------------------------\n",
      "[root    |INFO|build_network.py:136] Training start!\n"
     ]
    },
    {
     "name": "stdout",
     "output_type": "stream",
     "text": [
      "Train on 600 samples, validate on 150 samples\n",
      "Epoch 1/10\n",
      "600/600 [==============================] - 0s 603us/step - loss: 3.4499 - binary_accuracy: 0.2717 - sensitivity: 0.0000e+00 - specificity: 1.0000 - gmeasure: 0.0000e+00 - auc: 0.4939 - val_loss: 1.6112 - val_binary_accuracy: 0.2733 - val_sensitivity: 0.0000e+00 - val_specificity: 1.0000 - val_gmeasure: 0.0000e+00 - val_auc: 0.5001\n",
      "Epoch 2/10\n",
      "600/600 [==============================] - 0s 34us/step - loss: 1.4775 - binary_accuracy: 0.2717 - sensitivity: 0.0000e+00 - specificity: 1.0000 - gmeasure: 0.0000e+00 - auc: 0.5058 - val_loss: 1.2618 - val_binary_accuracy: 0.2733 - val_sensitivity: 0.0000e+00 - val_specificity: 1.0000 - val_gmeasure: 0.0000e+00 - val_auc: 0.4909\n",
      "Epoch 3/10\n",
      "600/600 [==============================] - 0s 42us/step - loss: 1.1969 - binary_accuracy: 0.2717 - sensitivity: 0.0000e+00 - specificity: 1.0000 - gmeasure: 0.0000e+00 - auc: 0.5094 - val_loss: 1.0786 - val_binary_accuracy: 0.2733 - val_sensitivity: 0.0000e+00 - val_specificity: 1.0000 - val_gmeasure: 0.0000e+00 - val_auc: 0.4710\n",
      "Epoch 4/10\n",
      "600/600 [==============================] - 0s 33us/step - loss: 1.0366 - binary_accuracy: 0.2717 - sensitivity: 0.0000e+00 - specificity: 1.0000 - gmeasure: 0.0000e+00 - auc: 0.5025 - val_loss: 0.9580 - val_binary_accuracy: 0.2733 - val_sensitivity: 0.0000e+00 - val_specificity: 1.0000 - val_gmeasure: 0.0000e+00 - val_auc: 0.4509\n",
      "Epoch 5/10\n",
      "600/600 [==============================] - 0s 31us/step - loss: 0.9272 - binary_accuracy: 0.2717 - sensitivity: 0.0000e+00 - specificity: 1.0000 - gmeasure: 0.0000e+00 - auc: 0.5037 - val_loss: 0.8697 - val_binary_accuracy: 0.2733 - val_sensitivity: 0.0000e+00 - val_specificity: 1.0000 - val_gmeasure: 0.0000e+00 - val_auc: 0.4207\n",
      "Epoch 6/10\n",
      "600/600 [==============================] - 0s 29us/step - loss: 0.8476 - binary_accuracy: 0.2717 - sensitivity: 0.0000e+00 - specificity: 1.0000 - gmeasure: 0.0000e+00 - auc: 0.4944 - val_loss: 0.8009 - val_binary_accuracy: 0.2733 - val_sensitivity: 0.0000e+00 - val_specificity: 1.0000 - val_gmeasure: 0.0000e+00 - val_auc: 0.4122\n",
      "Epoch 7/10\n",
      "600/600 [==============================] - 0s 32us/step - loss: 0.7817 - binary_accuracy: 0.2717 - sensitivity: 0.0000e+00 - specificity: 1.0000 - gmeasure: 0.0000e+00 - auc: 0.4972 - val_loss: 0.7454 - val_binary_accuracy: 0.2733 - val_sensitivity: 0.0000e+00 - val_specificity: 1.0000 - val_gmeasure: 0.0000e+00 - val_auc: 0.4032\n",
      "Epoch 8/10\n",
      "600/600 [==============================] - 0s 30us/step - loss: 0.7303 - binary_accuracy: 0.2717 - sensitivity: 0.0000e+00 - specificity: 1.0000 - gmeasure: 0.0000e+00 - auc: 0.4874 - val_loss: 0.6996 - val_binary_accuracy: 0.2867 - val_sensitivity: 0.0275 - val_specificity: 0.9756 - val_gmeasure: 0.1639 - val_auc: 0.4005\n",
      "Epoch 9/10\n",
      "600/600 [==============================] - 0s 32us/step - loss: 0.6846 - binary_accuracy: 0.6017 - sensitivity: 0.6667 - specificity: 0.3333 - gmeasure: 0.0000e+00 - auc: 0.4909 - val_loss: 0.6620 - val_binary_accuracy: 0.7267 - val_sensitivity: 1.0000 - val_specificity: 0.0000e+00 - val_gmeasure: 0.0000e+00 - val_auc: 0.4064\n",
      "Epoch 10/10\n",
      "600/600 [==============================] - 0s 30us/step - loss: 0.6501 - binary_accuracy: 0.7283 - sensitivity: 1.0000 - specificity: 0.0000e+00 - gmeasure: 0.0000e+00 - auc: 0.4881 - val_loss: 0.6315 - val_binary_accuracy: 0.7267 - val_sensitivity: 1.0000 - val_specificity: 0.0000e+00 - val_gmeasure: 0.0000e+00 - val_auc: 0.4079\n"
     ]
    },
    {
     "name": "stderr",
     "output_type": "stream",
     "text": [
      "[root    |INFO|build_network.py:146] Training end with time 1.4748139381408691!\n",
      "[root    |INFO|build_network.py:79] Saved trained model weight at ./simulation_s2/simulation_s2_deepbiome/weight/weight_1.h5 \n",
      "[root    |DEBUG|deepbiome.py:124] Save weight at ./simulation_s2/simulation_s2_deepbiome/weight/weight_1.h5\n",
      "[root    |INFO|build_network.py:172] Evaluation start!\n"
     ]
    },
    {
     "name": "stdout",
     "output_type": "stream",
     "text": [
      "\r",
      "750/750 [==============================] - 0s 3us/step\n"
     ]
    },
    {
     "name": "stderr",
     "output_type": "stream",
     "text": [
      "[root    |INFO|build_network.py:177] Evaluation end with time 0.007241249084472656!\n",
      "[root    |INFO|build_network.py:178] Evaluation: [0.6303157210350037, 0.7279999852180481, 1.0, 0.0, 0.0, 0.47286415100097656]\n",
      "[root    |INFO|build_network.py:172] Evaluation start!\n"
     ]
    },
    {
     "name": "stdout",
     "output_type": "stream",
     "text": [
      "\r",
      "250/250 [==============================] - 0s 10us/step\n"
     ]
    },
    {
     "name": "stderr",
     "output_type": "stream",
     "text": [
      "[root    |INFO|build_network.py:177] Evaluation end with time 0.010153055191040039!\n",
      "[root    |INFO|build_network.py:178] Evaluation: [0.6411363482475281, 0.6959999799728394, 1.0, 0.0, 0.0, 0.4777677059173584]\n",
      "[root    |INFO|deepbiome.py:136] Compute time : 2.6986939907073975\n",
      "[root    |INFO|deepbiome.py:137] 2 fold computing end!---------------------------------------------\n",
      "[root    |INFO|deepbiome.py:140] -----------------------------------------------------------------\n",
      "[root    |INFO|deepbiome.py:142] Train Evaluation : ['loss' 'binary_accuracy' 'sensitivity' 'specificity' 'gmeasure' 'auc']\n",
      "[root    |INFO|deepbiome.py:145]       mean : [0.68863168 0.51866665 0.5        0.5        0.         0.46818592]\n",
      "[root    |INFO|deepbiome.py:146]        std : [0.05831596 0.20933333 0.5        0.5        0.         0.00467823]\n",
      "[root    |INFO|deepbiome.py:147] -----------------------------------------------------------------\n",
      "[root    |INFO|deepbiome.py:149] Test Evaluation : ['loss' 'binary_accuracy' 'sensitivity' 'specificity' 'gmeasure' 'auc']\n",
      "[root    |INFO|deepbiome.py:152]       mean : [0.69225928 0.50999999 0.5        0.5        0.         0.47405443]\n",
      "[root    |INFO|deepbiome.py:153]        std : [0.05112293 0.18599999 0.5        0.5        0.         0.00371328]\n",
      "[root    |INFO|deepbiome.py:154] -----------------------------------------------------------------\n",
      "[root    |INFO|deepbiome.py:163] Total Computing Ended\n",
      "[root    |INFO|deepbiome.py:164] -----------------------------------------------------------------\n"
     ]
    }
   ],
   "source": [
    "test_evaluation, train_evaluation, network = deepbiome_train(log, network_info, path_info, number_of_fold=2)"
   ]
  },
  {
   "cell_type": "code",
   "execution_count": 6,
   "metadata": {},
   "outputs": [
    {
     "data": {
      "text/plain": [
       "array([[0.74338222, 0.324     , 0.        , 1.        , 0.        ,\n",
       "        0.47034115],\n",
       "       [0.64113635, 0.69599998, 1.        , 0.        , 0.        ,\n",
       "        0.47776771]])"
      ]
     },
     "execution_count": 6,
     "metadata": {},
     "output_type": "execute_result"
    }
   ],
   "source": [
    "test_evaluation"
   ]
  }
 ],
 "metadata": {
  "kernelspec": {
   "display_name": "Python 3",
   "language": "python",
   "name": "python3"
  },
  "language_info": {
   "codemirror_mode": {
    "name": "ipython",
    "version": 3
   },
   "file_extension": ".py",
   "mimetype": "text/x-python",
   "name": "python",
   "nbconvert_exporter": "python",
   "pygments_lexer": "ipython3",
   "version": "3.5.2"
  }
 },
 "nbformat": 4,
 "nbformat_minor": 2
}
