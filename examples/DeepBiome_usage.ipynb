{
 "cells": [
  {
   "cell_type": "markdown",
   "metadata": {},
   "source": [
    "# DeepBiome Usage"
   ]
  },
  {
   "cell_type": "code",
   "execution_count": 1,
   "metadata": {},
   "outputs": [
    {
     "name": "stderr",
     "output_type": "stream",
     "text": [
      "Using TensorFlow backend.\n"
     ]
    }
   ],
   "source": [
    "from deepbiome.deepbiome import *"
   ]
  },
  {
   "cell_type": "markdown",
   "metadata": {},
   "source": [
    "### Arguments"
   ]
  },
  {
   "cell_type": "code",
   "execution_count": 2,
   "metadata": {
    "collapsed": true
   },
   "outputs": [],
   "source": [
    "logging.basicConfig(format = '[%(name)-8s|%(levelname)s|%(filename)s:%(lineno)s] %(message)s',\n",
    "                    level=logging.DEBUG)\n",
    "log = logging.getLogger()"
   ]
  },
  {
   "cell_type": "code",
   "execution_count": 3,
   "metadata": {
    "collapsed": true
   },
   "outputs": [],
   "source": [
    "network_info = {\n",
    "    'architecture_info': {\n",
    "        'batch_normalization': 'False',\n",
    "        'drop_out': '0',\n",
    "        'weight_initial': 'glorot_uniform',\n",
    "        'weight_l1_penalty':'0.01',\n",
    "        'weight_decay': 'phylogenetic_tree',\n",
    "    },\n",
    "    'model_info': {\n",
    "        'decay': '0.001',\n",
    "        'loss': 'binary_crossentropy',\n",
    "        'lr': '0.01',\n",
    "        'metrics': 'binary_accuracy, sensitivity, specificity, gmeasure, auc',\n",
    "        'network_class': 'DeepBiomeNetwork',\n",
    "        'normalizer': 'normalize_minmax',\n",
    "        'optimizer': 'adam',\n",
    "        'reader_class': 'MicroBiomeReader',\n",
    "        'texa_selection_metrics': 'accuracy, sensitivity, specificity, gmeasure'\n",
    "    },\n",
    "    'tensorboard_info': {\n",
    "        'histogram_freq': '0',\n",
    "        'tensorboard_dir': 'None',\n",
    "        'write_grads': 'False',\n",
    "        'write_graph': 'False',\n",
    "        'write_image': 'False',\n",
    "        'write_weights_histogram': 'False',\n",
    "        'write_weights_images': 'False'},\n",
    "    'test_info': {\n",
    "        'batch_size': 'None'\n",
    "    },\n",
    "    'training_info': {\n",
    "        'batch_size': '200', 'epochs': '10'\n",
    "    },\n",
    "    'validation_info': {\n",
    "        'batch_size': 'None', 'validation_size': '0.2'\n",
    "    }\n",
    "}"
   ]
  },
  {
   "cell_type": "code",
   "execution_count": 4,
   "metadata": {
    "collapsed": true
   },
   "outputs": [],
   "source": [
    "path_info = {\n",
    "    'data_info': {\n",
    "        'count_list_path': 'data/simulation/gcount_list.csv',\n",
    "        'count_path': 'data/simulation/count',\n",
    "        'data_path': 'data/simulation/s2/',\n",
    "        'idx_path': 'data/simulation/s2/idx.csv',\n",
    "        'tree_info_path': 'data/genus48/genus48_dic.csv',\n",
    "        'x_path': '',\n",
    "        'y_path': 'y.csv'\n",
    "    },\n",
    "    'model_info': {\n",
    "        'evaluation': 'eval.npy',\n",
    "        'history': 'history/hist.json',\n",
    "        'model_dir': './simulation_s2/simulation_s2_deepbiome/',\n",
    "        'weight': 'weight/weight.h5'\n",
    "    }\n",
    "}"
   ]
  },
  {
   "cell_type": "markdown",
   "metadata": {},
   "source": [
    "## Deepbiome Training"
   ]
  },
  {
   "cell_type": "code",
   "execution_count": 5,
   "metadata": {
    "scrolled": true
   },
   "outputs": [
    {
     "name": "stderr",
     "output_type": "stream",
     "text": [
      "[root    |INFO|deepbiome.py:91] -----------------------------------------------------------------\n",
      "[root    |INFO|deepbiome.py:116] -------1 simulation start!----------------------------------\n",
      "[root    |INFO|readers.py:59] -----------------------------------------------------------------------\n",
      "[root    |INFO|readers.py:60] Construct Dataset\n",
      "[root    |INFO|readers.py:61] -----------------------------------------------------------------------\n",
      "[root    |INFO|readers.py:62] Load data\n",
      "[root    |INFO|deepbiome.py:126] -----------------------------------------------------------------\n",
      "[root    |INFO|deepbiome.py:127] Build network for 1 simulation\n",
      "[root    |INFO|build_network.py:508] ------------------------------------------------------------------------------------------\n",
      "[root    |INFO|build_network.py:509] Read phylogenetic tree information from data/genus48/genus48_dic.csv\n",
      "[root    |INFO|build_network.py:513] Phylogenetic tree level list: ['Genus', 'Family', 'Order', 'Class', 'Phylum']\n",
      "[root    |INFO|build_network.py:514] ------------------------------------------------------------------------------------------\n",
      "[root    |INFO|build_network.py:519]      Genus: 48\n",
      "[root    |INFO|build_network.py:519]     Family: 40\n",
      "[root    |INFO|build_network.py:519]      Order: 23\n",
      "[root    |INFO|build_network.py:519]      Class: 17\n",
      "[root    |INFO|build_network.py:519]     Phylum: 9\n",
      "[root    |INFO|build_network.py:522] ------------------------------------------------------------------------------------------\n",
      "[root    |INFO|build_network.py:523] Phylogenetic_tree_dict info: ['Order', 'Class', 'Number', 'Genus', 'Family', 'Phylum']\n",
      "[root    |INFO|build_network.py:524] ------------------------------------------------------------------------------------------\n",
      "[root    |INFO|build_network.py:534] Build edge weights between [ Genus, Family]\n",
      "[root    |INFO|build_network.py:534] Build edge weights between [Family,  Order]\n",
      "[root    |INFO|build_network.py:534] Build edge weights between [ Order,  Class]\n",
      "[root    |INFO|build_network.py:534] Build edge weights between [ Class, Phylum]\n",
      "[root    |INFO|build_network.py:547] ------------------------------------------------------------------------------------------\n",
      "[root    |INFO|build_network.py:563] ------------------------------------------------------------------------------------------\n",
      "[root    |INFO|build_network.py:564] Build network based on phylogenetic tree information\n",
      "[root    |INFO|build_network.py:565] ------------------------------------------------------------------------------------------\n"
     ]
    },
    {
     "name": "stdout",
     "output_type": "stream",
     "text": [
      "WARNING:tensorflow:From /usr/local/lib/python3.5/dist-packages/tensorflow/python/ops/resource_variable_ops.py:432: colocate_with (from tensorflow.python.framework.ops) is deprecated and will be removed in a future version.\n",
      "Instructions for updating:\n",
      "Colocations handled automatically by placer.\n"
     ]
    },
    {
     "name": "stderr",
     "output_type": "stream",
     "text": [
      "[tensorflow|WARNING|deprecation.py:328] From /usr/local/lib/python3.5/dist-packages/tensorflow/python/ops/resource_variable_ops.py:432: colocate_with (from tensorflow.python.framework.ops) is deprecated and will be removed in a future version.\n",
      "Instructions for updating:\n",
      "Colocations handled automatically by placer.\n",
      "[root    |INFO|build_network.py:636] ------------------------------------------------------------------------------------------\n"
     ]
    },
    {
     "name": "stdout",
     "output_type": "stream",
     "text": [
      "Model: \"model_1\"\n",
      "_________________________________________________________________\n",
      "Layer (type)                 Output Shape              Param #   \n",
      "=================================================================\n",
      "input (InputLayer)           (None, 48)                0         \n",
      "_________________________________________________________________\n",
      "l1_dense (Dense_with_tree)   (None, 40)                1960      \n",
      "_________________________________________________________________\n",
      "l1_activation (Activation)   (None, 40)                0         \n",
      "_________________________________________________________________\n",
      "l2_dense (Dense_with_tree)   (None, 23)                943       \n",
      "_________________________________________________________________\n",
      "l2_activation (Activation)   (None, 23)                0         \n",
      "_________________________________________________________________\n",
      "l3_dense (Dense_with_tree)   (None, 17)                408       \n",
      "_________________________________________________________________\n",
      "l3_activation (Activation)   (None, 17)                0         \n",
      "_________________________________________________________________\n",
      "l4_dense (Dense_with_tree)   (None, 9)                 162       \n",
      "_________________________________________________________________\n",
      "l4_activation (Activation)   (None, 9)                 0         \n",
      "_________________________________________________________________\n",
      "last_dense_h (Dense)         (None, 1)                 10        \n",
      "_________________________________________________________________\n",
      "p_hat (Activation)           (None, 1)                 0         \n",
      "=================================================================\n",
      "Total params: 3,483\n",
      "Trainable params: 3,483\n",
      "Non-trainable params: 0\n",
      "_________________________________________________________________\n",
      "WARNING:tensorflow:From /DATA/home/muha/github_repos/deepbiome/deepbiome/loss_and_metric.py:65: py_func (from tensorflow.python.ops.script_ops) is deprecated and will be removed in a future version.\n",
      "Instructions for updating:\n",
      "tf.py_func is deprecated in TF V2. Instead, use\n",
      "    tf.py_function, which takes a python function which manipulates tf eager\n",
      "    tensors instead of numpy arrays. It's easy to convert a tf eager tensor to\n",
      "    an ndarray (just call tensor.numpy()) but having access to eager tensors\n",
      "    means `tf.py_function`s can use accelerators such as GPUs as well as\n",
      "    being differentiable using a gradient tape.\n",
      "    \n"
     ]
    },
    {
     "name": "stderr",
     "output_type": "stream",
     "text": [
      "[tensorflow|WARNING|deprecation.py:328] From /DATA/home/muha/github_repos/deepbiome/deepbiome/loss_and_metric.py:65: py_func (from tensorflow.python.ops.script_ops) is deprecated and will be removed in a future version.\n",
      "Instructions for updating:\n",
      "tf.py_func is deprecated in TF V2. Instead, use\n",
      "    tf.py_function, which takes a python function which manipulates tf eager\n",
      "    tensors instead of numpy arrays. It's easy to convert a tf eager tensor to\n",
      "    an ndarray (just call tensor.numpy()) but having access to eager tensors\n",
      "    means `tf.py_function`s can use accelerators such as GPUs as well as\n",
      "    being differentiable using a gradient tape.\n",
      "    \n",
      "[root    |INFO|build_network.py:57] Build Network\n",
      "[root    |INFO|build_network.py:58] Optimizer = adam\n",
      "[root    |INFO|build_network.py:59] Loss = binary_crossentropy\n",
      "[root    |INFO|build_network.py:60] Metrics = binary_accuracy, sensitivity, specificity, gmeasure, auc\n",
      "[root    |INFO|deepbiome.py:134] -----------------------------------------------------------------\n",
      "[root    |INFO|deepbiome.py:135] 1 fold computing start!----------------------------------\n",
      "[root    |INFO|build_network.py:136] Training start!\n"
     ]
    },
    {
     "name": "stdout",
     "output_type": "stream",
     "text": [
      "WARNING:tensorflow:From /usr/local/lib/python3.5/dist-packages/tensorflow/python/ops/math_ops.py:2862: to_int32 (from tensorflow.python.ops.math_ops) is deprecated and will be removed in a future version.\n",
      "Instructions for updating:\n",
      "Use tf.cast instead.\n"
     ]
    },
    {
     "name": "stderr",
     "output_type": "stream",
     "text": [
      "[tensorflow|WARNING|deprecation.py:328] From /usr/local/lib/python3.5/dist-packages/tensorflow/python/ops/math_ops.py:2862: to_int32 (from tensorflow.python.ops.math_ops) is deprecated and will be removed in a future version.\n",
      "Instructions for updating:\n",
      "Use tf.cast instead.\n"
     ]
    },
    {
     "name": "stdout",
     "output_type": "stream",
     "text": [
      "Train on 600 samples, validate on 150 samples\n",
      "Epoch 1/10\n",
      "600/600 [==============================] - 1s 1ms/step - loss: 4.4816 - binary_accuracy: 0.3117 - sensitivity: 0.0000e+00 - specificity: 1.0000 - gmeasure: 0.0000e+00 - auc: 0.5073 - val_loss: 1.8496 - val_binary_accuracy: 0.3000 - val_sensitivity: 0.0000e+00 - val_specificity: 1.0000 - val_gmeasure: 0.0000e+00 - val_auc: 0.4741\n",
      "Epoch 2/10\n",
      "600/600 [==============================] - 0s 46us/step - loss: 1.6983 - binary_accuracy: 0.3117 - sensitivity: 0.0000e+00 - specificity: 1.0000 - gmeasure: 0.0000e+00 - auc: 0.4932 - val_loss: 1.5379 - val_binary_accuracy: 0.3000 - val_sensitivity: 0.0000e+00 - val_specificity: 1.0000 - val_gmeasure: 0.0000e+00 - val_auc: 0.4913\n",
      "Epoch 3/10\n",
      "600/600 [==============================] - 0s 46us/step - loss: 1.4548 - binary_accuracy: 0.3117 - sensitivity: 0.0000e+00 - specificity: 1.0000 - gmeasure: 0.0000e+00 - auc: 0.5127 - val_loss: 1.3699 - val_binary_accuracy: 0.3000 - val_sensitivity: 0.0000e+00 - val_specificity: 1.0000 - val_gmeasure: 0.0000e+00 - val_auc: 0.5614\n",
      "Epoch 4/10\n",
      "600/600 [==============================] - 0s 49us/step - loss: 1.3097 - binary_accuracy: 0.3117 - sensitivity: 0.0000e+00 - specificity: 1.0000 - gmeasure: 0.0000e+00 - auc: 0.5224 - val_loss: 1.2561 - val_binary_accuracy: 0.3000 - val_sensitivity: 0.0000e+00 - val_specificity: 1.0000 - val_gmeasure: 0.0000e+00 - val_auc: 0.6042\n",
      "Epoch 5/10\n",
      "600/600 [==============================] - 0s 47us/step - loss: 1.2086 - binary_accuracy: 0.3117 - sensitivity: 0.0000e+00 - specificity: 1.0000 - gmeasure: 0.0000e+00 - auc: 0.5333 - val_loss: 1.1699 - val_binary_accuracy: 0.3000 - val_sensitivity: 0.0000e+00 - val_specificity: 1.0000 - val_gmeasure: 0.0000e+00 - val_auc: 0.6054\n",
      "Epoch 6/10\n",
      "600/600 [==============================] - 0s 46us/step - loss: 1.1314 - binary_accuracy: 0.3117 - sensitivity: 0.0000e+00 - specificity: 1.0000 - gmeasure: 0.0000e+00 - auc: 0.5334 - val_loss: 1.0999 - val_binary_accuracy: 0.3000 - val_sensitivity: 0.0000e+00 - val_specificity: 1.0000 - val_gmeasure: 0.0000e+00 - val_auc: 0.6047\n",
      "Epoch 7/10\n",
      "600/600 [==============================] - 0s 41us/step - loss: 1.0658 - binary_accuracy: 0.3117 - sensitivity: 0.0000e+00 - specificity: 1.0000 - gmeasure: 0.0000e+00 - auc: 0.5401 - val_loss: 1.0400 - val_binary_accuracy: 0.3000 - val_sensitivity: 0.0000e+00 - val_specificity: 1.0000 - val_gmeasure: 0.0000e+00 - val_auc: 0.6121\n",
      "Epoch 8/10\n",
      "600/600 [==============================] - 0s 41us/step - loss: 1.0098 - binary_accuracy: 0.3117 - sensitivity: 0.0000e+00 - specificity: 1.0000 - gmeasure: 0.0000e+00 - auc: 0.5388 - val_loss: 0.9865 - val_binary_accuracy: 0.3000 - val_sensitivity: 0.0000e+00 - val_specificity: 1.0000 - val_gmeasure: 0.0000e+00 - val_auc: 0.6192\n",
      "Epoch 9/10\n",
      "600/600 [==============================] - 0s 43us/step - loss: 0.9592 - binary_accuracy: 0.3117 - sensitivity: 0.0000e+00 - specificity: 1.0000 - gmeasure: 0.0000e+00 - auc: 0.5430 - val_loss: 0.9368 - val_binary_accuracy: 0.3000 - val_sensitivity: 0.0000e+00 - val_specificity: 1.0000 - val_gmeasure: 0.0000e+00 - val_auc: 0.6226\n",
      "Epoch 10/10\n",
      "600/600 [==============================] - 0s 37us/step - loss: 0.9120 - binary_accuracy: 0.3117 - sensitivity: 0.0000e+00 - specificity: 1.0000 - gmeasure: 0.0000e+00 - auc: 0.5373 - val_loss: 0.8891 - val_binary_accuracy: 0.3000 - val_sensitivity: 0.0000e+00 - val_specificity: 1.0000 - val_gmeasure: 0.0000e+00 - val_auc: 0.6281\n"
     ]
    },
    {
     "name": "stderr",
     "output_type": "stream",
     "text": [
      "[root    |INFO|build_network.py:146] Training end with time 3.437614679336548!\n",
      "[root    |INFO|build_network.py:79] Saved trained model weight at ./simulation_s2/simulation_s2_deepbiome/weight/weight_0.h5 \n",
      "[root    |DEBUG|deepbiome.py:143] Save weight at ./simulation_s2/simulation_s2_deepbiome/weight/weight_0.h5\n",
      "[root    |INFO|build_network.py:172] Evaluation start!\n"
     ]
    },
    {
     "name": "stdout",
     "output_type": "stream",
     "text": [
      "\r",
      "750/750 [==============================] - 0s 4us/step\n"
     ]
    },
    {
     "name": "stderr",
     "output_type": "stream",
     "text": [
      "[root    |INFO|build_network.py:177] Evaluation end with time 0.009981393814086914!\n",
      "[root    |INFO|build_network.py:178] Evaluation: [0.8827114105224609, 0.30933332443237305, 0.0, 1.0, 0.0, 0.5529639720916748]\n",
      "[root    |INFO|build_network.py:172] Evaluation start!\n"
     ]
    },
    {
     "name": "stdout",
     "output_type": "stream",
     "text": [
      "\r",
      "250/250 [==============================] - 0s 11us/step\n"
     ]
    },
    {
     "name": "stderr",
     "output_type": "stream",
     "text": [
      "[root    |INFO|build_network.py:177] Evaluation end with time 0.008280754089355469!\n",
      "[root    |INFO|build_network.py:178] Evaluation: [0.8726869821548462, 0.3240000009536743, 0.0, 1.0, 0.0, 0.48316165804862976]\n",
      "[root    |INFO|deepbiome.py:155] Compute time : 7.16256046295166\n",
      "[root    |INFO|deepbiome.py:156] 1 fold computing end!---------------------------------------------\n",
      "[root    |INFO|deepbiome.py:116] -------2 simulation start!----------------------------------\n",
      "[root    |INFO|readers.py:59] -----------------------------------------------------------------------\n",
      "[root    |INFO|readers.py:60] Construct Dataset\n",
      "[root    |INFO|readers.py:61] -----------------------------------------------------------------------\n",
      "[root    |INFO|readers.py:62] Load data\n",
      "[root    |INFO|deepbiome.py:126] -----------------------------------------------------------------\n",
      "[root    |INFO|deepbiome.py:127] Build network for 2 simulation\n",
      "[root    |INFO|build_network.py:508] ------------------------------------------------------------------------------------------\n",
      "[root    |INFO|build_network.py:509] Read phylogenetic tree information from data/genus48/genus48_dic.csv\n",
      "[root    |INFO|build_network.py:513] Phylogenetic tree level list: ['Genus', 'Family', 'Order', 'Class', 'Phylum']\n",
      "[root    |INFO|build_network.py:514] ------------------------------------------------------------------------------------------\n",
      "[root    |INFO|build_network.py:519]      Genus: 48\n",
      "[root    |INFO|build_network.py:519]     Family: 40\n",
      "[root    |INFO|build_network.py:519]      Order: 23\n",
      "[root    |INFO|build_network.py:519]      Class: 17\n",
      "[root    |INFO|build_network.py:519]     Phylum: 9\n",
      "[root    |INFO|build_network.py:522] ------------------------------------------------------------------------------------------\n",
      "[root    |INFO|build_network.py:523] Phylogenetic_tree_dict info: ['Order', 'Class', 'Number', 'Genus', 'Family', 'Phylum']\n",
      "[root    |INFO|build_network.py:524] ------------------------------------------------------------------------------------------\n",
      "[root    |INFO|build_network.py:534] Build edge weights between [ Genus, Family]\n",
      "[root    |INFO|build_network.py:534] Build edge weights between [Family,  Order]\n",
      "[root    |INFO|build_network.py:534] Build edge weights between [ Order,  Class]\n",
      "[root    |INFO|build_network.py:534] Build edge weights between [ Class, Phylum]\n",
      "[root    |INFO|build_network.py:547] ------------------------------------------------------------------------------------------\n",
      "[root    |INFO|build_network.py:563] ------------------------------------------------------------------------------------------\n",
      "[root    |INFO|build_network.py:564] Build network based on phylogenetic tree information\n",
      "[root    |INFO|build_network.py:565] ------------------------------------------------------------------------------------------\n",
      "[root    |INFO|build_network.py:636] ------------------------------------------------------------------------------------------\n"
     ]
    },
    {
     "name": "stdout",
     "output_type": "stream",
     "text": [
      "Model: \"model_1\"\n",
      "_________________________________________________________________\n",
      "Layer (type)                 Output Shape              Param #   \n",
      "=================================================================\n",
      "input (InputLayer)           (None, 48)                0         \n",
      "_________________________________________________________________\n",
      "l1_dense (Dense_with_tree)   (None, 40)                1960      \n",
      "_________________________________________________________________\n",
      "l1_activation (Activation)   (None, 40)                0         \n",
      "_________________________________________________________________\n",
      "l2_dense (Dense_with_tree)   (None, 23)                943       \n",
      "_________________________________________________________________\n",
      "l2_activation (Activation)   (None, 23)                0         \n",
      "_________________________________________________________________\n",
      "l3_dense (Dense_with_tree)   (None, 17)                408       \n",
      "_________________________________________________________________\n",
      "l3_activation (Activation)   (None, 17)                0         \n",
      "_________________________________________________________________\n",
      "l4_dense (Dense_with_tree)   (None, 9)                 162       \n",
      "_________________________________________________________________\n",
      "l4_activation (Activation)   (None, 9)                 0         \n",
      "_________________________________________________________________\n",
      "last_dense_h (Dense)         (None, 1)                 10        \n",
      "_________________________________________________________________\n",
      "p_hat (Activation)           (None, 1)                 0         \n",
      "=================================================================\n",
      "Total params: 3,483\n",
      "Trainable params: 3,483\n",
      "Non-trainable params: 0\n",
      "_________________________________________________________________\n"
     ]
    },
    {
     "name": "stderr",
     "output_type": "stream",
     "text": [
      "[root    |INFO|build_network.py:57] Build Network\n",
      "[root    |INFO|build_network.py:58] Optimizer = adam\n",
      "[root    |INFO|build_network.py:59] Loss = binary_crossentropy\n",
      "[root    |INFO|build_network.py:60] Metrics = binary_accuracy, sensitivity, specificity, gmeasure, auc\n",
      "[root    |INFO|deepbiome.py:134] -----------------------------------------------------------------\n",
      "[root    |INFO|deepbiome.py:135] 2 fold computing start!----------------------------------\n",
      "[root    |INFO|build_network.py:136] Training start!\n"
     ]
    },
    {
     "name": "stdout",
     "output_type": "stream",
     "text": [
      "Train on 600 samples, validate on 150 samples\n",
      "Epoch 1/10\n",
      "600/600 [==============================] - 0s 628us/step - loss: 5.6297 - binary_accuracy: 0.2717 - sensitivity: 0.0000e+00 - specificity: 1.0000 - gmeasure: 0.0000e+00 - auc: 0.4352 - val_loss: 2.3666 - val_binary_accuracy: 0.2733 - val_sensitivity: 0.0000e+00 - val_specificity: 1.0000 - val_gmeasure: 0.0000e+00 - val_auc: 0.3670\n",
      "Epoch 2/10\n",
      "600/600 [==============================] - 0s 42us/step - loss: 2.2112 - binary_accuracy: 0.2717 - sensitivity: 0.0000e+00 - specificity: 1.0000 - gmeasure: 0.0000e+00 - auc: 0.3785 - val_loss: 1.9607 - val_binary_accuracy: 0.2733 - val_sensitivity: 0.0000e+00 - val_specificity: 1.0000 - val_gmeasure: 0.0000e+00 - val_auc: 0.3927\n",
      "Epoch 3/10\n",
      "600/600 [==============================] - 0s 46us/step - loss: 1.8799 - binary_accuracy: 0.2717 - sensitivity: 0.0000e+00 - specificity: 1.0000 - gmeasure: 0.0000e+00 - auc: 0.4144 - val_loss: 1.7245 - val_binary_accuracy: 0.2733 - val_sensitivity: 0.0000e+00 - val_specificity: 1.0000 - val_gmeasure: 0.0000e+00 - val_auc: 0.4439\n",
      "Epoch 4/10\n",
      "600/600 [==============================] - 0s 47us/step - loss: 1.6700 - binary_accuracy: 0.2717 - sensitivity: 0.0000e+00 - specificity: 1.0000 - gmeasure: 0.0000e+00 - auc: 0.4438 - val_loss: 1.5525 - val_binary_accuracy: 0.2733 - val_sensitivity: 0.0000e+00 - val_specificity: 1.0000 - val_gmeasure: 0.0000e+00 - val_auc: 0.4679\n",
      "Epoch 5/10\n",
      "600/600 [==============================] - 0s 47us/step - loss: 1.5094 - binary_accuracy: 0.2717 - sensitivity: 0.0000e+00 - specificity: 1.0000 - gmeasure: 0.0000e+00 - auc: 0.4740 - val_loss: 1.4131 - val_binary_accuracy: 0.2733 - val_sensitivity: 0.0000e+00 - val_specificity: 1.0000 - val_gmeasure: 0.0000e+00 - val_auc: 0.4941\n",
      "Epoch 6/10\n",
      "600/600 [==============================] - 0s 45us/step - loss: 1.3746 - binary_accuracy: 0.2717 - sensitivity: 0.0000e+00 - specificity: 1.0000 - gmeasure: 0.0000e+00 - auc: 0.4811 - val_loss: 1.2926 - val_binary_accuracy: 0.2733 - val_sensitivity: 0.0000e+00 - val_specificity: 1.0000 - val_gmeasure: 0.0000e+00 - val_auc: 0.5227\n",
      "Epoch 7/10\n",
      "600/600 [==============================] - 0s 46us/step - loss: 1.2577 - binary_accuracy: 0.2717 - sensitivity: 0.0000e+00 - specificity: 1.0000 - gmeasure: 0.0000e+00 - auc: 0.4994 - val_loss: 1.1831 - val_binary_accuracy: 0.2733 - val_sensitivity: 0.0000e+00 - val_specificity: 1.0000 - val_gmeasure: 0.0000e+00 - val_auc: 0.5464\n",
      "Epoch 8/10\n",
      "600/600 [==============================] - 0s 46us/step - loss: 1.1512 - binary_accuracy: 0.2717 - sensitivity: 0.0000e+00 - specificity: 1.0000 - gmeasure: 0.0000e+00 - auc: 0.5099 - val_loss: 1.0805 - val_binary_accuracy: 0.2733 - val_sensitivity: 0.0000e+00 - val_specificity: 1.0000 - val_gmeasure: 0.0000e+00 - val_auc: 0.5661\n",
      "Epoch 9/10\n",
      "600/600 [==============================] - 0s 48us/step - loss: 1.0502 - binary_accuracy: 0.2717 - sensitivity: 0.0000e+00 - specificity: 1.0000 - gmeasure: 0.0000e+00 - auc: 0.5190 - val_loss: 0.9824 - val_binary_accuracy: 0.2733 - val_sensitivity: 0.0000e+00 - val_specificity: 1.0000 - val_gmeasure: 0.0000e+00 - val_auc: 0.5764\n",
      "Epoch 10/10\n",
      "600/600 [==============================] - 0s 46us/step - loss: 0.9533 - binary_accuracy: 0.2717 - sensitivity: 0.0000e+00 - specificity: 1.0000 - gmeasure: 0.0000e+00 - auc: 0.5245 - val_loss: 0.8882 - val_binary_accuracy: 0.2733 - val_sensitivity: 0.0000e+00 - val_specificity: 1.0000 - val_gmeasure: 0.0000e+00 - val_auc: 0.5878\n"
     ]
    },
    {
     "name": "stderr",
     "output_type": "stream",
     "text": [
      "[root    |INFO|build_network.py:146] Training end with time 1.7709617614746094!\n",
      "[root    |INFO|build_network.py:79] Saved trained model weight at ./simulation_s2/simulation_s2_deepbiome/weight/weight_1.h5 \n",
      "[root    |DEBUG|deepbiome.py:143] Save weight at ./simulation_s2/simulation_s2_deepbiome/weight/weight_1.h5\n",
      "[root    |INFO|build_network.py:172] Evaluation start!\n"
     ]
    },
    {
     "name": "stdout",
     "output_type": "stream",
     "text": [
      "\r",
      "750/750 [==============================] - 0s 4us/step\n"
     ]
    },
    {
     "name": "stderr",
     "output_type": "stream",
     "text": [
      "[root    |INFO|build_network.py:177] Evaluation end with time 0.011084794998168945!\n",
      "[root    |INFO|build_network.py:178] Evaluation: [0.8900600671768188, 0.2720000147819519, 0.0, 1.0, 0.0, 0.5406162738800049]\n",
      "[root    |INFO|build_network.py:172] Evaluation start!\n"
     ]
    },
    {
     "name": "stdout",
     "output_type": "stream",
     "text": [
      "\r",
      "250/250 [==============================] - 0s 11us/step\n"
     ]
    },
    {
     "name": "stderr",
     "output_type": "stream",
     "text": [
      "[root    |INFO|build_network.py:177] Evaluation end with time 0.010290145874023438!\n",
      "[root    |INFO|build_network.py:178] Evaluation: [0.8689628839492798, 0.30399999022483826, 0.0, 1.0, 0.0, 0.5987598299980164]\n",
      "[root    |INFO|deepbiome.py:155] Compute time : 3.091989040374756\n",
      "[root    |INFO|deepbiome.py:156] 2 fold computing end!---------------------------------------------\n",
      "[root    |INFO|deepbiome.py:159] -----------------------------------------------------------------\n",
      "[root    |INFO|deepbiome.py:161] Train Evaluation : ['loss' 'binary_accuracy' 'sensitivity' 'specificity' 'gmeasure' 'auc']\n",
      "[root    |INFO|deepbiome.py:164]       mean : [0.88638574 0.29066667 0.         1.         0.         0.54679012]\n",
      "[root    |INFO|deepbiome.py:165]        std : [0.00367433 0.01866665 0.         0.         0.         0.00617385]\n",
      "[root    |INFO|deepbiome.py:166] -----------------------------------------------------------------\n",
      "[root    |INFO|deepbiome.py:168] Test Evaluation : ['loss' 'binary_accuracy' 'sensitivity' 'specificity' 'gmeasure' 'auc']\n",
      "[root    |INFO|deepbiome.py:171]       mean : [0.87082493 0.314      0.         1.         0.         0.54096074]\n",
      "[root    |INFO|deepbiome.py:172]        std : [0.00186205 0.01000001 0.         0.         0.         0.05779909]\n",
      "[root    |INFO|deepbiome.py:173] -----------------------------------------------------------------\n",
      "[root    |INFO|deepbiome.py:182] Total Computing Ended\n",
      "[root    |INFO|deepbiome.py:183] -----------------------------------------------------------------\n"
     ]
    }
   ],
   "source": [
    "test_evaluation, train_evaluation, network = deepbiome_train(log, network_info, path_info, number_of_fold=2)"
   ]
  },
  {
   "cell_type": "code",
   "execution_count": 6,
   "metadata": {},
   "outputs": [
    {
     "data": {
      "text/plain": [
       "array([[0.87268698, 0.324     , 0.        , 1.        , 0.        ,\n",
       "        0.48316166],\n",
       "       [0.86896288, 0.30399999, 0.        , 1.        , 0.        ,\n",
       "        0.59875983]])"
      ]
     },
     "execution_count": 6,
     "metadata": {},
     "output_type": "execute_result"
    }
   ],
   "source": [
    "test_evaluation"
   ]
  }
 ],
 "metadata": {
  "kernelspec": {
   "display_name": "Python 3",
   "language": "python",
   "name": "python3"
  },
  "language_info": {
   "codemirror_mode": {
    "name": "ipython",
    "version": 3
   },
   "file_extension": ".py",
   "mimetype": "text/x-python",
   "name": "python",
   "nbconvert_exporter": "python",
   "pygments_lexer": "ipython3",
   "version": "3.5.2"
  }
 },
 "nbformat": 4,
 "nbformat_minor": 2
}
