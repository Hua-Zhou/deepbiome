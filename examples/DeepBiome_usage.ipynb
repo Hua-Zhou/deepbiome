{
 "cells": [
  {
   "cell_type": "markdown",
   "metadata": {},
   "source": [
    "# DeepBiome Usage"
   ]
  },
  {
   "cell_type": "code",
   "execution_count": 1,
   "metadata": {},
   "outputs": [
    {
     "name": "stderr",
     "output_type": "stream",
     "text": [
      "Using TensorFlow backend.\n"
     ]
    }
   ],
   "source": [
    "import logging\n",
    "from deepbiome import deepbiome"
   ]
  },
  {
   "cell_type": "markdown",
   "metadata": {},
   "source": [
    "### Arguments"
   ]
  },
  {
   "cell_type": "code",
   "execution_count": 2,
   "metadata": {
    "collapsed": true
   },
   "outputs": [],
   "source": [
    "logging.basicConfig(format = '[%(name)-8s|%(levelname)s|%(filename)s:%(lineno)s] %(message)s',\n",
    "                    level=logging.DEBUG)\n",
    "log = logging.getLogger()"
   ]
  },
  {
   "cell_type": "code",
   "execution_count": 3,
   "metadata": {
    "collapsed": true
   },
   "outputs": [],
   "source": [
    "network_info = {\n",
    "    'architecture_info': {\n",
    "        'batch_normalization': 'False',\n",
    "        'drop_out': '0',\n",
    "        'weight_initial': 'glorot_uniform',\n",
    "        'weight_l1_penalty':'0.01',\n",
    "        'weight_decay': 'phylogenetic_tree',\n",
    "    },\n",
    "    'model_info': {\n",
    "        'decay': '0.001',\n",
    "        'loss': 'binary_crossentropy',\n",
    "        'lr': '0.01',\n",
    "        'metrics': 'binary_accuracy, sensitivity, specificity, gmeasure, auc',\n",
    "        'network_class': 'DeepBiomeNetwork',\n",
    "        'normalizer': 'normalize_minmax',\n",
    "        'optimizer': 'adam',\n",
    "        'reader_class': 'MicroBiomeClassificationReader',\n",
    "        'texa_selection_metrics': 'accuracy, sensitivity, specificity, gmeasure'\n",
    "    },\n",
    "    'tensorboard_info': {\n",
    "        'histogram_freq': '0',\n",
    "        'tensorboard_dir': 'None',\n",
    "        'write_grads': 'False',\n",
    "        'write_graph': 'False',\n",
    "        'write_image': 'False',\n",
    "        'write_weights_histogram': 'False',\n",
    "        'write_weights_images': 'False'},\n",
    "    'test_info': {\n",
    "        'batch_size': 'None'\n",
    "    },\n",
    "    'training_info': {\n",
    "        'batch_size': '200', 'epochs': '10'\n",
    "    },\n",
    "    'validation_info': {\n",
    "        'batch_size': 'None', 'validation_size': '0.2'\n",
    "    }\n",
    "}"
   ]
  },
  {
   "cell_type": "code",
   "execution_count": 4,
   "metadata": {
    "collapsed": true
   },
   "outputs": [],
   "source": [
    "path_info = {\n",
    "    'data_info': {\n",
    "        'count_list_path': 'data/simulation/gcount_list.csv',\n",
    "        'count_path': 'data/simulation/count',\n",
    "        'data_path': 'data/simulation/s2/',\n",
    "        'idx_path': 'data/simulation/s2/idx.csv',\n",
    "        'tree_info_path': 'data/genus48/genus48_dic.csv',\n",
    "        'x_path': '',\n",
    "        'y_path': 'y.csv'\n",
    "    },\n",
    "    'model_info': {\n",
    "        'evaluation': 'eval.npy',\n",
    "        'history': 'history/hist.json',\n",
    "        'model_dir': './simulation_s2/simulation_s2_deepbiome/',\n",
    "        'weight': 'weight/weight.h5'\n",
    "    }\n",
    "}"
   ]
  },
  {
   "cell_type": "markdown",
   "metadata": {},
   "source": [
    "## Deepbiome Training"
   ]
  },
  {
   "cell_type": "code",
   "execution_count": 5,
   "metadata": {
    "scrolled": true
   },
   "outputs": [
    {
     "name": "stderr",
     "output_type": "stream",
     "text": [
      "[root    |INFO|deepbiome.py:91] -----------------------------------------------------------------\n",
      "[root    |INFO|deepbiome.py:116] -------1 simulation start!----------------------------------\n",
      "[root    |INFO|readers.py:58] -----------------------------------------------------------------------\n",
      "[root    |INFO|readers.py:59] Construct Dataset\n",
      "[root    |INFO|readers.py:60] -----------------------------------------------------------------------\n",
      "[root    |INFO|readers.py:61] Load data\n",
      "[root    |INFO|deepbiome.py:126] -----------------------------------------------------------------\n",
      "[root    |INFO|deepbiome.py:127] Build network for 1 simulation\n",
      "[root    |INFO|build_network.py:508] ------------------------------------------------------------------------------------------\n",
      "[root    |INFO|build_network.py:509] Read phylogenetic tree information from data/genus48/genus48_dic.csv\n",
      "[root    |INFO|build_network.py:513] Phylogenetic tree level list: ['Genus', 'Family', 'Order', 'Class', 'Phylum']\n",
      "[root    |INFO|build_network.py:514] ------------------------------------------------------------------------------------------\n",
      "[root    |INFO|build_network.py:519]      Genus: 48\n",
      "[root    |INFO|build_network.py:519]     Family: 40\n",
      "[root    |INFO|build_network.py:519]      Order: 23\n",
      "[root    |INFO|build_network.py:519]      Class: 17\n",
      "[root    |INFO|build_network.py:519]     Phylum: 9\n",
      "[root    |INFO|build_network.py:522] ------------------------------------------------------------------------------------------\n",
      "[root    |INFO|build_network.py:523] Phylogenetic_tree_dict info: ['Order', 'Number', 'Class', 'Family', 'Genus', 'Phylum']\n",
      "[root    |INFO|build_network.py:524] ------------------------------------------------------------------------------------------\n",
      "[root    |INFO|build_network.py:534] Build edge weights between [ Genus, Family]\n",
      "[root    |INFO|build_network.py:534] Build edge weights between [Family,  Order]\n",
      "[root    |INFO|build_network.py:534] Build edge weights between [ Order,  Class]\n",
      "[root    |INFO|build_network.py:534] Build edge weights between [ Class, Phylum]\n",
      "[root    |INFO|build_network.py:547] ------------------------------------------------------------------------------------------\n",
      "[root    |INFO|build_network.py:563] ------------------------------------------------------------------------------------------\n",
      "[root    |INFO|build_network.py:564] Build network based on phylogenetic tree information\n",
      "[root    |INFO|build_network.py:565] ------------------------------------------------------------------------------------------\n"
     ]
    },
    {
     "name": "stdout",
     "output_type": "stream",
     "text": [
      "WARNING:tensorflow:From /usr/local/lib/python3.5/dist-packages/tensorflow/python/ops/resource_variable_ops.py:432: colocate_with (from tensorflow.python.framework.ops) is deprecated and will be removed in a future version.\n",
      "Instructions for updating:\n",
      "Colocations handled automatically by placer.\n"
     ]
    },
    {
     "name": "stderr",
     "output_type": "stream",
     "text": [
      "[tensorflow|WARNING|deprecation.py:328] From /usr/local/lib/python3.5/dist-packages/tensorflow/python/ops/resource_variable_ops.py:432: colocate_with (from tensorflow.python.framework.ops) is deprecated and will be removed in a future version.\n",
      "Instructions for updating:\n",
      "Colocations handled automatically by placer.\n",
      "[root    |INFO|build_network.py:636] ------------------------------------------------------------------------------------------\n"
     ]
    },
    {
     "name": "stdout",
     "output_type": "stream",
     "text": [
      "Model: \"model_1\"\n",
      "_________________________________________________________________\n",
      "Layer (type)                 Output Shape              Param #   \n",
      "=================================================================\n",
      "input (InputLayer)           (None, 48)                0         \n",
      "_________________________________________________________________\n",
      "l1_dense (Dense_with_tree)   (None, 40)                1960      \n",
      "_________________________________________________________________\n",
      "l1_activation (Activation)   (None, 40)                0         \n",
      "_________________________________________________________________\n",
      "l2_dense (Dense_with_tree)   (None, 23)                943       \n",
      "_________________________________________________________________\n",
      "l2_activation (Activation)   (None, 23)                0         \n",
      "_________________________________________________________________\n",
      "l3_dense (Dense_with_tree)   (None, 17)                408       \n",
      "_________________________________________________________________\n",
      "l3_activation (Activation)   (None, 17)                0         \n",
      "_________________________________________________________________\n",
      "l4_dense (Dense_with_tree)   (None, 9)                 162       \n",
      "_________________________________________________________________\n",
      "l4_activation (Activation)   (None, 9)                 0         \n",
      "_________________________________________________________________\n",
      "last_dense_h (Dense)         (None, 1)                 10        \n",
      "_________________________________________________________________\n",
      "p_hat (Activation)           (None, 1)                 0         \n",
      "=================================================================\n",
      "Total params: 3,483\n",
      "Trainable params: 3,483\n",
      "Non-trainable params: 0\n",
      "_________________________________________________________________\n"
     ]
    },
    {
     "name": "stderr",
     "output_type": "stream",
     "text": [
      "[root    |INFO|build_network.py:57] Build Network\n",
      "[root    |INFO|build_network.py:58] Optimizer = adam\n",
      "[root    |INFO|build_network.py:59] Loss = binary_crossentropy\n",
      "[root    |INFO|build_network.py:60] Metrics = binary_accuracy, sensitivity, specificity, gmeasure, auc\n",
      "[root    |INFO|deepbiome.py:134] -----------------------------------------------------------------\n",
      "[root    |INFO|deepbiome.py:135] 1 fold computing start!----------------------------------\n",
      "[root    |INFO|build_network.py:136] Training start!\n"
     ]
    },
    {
     "name": "stdout",
     "output_type": "stream",
     "text": [
      "WARNING:tensorflow:From /usr/local/lib/python3.5/dist-packages/tensorflow/python/ops/math_ops.py:2862: to_int32 (from tensorflow.python.ops.math_ops) is deprecated and will be removed in a future version.\n",
      "Instructions for updating:\n",
      "Use tf.cast instead.\n"
     ]
    },
    {
     "name": "stderr",
     "output_type": "stream",
     "text": [
      "[tensorflow|WARNING|deprecation.py:328] From /usr/local/lib/python3.5/dist-packages/tensorflow/python/ops/math_ops.py:2862: to_int32 (from tensorflow.python.ops.math_ops) is deprecated and will be removed in a future version.\n",
      "Instructions for updating:\n",
      "Use tf.cast instead.\n"
     ]
    },
    {
     "name": "stdout",
     "output_type": "stream",
     "text": [
      "Train on 600 samples, validate on 150 samples\n",
      "Epoch 1/10\n",
      "600/600 [==============================] - 1s 1ms/step - loss: 0.6866 - binary_accuracy: 0.6883 - sensitivity: 1.0000 - specificity: 0.0000e+00 - gmeasure: 0.0000e+00 - auc: 0.5704 - val_loss: 0.6710 - val_binary_accuracy: 0.7000 - val_sensitivity: 1.0000 - val_specificity: 0.0000e+00 - val_gmeasure: 0.0000e+00 - val_auc: 0.5859\n",
      "Epoch 2/10\n",
      "600/600 [==============================] - 0s 64us/step - loss: 0.6657 - binary_accuracy: 0.6883 - sensitivity: 1.0000 - specificity: 0.0000e+00 - gmeasure: 0.0000e+00 - auc: 0.5655 - val_loss: 0.6466 - val_binary_accuracy: 0.7000 - val_sensitivity: 1.0000 - val_specificity: 0.0000e+00 - val_gmeasure: 0.0000e+00 - val_auc: 0.6004\n",
      "Epoch 3/10\n",
      "600/600 [==============================] - 0s 53us/step - loss: 0.6450 - binary_accuracy: 0.6883 - sensitivity: 1.0000 - specificity: 0.0000e+00 - gmeasure: 0.0000e+00 - auc: 0.5700 - val_loss: 0.6260 - val_binary_accuracy: 0.7000 - val_sensitivity: 1.0000 - val_specificity: 0.0000e+00 - val_gmeasure: 0.0000e+00 - val_auc: 0.6151\n",
      "Epoch 4/10\n",
      "600/600 [==============================] - 0s 51us/step - loss: 0.6277 - binary_accuracy: 0.6883 - sensitivity: 1.0000 - specificity: 0.0000e+00 - gmeasure: 0.0000e+00 - auc: 0.5704 - val_loss: 0.6133 - val_binary_accuracy: 0.7000 - val_sensitivity: 1.0000 - val_specificity: 0.0000e+00 - val_gmeasure: 0.0000e+00 - val_auc: 0.6244\n",
      "Epoch 5/10\n",
      "600/600 [==============================] - 0s 57us/step - loss: 0.6214 - binary_accuracy: 0.6883 - sensitivity: 1.0000 - specificity: 0.0000e+00 - gmeasure: 0.0000e+00 - auc: 0.5823 - val_loss: 0.6111 - val_binary_accuracy: 0.7000 - val_sensitivity: 1.0000 - val_specificity: 0.0000e+00 - val_gmeasure: 0.0000e+00 - val_auc: 0.6414\n",
      "Epoch 6/10\n",
      "600/600 [==============================] - 0s 57us/step - loss: 0.6222 - binary_accuracy: 0.6883 - sensitivity: 1.0000 - specificity: 0.0000e+00 - gmeasure: 0.0000e+00 - auc: 0.5972 - val_loss: 0.6133 - val_binary_accuracy: 0.7000 - val_sensitivity: 1.0000 - val_specificity: 0.0000e+00 - val_gmeasure: 0.0000e+00 - val_auc: 0.6614\n",
      "Epoch 7/10\n",
      "600/600 [==============================] - 0s 52us/step - loss: 0.6257 - binary_accuracy: 0.6883 - sensitivity: 1.0000 - specificity: 0.0000e+00 - gmeasure: 0.0000e+00 - auc: 0.6145 - val_loss: 0.6135 - val_binary_accuracy: 0.7000 - val_sensitivity: 1.0000 - val_specificity: 0.0000e+00 - val_gmeasure: 0.0000e+00 - val_auc: 0.6859\n",
      "Epoch 8/10\n",
      "600/600 [==============================] - 0s 57us/step - loss: 0.6243 - binary_accuracy: 0.6883 - sensitivity: 1.0000 - specificity: 0.0000e+00 - gmeasure: 0.0000e+00 - auc: 0.6394 - val_loss: 0.6116 - val_binary_accuracy: 0.7000 - val_sensitivity: 1.0000 - val_specificity: 0.0000e+00 - val_gmeasure: 0.0000e+00 - val_auc: 0.7068\n",
      "Epoch 9/10\n",
      "600/600 [==============================] - 0s 55us/step - loss: 0.6220 - binary_accuracy: 0.6883 - sensitivity: 1.0000 - specificity: 0.0000e+00 - gmeasure: 0.0000e+00 - auc: 0.6691 - val_loss: 0.6107 - val_binary_accuracy: 0.7000 - val_sensitivity: 1.0000 - val_specificity: 0.0000e+00 - val_gmeasure: 0.0000e+00 - val_auc: 0.7204\n",
      "Epoch 10/10\n",
      "600/600 [==============================] - ETA: 0s - loss: 0.6362 - binary_accuracy: 0.6700 - sensitivity: 1.0000 - specificity: 0.0000e+00 - gmeasure: 0.0000e+00 - auc: 0.62 - 0s 57us/step - loss: 0.6207 - binary_accuracy: 0.6883 - sensitivity: 1.0000 - specificity: 0.0000e+00 - gmeasure: 0.0000e+00 - auc: 0.6861 - val_loss: 0.6113 - val_binary_accuracy: 0.7000 - val_sensitivity: 1.0000 - val_specificity: 0.0000e+00 - val_gmeasure: 0.0000e+00 - val_auc: 0.7258\n"
     ]
    },
    {
     "name": "stderr",
     "output_type": "stream",
     "text": [
      "[root    |INFO|build_network.py:146] Training end with time 3.5638091564178467!\n",
      "[root    |INFO|build_network.py:79] Saved trained model weight at ./simulation_s2/simulation_s2_deepbiome/weight/weight_0.h5 \n",
      "[root    |DEBUG|deepbiome.py:143] Save weight at ./simulation_s2/simulation_s2_deepbiome/weight/weight_0.h5\n",
      "[root    |INFO|build_network.py:172] Evaluation start!\n"
     ]
    },
    {
     "name": "stdout",
     "output_type": "stream",
     "text": [
      "\r",
      "750/750 [==============================] - 0s 7us/step\n"
     ]
    },
    {
     "name": "stderr",
     "output_type": "stream",
     "text": [
      "[root    |INFO|build_network.py:177] Evaluation end with time 0.012125492095947266!\n",
      "[root    |INFO|build_network.py:178] Evaluation: [0.618539035320282, 0.690666675567627, 1.0, 0.0, 0.0, 0.707612156867981]\n",
      "[root    |INFO|build_network.py:172] Evaluation start!\n"
     ]
    },
    {
     "name": "stdout",
     "output_type": "stream",
     "text": [
      "\r",
      "250/250 [==============================] - 0s 18us/step\n"
     ]
    },
    {
     "name": "stderr",
     "output_type": "stream",
     "text": [
      "[root    |INFO|build_network.py:177] Evaluation end with time 0.011372804641723633!\n",
      "[root    |INFO|build_network.py:178] Evaluation: [0.6298574209213257, 0.6759999990463257, 1.0, 0.0, 0.0, 0.7299291491508484]\n",
      "[root    |INFO|deepbiome.py:155] Compute time : 6.928189516067505\n",
      "[root    |INFO|deepbiome.py:156] 1 fold computing end!---------------------------------------------\n",
      "[root    |INFO|deepbiome.py:116] -------2 simulation start!----------------------------------\n",
      "[root    |INFO|readers.py:58] -----------------------------------------------------------------------\n",
      "[root    |INFO|readers.py:59] Construct Dataset\n",
      "[root    |INFO|readers.py:60] -----------------------------------------------------------------------\n",
      "[root    |INFO|readers.py:61] Load data\n",
      "[root    |INFO|deepbiome.py:126] -----------------------------------------------------------------\n",
      "[root    |INFO|deepbiome.py:127] Build network for 2 simulation\n",
      "[root    |INFO|build_network.py:508] ------------------------------------------------------------------------------------------\n",
      "[root    |INFO|build_network.py:509] Read phylogenetic tree information from data/genus48/genus48_dic.csv\n",
      "[root    |INFO|build_network.py:513] Phylogenetic tree level list: ['Genus', 'Family', 'Order', 'Class', 'Phylum']\n",
      "[root    |INFO|build_network.py:514] ------------------------------------------------------------------------------------------\n",
      "[root    |INFO|build_network.py:519]      Genus: 48\n",
      "[root    |INFO|build_network.py:519]     Family: 40\n",
      "[root    |INFO|build_network.py:519]      Order: 23\n",
      "[root    |INFO|build_network.py:519]      Class: 17\n",
      "[root    |INFO|build_network.py:519]     Phylum: 9\n",
      "[root    |INFO|build_network.py:522] ------------------------------------------------------------------------------------------\n",
      "[root    |INFO|build_network.py:523] Phylogenetic_tree_dict info: ['Order', 'Number', 'Class', 'Family', 'Genus', 'Phylum']\n",
      "[root    |INFO|build_network.py:524] ------------------------------------------------------------------------------------------\n",
      "[root    |INFO|build_network.py:534] Build edge weights between [ Genus, Family]\n",
      "[root    |INFO|build_network.py:534] Build edge weights between [Family,  Order]\n",
      "[root    |INFO|build_network.py:534] Build edge weights between [ Order,  Class]\n",
      "[root    |INFO|build_network.py:534] Build edge weights between [ Class, Phylum]\n",
      "[root    |INFO|build_network.py:547] ------------------------------------------------------------------------------------------\n",
      "[root    |INFO|build_network.py:563] ------------------------------------------------------------------------------------------\n",
      "[root    |INFO|build_network.py:564] Build network based on phylogenetic tree information\n",
      "[root    |INFO|build_network.py:565] ------------------------------------------------------------------------------------------\n",
      "[root    |INFO|build_network.py:636] ------------------------------------------------------------------------------------------\n"
     ]
    },
    {
     "name": "stdout",
     "output_type": "stream",
     "text": [
      "Model: \"model_1\"\n",
      "_________________________________________________________________\n",
      "Layer (type)                 Output Shape              Param #   \n",
      "=================================================================\n",
      "input (InputLayer)           (None, 48)                0         \n",
      "_________________________________________________________________\n",
      "l1_dense (Dense_with_tree)   (None, 40)                1960      \n",
      "_________________________________________________________________\n",
      "l1_activation (Activation)   (None, 40)                0         \n",
      "_________________________________________________________________\n",
      "l2_dense (Dense_with_tree)   (None, 23)                943       \n",
      "_________________________________________________________________\n",
      "l2_activation (Activation)   (None, 23)                0         \n",
      "_________________________________________________________________\n",
      "l3_dense (Dense_with_tree)   (None, 17)                408       \n",
      "_________________________________________________________________\n",
      "l3_activation (Activation)   (None, 17)                0         \n",
      "_________________________________________________________________\n",
      "l4_dense (Dense_with_tree)   (None, 9)                 162       \n",
      "_________________________________________________________________\n",
      "l4_activation (Activation)   (None, 9)                 0         \n",
      "_________________________________________________________________\n",
      "last_dense_h (Dense)         (None, 1)                 10        \n",
      "_________________________________________________________________\n",
      "p_hat (Activation)           (None, 1)                 0         \n",
      "=================================================================\n",
      "Total params: 3,483\n",
      "Trainable params: 3,483\n",
      "Non-trainable params: 0\n",
      "_________________________________________________________________\n"
     ]
    },
    {
     "name": "stderr",
     "output_type": "stream",
     "text": [
      "[root    |INFO|build_network.py:57] Build Network\n",
      "[root    |INFO|build_network.py:58] Optimizer = adam\n",
      "[root    |INFO|build_network.py:59] Loss = binary_crossentropy\n",
      "[root    |INFO|build_network.py:60] Metrics = binary_accuracy, sensitivity, specificity, gmeasure, auc\n",
      "[root    |INFO|deepbiome.py:134] -----------------------------------------------------------------\n",
      "[root    |INFO|deepbiome.py:135] 2 fold computing start!----------------------------------\n",
      "[root    |INFO|build_network.py:136] Training start!\n"
     ]
    },
    {
     "name": "stdout",
     "output_type": "stream",
     "text": [
      "Train on 600 samples, validate on 150 samples\n",
      "Epoch 1/10\n",
      "600/600 [==============================] - 1s 2ms/step - loss: 0.6886 - binary_accuracy: 0.7083 - sensitivity: 0.9644 - specificity: 0.0267 - gmeasure: 0.0891 - auc: 0.4349 - val_loss: 0.6771 - val_binary_accuracy: 0.7267 - val_sensitivity: 1.0000 - val_specificity: 0.0000e+00 - val_gmeasure: 0.0000e+00 - val_auc: 0.5535\n",
      "Epoch 2/10\n",
      "600/600 [==============================] - 0s 61us/step - loss: 0.6709 - binary_accuracy: 0.7283 - sensitivity: 1.0000 - specificity: 0.0000e+00 - gmeasure: 0.0000e+00 - auc: 0.4872 - val_loss: 0.6585 - val_binary_accuracy: 0.7267 - val_sensitivity: 1.0000 - val_specificity: 0.0000e+00 - val_gmeasure: 0.0000e+00 - val_auc: 0.5572\n",
      "Epoch 3/10\n",
      "600/600 [==============================] - 0s 52us/step - loss: 0.6511 - binary_accuracy: 0.7283 - sensitivity: 1.0000 - specificity: 0.0000e+00 - gmeasure: 0.0000e+00 - auc: 0.4774 - val_loss: 0.6391 - val_binary_accuracy: 0.7267 - val_sensitivity: 1.0000 - val_specificity: 0.0000e+00 - val_gmeasure: 0.0000e+00 - val_auc: 0.5621\n",
      "Epoch 4/10\n",
      "600/600 [==============================] - 0s 53us/step - loss: 0.6324 - binary_accuracy: 0.7283 - sensitivity: 1.0000 - specificity: 0.0000e+00 - gmeasure: 0.0000e+00 - auc: 0.4735 - val_loss: 0.6202 - val_binary_accuracy: 0.7267 - val_sensitivity: 1.0000 - val_specificity: 0.0000e+00 - val_gmeasure: 0.0000e+00 - val_auc: 0.5585\n",
      "Epoch 5/10\n",
      "600/600 [==============================] - 0s 50us/step - loss: 0.6136 - binary_accuracy: 0.7283 - sensitivity: 1.0000 - specificity: 0.0000e+00 - gmeasure: 0.0000e+00 - auc: 0.4670 - val_loss: 0.6038 - val_binary_accuracy: 0.7267 - val_sensitivity: 1.0000 - val_specificity: 0.0000e+00 - val_gmeasure: 0.0000e+00 - val_auc: 0.5599\n",
      "Epoch 6/10\n",
      "600/600 [==============================] - 0s 56us/step - loss: 0.5995 - binary_accuracy: 0.7283 - sensitivity: 1.0000 - specificity: 0.0000e+00 - gmeasure: 0.0000e+00 - auc: 0.4615 - val_loss: 0.5918 - val_binary_accuracy: 0.7267 - val_sensitivity: 1.0000 - val_specificity: 0.0000e+00 - val_gmeasure: 0.0000e+00 - val_auc: 0.5599\n",
      "Epoch 7/10\n",
      "600/600 [==============================] - 0s 63us/step - loss: 0.5894 - binary_accuracy: 0.7283 - sensitivity: 1.0000 - specificity: 0.0000e+00 - gmeasure: 0.0000e+00 - auc: 0.4614 - val_loss: 0.5866 - val_binary_accuracy: 0.7267 - val_sensitivity: 1.0000 - val_specificity: 0.0000e+00 - val_gmeasure: 0.0000e+00 - val_auc: 0.5605\n",
      "Epoch 8/10\n",
      "600/600 [==============================] - 0s 65us/step - loss: 0.5842 - binary_accuracy: 0.7283 - sensitivity: 1.0000 - specificity: 0.0000e+00 - gmeasure: 0.0000e+00 - auc: 0.4550 - val_loss: 0.5875 - val_binary_accuracy: 0.7267 - val_sensitivity: 1.0000 - val_specificity: 0.0000e+00 - val_gmeasure: 0.0000e+00 - val_auc: 0.5594\n",
      "Epoch 9/10\n",
      "600/600 [==============================] - 0s 62us/step - loss: 0.5879 - binary_accuracy: 0.7283 - sensitivity: 1.0000 - specificity: 0.0000e+00 - gmeasure: 0.0000e+00 - auc: 0.4646 - val_loss: 0.5909 - val_binary_accuracy: 0.7267 - val_sensitivity: 1.0000 - val_specificity: 0.0000e+00 - val_gmeasure: 0.0000e+00 - val_auc: 0.5605\n",
      "Epoch 10/10\n",
      "600/600 [==============================] - 0s 60us/step - loss: 0.5898 - binary_accuracy: 0.7283 - sensitivity: 1.0000 - specificity: 0.0000e+00 - gmeasure: 0.0000e+00 - auc: 0.4653 - val_loss: 0.5917 - val_binary_accuracy: 0.7267 - val_sensitivity: 1.0000 - val_specificity: 0.0000e+00 - val_gmeasure: 0.0000e+00 - val_auc: 0.5616\n"
     ]
    },
    {
     "name": "stderr",
     "output_type": "stream",
     "text": [
      "[root    |INFO|build_network.py:146] Training end with time 2.646075487136841!\n",
      "[root    |INFO|build_network.py:79] Saved trained model weight at ./simulation_s2/simulation_s2_deepbiome/weight/weight_1.h5 \n",
      "[root    |DEBUG|deepbiome.py:143] Save weight at ./simulation_s2/simulation_s2_deepbiome/weight/weight_1.h5\n",
      "[root    |INFO|build_network.py:172] Evaluation start!\n"
     ]
    },
    {
     "name": "stdout",
     "output_type": "stream",
     "text": [
      "\r",
      "750/750 [==============================] - 0s 8us/step\n"
     ]
    },
    {
     "name": "stderr",
     "output_type": "stream",
     "text": [
      "[root    |INFO|build_network.py:177] Evaluation end with time 0.0117645263671875!\n",
      "[root    |INFO|build_network.py:178] Evaluation: [0.5903062224388123, 0.7279999852180481, 1.0, 0.0, 0.0, 0.4920051395893097]\n",
      "[root    |INFO|build_network.py:172] Evaluation start!\n"
     ]
    },
    {
     "name": "stdout",
     "output_type": "stream",
     "text": [
      "\r",
      "250/250 [==============================] - 0s 22us/step\n"
     ]
    },
    {
     "name": "stderr",
     "output_type": "stream",
     "text": [
      "[root    |INFO|build_network.py:177] Evaluation end with time 0.013155937194824219!\n",
      "[root    |INFO|build_network.py:178] Evaluation: [0.6292341351509094, 0.6959999799728394, 1.0, 0.0, 0.0, 0.46861767768859863]\n",
      "[root    |INFO|deepbiome.py:155] Compute time : 4.867671012878418\n",
      "[root    |INFO|deepbiome.py:156] 2 fold computing end!---------------------------------------------\n",
      "[root    |INFO|deepbiome.py:159] -----------------------------------------------------------------\n",
      "[root    |INFO|deepbiome.py:161] Train Evaluation : ['loss' 'binary_accuracy' 'sensitivity' 'specificity' 'gmeasure' 'auc']\n",
      "[root    |INFO|deepbiome.py:164]       mean : [0.60442263 0.70933333 1.         0.         0.         0.59980865]\n",
      "[root    |INFO|deepbiome.py:165]        std : [0.01411641 0.01866665 0.         0.         0.         0.10780351]\n",
      "[root    |INFO|deepbiome.py:166] -----------------------------------------------------------------\n",
      "[root    |INFO|deepbiome.py:168] Test Evaluation : ['loss' 'binary_accuracy' 'sensitivity' 'specificity' 'gmeasure' 'auc']\n",
      "[root    |INFO|deepbiome.py:171]       mean : [0.62954578 0.68599999 1.         0.         0.         0.59927341]\n",
      "[root    |INFO|deepbiome.py:172]        std : [0.00031164 0.00999999 0.         0.         0.         0.13065574]\n",
      "[root    |INFO|deepbiome.py:173] -----------------------------------------------------------------\n",
      "[root    |INFO|deepbiome.py:182] Total Computing Ended\n",
      "[root    |INFO|deepbiome.py:183] -----------------------------------------------------------------\n"
     ]
    }
   ],
   "source": [
    "test_evaluation, train_evaluation, network = deepbiome.deepbiome_train(log, network_info, path_info, number_of_fold=2)"
   ]
  },
  {
   "cell_type": "code",
   "execution_count": 6,
   "metadata": {},
   "outputs": [
    {
     "data": {
      "text/plain": [
       "array([[0.62985742, 0.676     , 1.        , 0.        , 0.        ,\n",
       "        0.72992915],\n",
       "       [0.62923414, 0.69599998, 1.        , 0.        , 0.        ,\n",
       "        0.46861768]])"
      ]
     },
     "execution_count": 6,
     "metadata": {},
     "output_type": "execute_result"
    }
   ],
   "source": [
    "test_evaluation"
   ]
  }
 ],
 "metadata": {
  "kernelspec": {
   "display_name": "Python 3",
   "language": "python",
   "name": "python3"
  },
  "language_info": {
   "codemirror_mode": {
    "name": "ipython",
    "version": 3
   },
   "file_extension": ".py",
   "mimetype": "text/x-python",
   "name": "python",
   "nbconvert_exporter": "python",
   "pygments_lexer": "ipython3",
   "version": "3.5.2"
  }
 },
 "nbformat": 4,
 "nbformat_minor": 2
}
