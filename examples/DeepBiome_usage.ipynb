{
 "cells": [
  {
   "cell_type": "markdown",
   "metadata": {},
   "source": [
    "# DeepBiome Usage"
   ]
  },
  {
   "cell_type": "code",
   "execution_count": 1,
   "metadata": {},
   "outputs": [
    {
     "name": "stderr",
     "output_type": "stream",
     "text": [
      "Using TensorFlow backend.\n"
     ]
    }
   ],
   "source": [
    "from deepbiome.deepbiome_wrapper import *"
   ]
  },
  {
   "cell_type": "markdown",
   "metadata": {},
   "source": [
    "### Arguments"
   ]
  },
  {
   "cell_type": "code",
   "execution_count": 2,
   "metadata": {
    "collapsed": true
   },
   "outputs": [],
   "source": [
    "logging.basicConfig(format = '[%(name)-8s|%(levelname)s|%(filename)s:%(lineno)s] %(message)s',\n",
    "                    level=logging.DEBUG)\n",
    "log = logging.getLogger()"
   ]
  },
  {
   "cell_type": "code",
   "execution_count": 3,
   "metadata": {
    "collapsed": true
   },
   "outputs": [],
   "source": [
    "network_info = {\n",
    "    'architecture_info': {'batch_normalization': 'False',\n",
    "                          'drop_out': '0',\n",
    "                          'weight_initial': 'glorot_uniform',\n",
    "                          'weight_l1_penalty':'0.01',\n",
    "                          'weight_decay': 'phylogenetic_tree',\n",
    "                         },\n",
    "    'model_info': {'decay': '0.001',\n",
    "                   'loss': 'binary_crossentropy',\n",
    "                   'lr': '0.01',\n",
    "                   'metrics': 'binary_accuracy, sensitivity, specificity, gmeasure, auc',\n",
    "                   'network_class': 'DeepBiomeNetwork',\n",
    "                   'normalizer': 'normalize_minmax',\n",
    "                   'optimizer': 'adam',\n",
    "                   'reader_class': 'MicroBiomeReader',\n",
    "                   'texa_selection_metrics': 'accuracy, sensitivity, specificity, gmeasure'},\n",
    " 'tensorboard_info': {'histogram_freq': '0',\n",
    "  'tensorboard_dir': 'None',\n",
    "  'write_grads': 'False',\n",
    "  'write_graph': 'False',\n",
    "  'write_image': 'False',\n",
    "  'write_weights_histogram': 'False',\n",
    "  'write_weights_images': 'False'},\n",
    " 'test_info': {'batch_size': 'None'},\n",
    " 'training_info': {'batch_size': '200', 'epochs': '10'},\n",
    " 'validation_info': {'batch_size': 'None', 'validation_size': '0.2'}}"
   ]
  },
  {
   "cell_type": "code",
   "execution_count": 4,
   "metadata": {
    "collapsed": true
   },
   "outputs": [],
   "source": [
    "path_info = {'data_info': {'count_list_path': 'data/simulation/gcount_list.csv',\n",
    "                          'count_path': 'data/simulation/count',\n",
    "                          'data_path': 'data/simulation/s2/',\n",
    "                          'idx_path': 'data/simulation/s2/idx.csv',\n",
    "                          'tree_info_path': 'data/genus48/genus48_dic.csv',\n",
    "                          'x_path': '',\n",
    "                          'y_path': 'y.csv'},\n",
    "             'model_info': {'evaluation': 'eval.npy',\n",
    "                          'history': 'history/hist.json',\n",
    "                          'model_dir': './simulation_s2/simulation_s2_deepbiome/',\n",
    "                          'weight': 'weight/weight.h5'}}"
   ]
  },
  {
   "cell_type": "markdown",
   "metadata": {},
   "source": [
    "## Deepbiome Training"
   ]
  },
  {
   "cell_type": "code",
   "execution_count": 5,
   "metadata": {},
   "outputs": [
    {
     "name": "stderr",
     "output_type": "stream",
     "text": [
      "[root    |INFO|deepbiome_wrapper.py:46] -----------------------------------------------------------------\n",
      "[root    |INFO|deepbiome_wrapper.py:71] -------1 simulation start!----------------------------------\n",
      "[root    |INFO|readers.py:59] -----------------------------------------------------------------------\n",
      "[root    |INFO|readers.py:60] Construct Dataset\n",
      "[root    |INFO|readers.py:61] -----------------------------------------------------------------------\n",
      "[root    |INFO|readers.py:62] Load data\n",
      "[root    |INFO|deepbiome_wrapper.py:81] -----------------------------------------------------------------\n",
      "[root    |INFO|deepbiome_wrapper.py:82] Build network for 1 simulation\n",
      "[root    |INFO|build_network.py:507] ------------------------------------------------------------------------------------------\n",
      "[root    |INFO|build_network.py:508] Read phylogenetic tree information from data/genus48/genus48_dic.csv\n",
      "[root    |INFO|build_network.py:512] Phylogenetic tree level list: ['Genus', 'Family', 'Order', 'Class', 'Phylum']\n",
      "[root    |INFO|build_network.py:513] ------------------------------------------------------------------------------------------\n",
      "[root    |INFO|build_network.py:518]      Genus: 48\n",
      "[root    |INFO|build_network.py:518]     Family: 40\n",
      "[root    |INFO|build_network.py:518]      Order: 23\n",
      "[root    |INFO|build_network.py:518]      Class: 17\n",
      "[root    |INFO|build_network.py:518]     Phylum: 9\n",
      "[root    |INFO|build_network.py:521] ------------------------------------------------------------------------------------------\n",
      "[root    |INFO|build_network.py:522] Phylogenetic_tree_dict info: ['Family', 'Class', 'Phylum', 'Order', 'Genus', 'Number']\n",
      "[root    |INFO|build_network.py:523] ------------------------------------------------------------------------------------------\n",
      "[root    |INFO|build_network.py:533] Build edge weights between [ Genus, Family]\n",
      "[root    |INFO|build_network.py:533] Build edge weights between [Family,  Order]\n",
      "[root    |INFO|build_network.py:533] Build edge weights between [ Order,  Class]\n",
      "[root    |INFO|build_network.py:533] Build edge weights between [ Class, Phylum]\n",
      "[root    |INFO|build_network.py:546] ------------------------------------------------------------------------------------------\n",
      "[root    |INFO|build_network.py:562] ------------------------------------------------------------------------------------------\n",
      "[root    |INFO|build_network.py:563] Build network based on phylogenetic tree information\n",
      "[root    |INFO|build_network.py:564] ------------------------------------------------------------------------------------------\n"
     ]
    },
    {
     "name": "stdout",
     "output_type": "stream",
     "text": [
      "WARNING:tensorflow:From /usr/local/lib/python3.5/dist-packages/tensorflow/python/framework/op_def_library.py:263: colocate_with (from tensorflow.python.framework.ops) is deprecated and will be removed in a future version.\n",
      "Instructions for updating:\n",
      "Colocations handled automatically by placer.\n"
     ]
    },
    {
     "name": "stderr",
     "output_type": "stream",
     "text": [
      "[tensorflow|WARNING|deprecation.py:328] From /usr/local/lib/python3.5/dist-packages/tensorflow/python/framework/op_def_library.py:263: colocate_with (from tensorflow.python.framework.ops) is deprecated and will be removed in a future version.\n",
      "Instructions for updating:\n",
      "Colocations handled automatically by placer.\n",
      "[root    |INFO|build_network.py:635] ------------------------------------------------------------------------------------------\n"
     ]
    },
    {
     "name": "stdout",
     "output_type": "stream",
     "text": [
      "_________________________________________________________________\n",
      "Layer (type)                 Output Shape              Param #   \n",
      "=================================================================\n",
      "input (InputLayer)           (None, 48)                0         \n",
      "_________________________________________________________________\n",
      "l1_dense (Dense_with_tree)   (None, 40)                1960      \n",
      "_________________________________________________________________\n",
      "l1_activation (Activation)   (None, 40)                0         \n",
      "_________________________________________________________________\n",
      "l2_dense (Dense_with_tree)   (None, 23)                943       \n",
      "_________________________________________________________________\n",
      "l2_activation (Activation)   (None, 23)                0         \n",
      "_________________________________________________________________\n",
      "l3_dense (Dense_with_tree)   (None, 17)                408       \n",
      "_________________________________________________________________\n",
      "l3_activation (Activation)   (None, 17)                0         \n",
      "_________________________________________________________________\n",
      "l4_dense (Dense_with_tree)   (None, 9)                 162       \n",
      "_________________________________________________________________\n",
      "l4_activation (Activation)   (None, 9)                 0         \n",
      "_________________________________________________________________\n",
      "last_dense_h (Dense)         (None, 1)                 10        \n",
      "_________________________________________________________________\n",
      "p_hat (Activation)           (None, 1)                 0         \n",
      "=================================================================\n",
      "Total params: 3,483\n",
      "Trainable params: 3,483\n",
      "Non-trainable params: 0\n",
      "_________________________________________________________________\n",
      "WARNING:tensorflow:From /DATA/home/muha/github_repos/deepbiome/deepbiome/loss_and_metric.py:51: py_func (from tensorflow.python.ops.script_ops) is deprecated and will be removed in a future version.\n",
      "Instructions for updating:\n",
      "tf.py_func is deprecated in TF V2. Instead, use\n",
      "    tf.py_function, which takes a python function which manipulates tf eager\n",
      "    tensors instead of numpy arrays. It's easy to convert a tf eager tensor to\n",
      "    an ndarray (just call tensor.numpy()) but having access to eager tensors\n",
      "    means `tf.py_function`s can use accelerators such as GPUs as well as\n",
      "    being differentiable using a gradient tape.\n",
      "    \n"
     ]
    },
    {
     "name": "stderr",
     "output_type": "stream",
     "text": [
      "[tensorflow|WARNING|deprecation.py:328] From /DATA/home/muha/github_repos/deepbiome/deepbiome/loss_and_metric.py:51: py_func (from tensorflow.python.ops.script_ops) is deprecated and will be removed in a future version.\n",
      "Instructions for updating:\n",
      "tf.py_func is deprecated in TF V2. Instead, use\n",
      "    tf.py_function, which takes a python function which manipulates tf eager\n",
      "    tensors instead of numpy arrays. It's easy to convert a tf eager tensor to\n",
      "    an ndarray (just call tensor.numpy()) but having access to eager tensors\n",
      "    means `tf.py_function`s can use accelerators such as GPUs as well as\n",
      "    being differentiable using a gradient tape.\n",
      "    \n",
      "[root    |INFO|build_network.py:56] Build Network\n",
      "[root    |INFO|build_network.py:57] Optimizer = adam\n",
      "[root    |INFO|build_network.py:58] Loss = binary_crossentropy\n",
      "[root    |INFO|build_network.py:59] Metrics = binary_accuracy, sensitivity, specificity, gmeasure, auc\n",
      "[root    |INFO|deepbiome_wrapper.py:89] -----------------------------------------------------------------\n",
      "[root    |INFO|deepbiome_wrapper.py:90] 1 fold computing start!----------------------------------\n",
      "[root    |INFO|build_network.py:135] Training start!\n"
     ]
    },
    {
     "name": "stdout",
     "output_type": "stream",
     "text": [
      "WARNING:tensorflow:From /usr/local/lib/python3.5/dist-packages/tensorflow/python/ops/math_ops.py:2862: to_int32 (from tensorflow.python.ops.math_ops) is deprecated and will be removed in a future version.\n",
      "Instructions for updating:\n",
      "Use tf.cast instead.\n"
     ]
    },
    {
     "name": "stderr",
     "output_type": "stream",
     "text": [
      "[tensorflow|WARNING|deprecation.py:328] From /usr/local/lib/python3.5/dist-packages/tensorflow/python/ops/math_ops.py:2862: to_int32 (from tensorflow.python.ops.math_ops) is deprecated and will be removed in a future version.\n",
      "Instructions for updating:\n",
      "Use tf.cast instead.\n"
     ]
    },
    {
     "name": "stdout",
     "output_type": "stream",
     "text": [
      "Train on 600 samples, validate on 150 samples\n",
      "Epoch 1/10\n",
      "600/600 [==============================] - 1s 2ms/step - loss: 5.3667 - binary_accuracy: 0.3117 - sensitivity: 0.0000e+00 - specificity: 1.0000 - gmeasure: 0.0000e+00 - auc: 0.4892 - val_loss: 1.9990 - val_binary_accuracy: 0.3000 - val_sensitivity: 0.0000e+00 - val_specificity: 1.0000 - val_gmeasure: 0.0000e+00 - val_auc: 0.4323\n",
      "Epoch 2/10\n",
      "600/600 [==============================] - 0s 25us/step - loss: 1.8216 - binary_accuracy: 0.3117 - sensitivity: 0.0000e+00 - specificity: 1.0000 - gmeasure: 0.0000e+00 - auc: 0.4653 - val_loss: 1.6236 - val_binary_accuracy: 0.3000 - val_sensitivity: 0.0000e+00 - val_specificity: 1.0000 - val_gmeasure: 0.0000e+00 - val_auc: 0.4644\n",
      "Epoch 3/10\n",
      "600/600 [==============================] - 0s 24us/step - loss: 1.5197 - binary_accuracy: 0.3117 - sensitivity: 0.0000e+00 - specificity: 1.0000 - gmeasure: 0.0000e+00 - auc: 0.4630 - val_loss: 1.4027 - val_binary_accuracy: 0.3000 - val_sensitivity: 0.0000e+00 - val_specificity: 1.0000 - val_gmeasure: 0.0000e+00 - val_auc: 0.4814\n",
      "Epoch 4/10\n",
      "600/600 [==============================] - 0s 29us/step - loss: 1.3281 - binary_accuracy: 0.3117 - sensitivity: 0.0000e+00 - specificity: 1.0000 - gmeasure: 0.0000e+00 - auc: 0.4694 - val_loss: 1.2399 - val_binary_accuracy: 0.3000 - val_sensitivity: 0.0000e+00 - val_specificity: 1.0000 - val_gmeasure: 0.0000e+00 - val_auc: 0.4849\n",
      "Epoch 5/10\n",
      "600/600 [==============================] - 0s 28us/step - loss: 1.1779 - binary_accuracy: 0.3117 - sensitivity: 0.0000e+00 - specificity: 1.0000 - gmeasure: 0.0000e+00 - auc: 0.4677 - val_loss: 1.1080 - val_binary_accuracy: 0.3000 - val_sensitivity: 0.0000e+00 - val_specificity: 1.0000 - val_gmeasure: 0.0000e+00 - val_auc: 0.4862\n",
      "Epoch 6/10\n",
      "600/600 [==============================] - 0s 29us/step - loss: 1.0563 - binary_accuracy: 0.3117 - sensitivity: 0.0000e+00 - specificity: 1.0000 - gmeasure: 0.0000e+00 - auc: 0.4730 - val_loss: 0.9956 - val_binary_accuracy: 0.3000 - val_sensitivity: 0.0000e+00 - val_specificity: 1.0000 - val_gmeasure: 0.0000e+00 - val_auc: 0.4831\n",
      "Epoch 7/10\n",
      "600/600 [==============================] - 0s 34us/step - loss: 0.9517 - binary_accuracy: 0.3117 - sensitivity: 0.0000e+00 - specificity: 1.0000 - gmeasure: 0.0000e+00 - auc: 0.4735 - val_loss: 0.8983 - val_binary_accuracy: 0.3000 - val_sensitivity: 0.0000e+00 - val_specificity: 1.0000 - val_gmeasure: 0.0000e+00 - val_auc: 0.4811\n",
      "Epoch 8/10\n",
      "600/600 [==============================] - 0s 24us/step - loss: 0.8616 - binary_accuracy: 0.3117 - sensitivity: 0.0000e+00 - specificity: 1.0000 - gmeasure: 0.0000e+00 - auc: 0.4748 - val_loss: 0.8140 - val_binary_accuracy: 0.3000 - val_sensitivity: 0.0000e+00 - val_specificity: 1.0000 - val_gmeasure: 0.0000e+00 - val_auc: 0.4813\n",
      "Epoch 9/10\n",
      "600/600 [==============================] - 0s 77us/step - loss: 0.7866 - binary_accuracy: 0.3117 - sensitivity: 0.0000e+00 - specificity: 1.0000 - gmeasure: 0.0000e+00 - auc: 0.4775 - val_loss: 0.7424 - val_binary_accuracy: 0.3000 - val_sensitivity: 0.0000e+00 - val_specificity: 1.0000 - val_gmeasure: 0.0000e+00 - val_auc: 0.4806\n",
      "Epoch 10/10\n",
      "600/600 [==============================] - 0s 38us/step - loss: 0.7201 - binary_accuracy: 0.3117 - sensitivity: 0.0000e+00 - specificity: 1.0000 - gmeasure: 0.0000e+00 - auc: 0.4819 - val_loss: 0.6851 - val_binary_accuracy: 0.7000 - val_sensitivity: 1.0000 - val_specificity: 0.0000e+00 - val_gmeasure: 0.0000e+00 - val_auc: 0.4806\n"
     ]
    },
    {
     "name": "stderr",
     "output_type": "stream",
     "text": [
      "[root    |INFO|build_network.py:145] Training end with time 2.007016658782959!\n",
      "[root    |INFO|build_network.py:78] Saved trained model weight at ./simulation_s2/simulation_s2_deepbiome/weight/weight_0.h5 \n",
      "[root    |DEBUG|deepbiome_wrapper.py:98] Save weight at ./simulation_s2/simulation_s2_deepbiome/weight/weight_0.h5\n",
      "[root    |INFO|build_network.py:171] Evaluation start!\n"
     ]
    },
    {
     "name": "stdout",
     "output_type": "stream",
     "text": [
      "\r",
      "750/750 [==============================] - 0s 3us/step\n"
     ]
    },
    {
     "name": "stderr",
     "output_type": "stream",
     "text": [
      "[root    |INFO|build_network.py:176] Evaluation end with time 0.0038127899169921875!\n",
      "[root    |INFO|build_network.py:177] Evaluation: [0.6855236291885376, 0.690666675567627, 1.0, 0.0, 0.0, 0.48411911725997925]\n",
      "[root    |INFO|build_network.py:171] Evaluation start!\n"
     ]
    },
    {
     "name": "stdout",
     "output_type": "stream",
     "text": [
      "\r",
      "250/250 [==============================] - 0s 8us/step\n"
     ]
    },
    {
     "name": "stderr",
     "output_type": "stream",
     "text": [
      "[root    |INFO|build_network.py:176] Evaluation end with time 0.00304412841796875!\n",
      "[root    |INFO|build_network.py:177] Evaluation: [0.6861116886138916, 0.6759999990463257, 1.0, 0.0, 0.0, 0.5118708610534668]\n",
      "[root    |INFO|deepbiome_wrapper.py:110] Compute time : 5.323652029037476\n",
      "[root    |INFO|deepbiome_wrapper.py:111] 1 fold computing end!---------------------------------------------\n",
      "[root    |INFO|deepbiome_wrapper.py:71] -------2 simulation start!----------------------------------\n",
      "[root    |INFO|readers.py:59] -----------------------------------------------------------------------\n",
      "[root    |INFO|readers.py:60] Construct Dataset\n",
      "[root    |INFO|readers.py:61] -----------------------------------------------------------------------\n",
      "[root    |INFO|readers.py:62] Load data\n",
      "[root    |INFO|deepbiome_wrapper.py:81] -----------------------------------------------------------------\n",
      "[root    |INFO|deepbiome_wrapper.py:82] Build network for 2 simulation\n",
      "[root    |INFO|build_network.py:507] ------------------------------------------------------------------------------------------\n",
      "[root    |INFO|build_network.py:508] Read phylogenetic tree information from data/genus48/genus48_dic.csv\n",
      "[root    |INFO|build_network.py:512] Phylogenetic tree level list: ['Genus', 'Family', 'Order', 'Class', 'Phylum']\n",
      "[root    |INFO|build_network.py:513] ------------------------------------------------------------------------------------------\n",
      "[root    |INFO|build_network.py:518]      Genus: 48\n",
      "[root    |INFO|build_network.py:518]     Family: 40\n",
      "[root    |INFO|build_network.py:518]      Order: 23\n",
      "[root    |INFO|build_network.py:518]      Class: 17\n",
      "[root    |INFO|build_network.py:518]     Phylum: 9\n",
      "[root    |INFO|build_network.py:521] ------------------------------------------------------------------------------------------\n",
      "[root    |INFO|build_network.py:522] Phylogenetic_tree_dict info: ['Family', 'Class', 'Phylum', 'Order', 'Genus', 'Number']\n",
      "[root    |INFO|build_network.py:523] ------------------------------------------------------------------------------------------\n",
      "[root    |INFO|build_network.py:533] Build edge weights between [ Genus, Family]\n",
      "[root    |INFO|build_network.py:533] Build edge weights between [Family,  Order]\n",
      "[root    |INFO|build_network.py:533] Build edge weights between [ Order,  Class]\n",
      "[root    |INFO|build_network.py:533] Build edge weights between [ Class, Phylum]\n",
      "[root    |INFO|build_network.py:546] ------------------------------------------------------------------------------------------\n",
      "[root    |INFO|build_network.py:562] ------------------------------------------------------------------------------------------\n",
      "[root    |INFO|build_network.py:563] Build network based on phylogenetic tree information\n",
      "[root    |INFO|build_network.py:564] ------------------------------------------------------------------------------------------\n",
      "[root    |INFO|build_network.py:635] ------------------------------------------------------------------------------------------\n",
      "[root    |INFO|build_network.py:56] Build Network\n",
      "[root    |INFO|build_network.py:57] Optimizer = adam\n",
      "[root    |INFO|build_network.py:58] Loss = binary_crossentropy\n",
      "[root    |INFO|build_network.py:59] Metrics = binary_accuracy, sensitivity, specificity, gmeasure, auc\n"
     ]
    },
    {
     "name": "stdout",
     "output_type": "stream",
     "text": [
      "_________________________________________________________________\n",
      "Layer (type)                 Output Shape              Param #   \n",
      "=================================================================\n",
      "input (InputLayer)           (None, 48)                0         \n",
      "_________________________________________________________________\n",
      "l1_dense (Dense_with_tree)   (None, 40)                1960      \n",
      "_________________________________________________________________\n",
      "l1_activation (Activation)   (None, 40)                0         \n",
      "_________________________________________________________________\n",
      "l2_dense (Dense_with_tree)   (None, 23)                943       \n",
      "_________________________________________________________________\n",
      "l2_activation (Activation)   (None, 23)                0         \n",
      "_________________________________________________________________\n",
      "l3_dense (Dense_with_tree)   (None, 17)                408       \n",
      "_________________________________________________________________\n",
      "l3_activation (Activation)   (None, 17)                0         \n",
      "_________________________________________________________________\n",
      "l4_dense (Dense_with_tree)   (None, 9)                 162       \n",
      "_________________________________________________________________\n",
      "l4_activation (Activation)   (None, 9)                 0         \n",
      "_________________________________________________________________\n",
      "last_dense_h (Dense)         (None, 1)                 10        \n",
      "_________________________________________________________________\n",
      "p_hat (Activation)           (None, 1)                 0         \n",
      "=================================================================\n",
      "Total params: 3,483\n",
      "Trainable params: 3,483\n",
      "Non-trainable params: 0\n",
      "_________________________________________________________________\n"
     ]
    },
    {
     "name": "stderr",
     "output_type": "stream",
     "text": [
      "[root    |INFO|deepbiome_wrapper.py:89] -----------------------------------------------------------------\n",
      "[root    |INFO|deepbiome_wrapper.py:90] 2 fold computing start!----------------------------------\n",
      "[root    |INFO|build_network.py:135] Training start!\n"
     ]
    },
    {
     "name": "stdout",
     "output_type": "stream",
     "text": [
      "Train on 600 samples, validate on 150 samples\n",
      "Epoch 1/10\n",
      "600/600 [==============================] - 0s 737us/step - loss: 4.4404 - binary_accuracy: 0.2717 - sensitivity: 0.0000e+00 - specificity: 1.0000 - gmeasure: 0.0000e+00 - auc: 0.4015 - val_loss: 2.1018 - val_binary_accuracy: 0.2733 - val_sensitivity: 0.0000e+00 - val_specificity: 1.0000 - val_gmeasure: 0.0000e+00 - val_auc: 0.4294\n",
      "Epoch 2/10\n",
      "600/600 [==============================] - 0s 38us/step - loss: 1.9570 - binary_accuracy: 0.2717 - sensitivity: 0.0000e+00 - specificity: 1.0000 - gmeasure: 0.0000e+00 - auc: 0.4284 - val_loss: 1.7234 - val_binary_accuracy: 0.2733 - val_sensitivity: 0.0000e+00 - val_specificity: 1.0000 - val_gmeasure: 0.0000e+00 - val_auc: 0.4290\n",
      "Epoch 3/10\n",
      "600/600 [==============================] - 0s 34us/step - loss: 1.6495 - binary_accuracy: 0.2717 - sensitivity: 0.0000e+00 - specificity: 1.0000 - gmeasure: 0.0000e+00 - auc: 0.4452 - val_loss: 1.5155 - val_binary_accuracy: 0.2733 - val_sensitivity: 0.0000e+00 - val_specificity: 1.0000 - val_gmeasure: 0.0000e+00 - val_auc: 0.4273\n",
      "Epoch 4/10\n",
      "600/600 [==============================] - 0s 27us/step - loss: 1.4663 - binary_accuracy: 0.2717 - sensitivity: 0.0000e+00 - specificity: 1.0000 - gmeasure: 0.0000e+00 - auc: 0.4451 - val_loss: 1.3729 - val_binary_accuracy: 0.2733 - val_sensitivity: 0.0000e+00 - val_specificity: 1.0000 - val_gmeasure: 0.0000e+00 - val_auc: 0.4265\n",
      "Epoch 5/10\n",
      "600/600 [==============================] - 0s 29us/step - loss: 1.3382 - binary_accuracy: 0.2717 - sensitivity: 0.0000e+00 - specificity: 1.0000 - gmeasure: 0.0000e+00 - auc: 0.4487 - val_loss: 1.2644 - val_binary_accuracy: 0.2733 - val_sensitivity: 0.0000e+00 - val_specificity: 1.0000 - val_gmeasure: 0.0000e+00 - val_auc: 0.4274\n",
      "Epoch 6/10\n",
      "600/600 [==============================] - 0s 28us/step - loss: 1.2383 - binary_accuracy: 0.2717 - sensitivity: 0.0000e+00 - specificity: 1.0000 - gmeasure: 0.0000e+00 - auc: 0.4514 - val_loss: 1.1768 - val_binary_accuracy: 0.2733 - val_sensitivity: 0.0000e+00 - val_specificity: 1.0000 - val_gmeasure: 0.0000e+00 - val_auc: 0.4263\n",
      "Epoch 7/10\n",
      "600/600 [==============================] - 0s 28us/step - loss: 1.1532 - binary_accuracy: 0.2717 - sensitivity: 0.0000e+00 - specificity: 1.0000 - gmeasure: 0.0000e+00 - auc: 0.4479 - val_loss: 1.1038 - val_binary_accuracy: 0.2733 - val_sensitivity: 0.0000e+00 - val_specificity: 1.0000 - val_gmeasure: 0.0000e+00 - val_auc: 0.4265\n",
      "Epoch 8/10\n",
      "600/600 [==============================] - 0s 32us/step - loss: 1.0838 - binary_accuracy: 0.2717 - sensitivity: 0.0000e+00 - specificity: 1.0000 - gmeasure: 0.0000e+00 - auc: 0.4446 - val_loss: 1.0409 - val_binary_accuracy: 0.2733 - val_sensitivity: 0.0000e+00 - val_specificity: 1.0000 - val_gmeasure: 0.0000e+00 - val_auc: 0.4229\n",
      "Epoch 9/10\n",
      "600/600 [==============================] - 0s 32us/step - loss: 1.0240 - binary_accuracy: 0.2717 - sensitivity: 0.0000e+00 - specificity: 1.0000 - gmeasure: 0.0000e+00 - auc: 0.4336 - val_loss: 0.9857 - val_binary_accuracy: 0.2733 - val_sensitivity: 0.0000e+00 - val_specificity: 1.0000 - val_gmeasure: 0.0000e+00 - val_auc: 0.4406\n",
      "Epoch 10/10\n",
      "600/600 [==============================] - 0s 38us/step - loss: 0.9700 - binary_accuracy: 0.2717 - sensitivity: 0.0000e+00 - specificity: 1.0000 - gmeasure: 0.0000e+00 - auc: 0.4215 - val_loss: 0.9367 - val_binary_accuracy: 0.2733 - val_sensitivity: 0.0000e+00 - val_specificity: 1.0000 - val_gmeasure: 0.0000e+00 - val_auc: 0.4285\n"
     ]
    },
    {
     "name": "stderr",
     "output_type": "stream",
     "text": [
      "[root    |INFO|build_network.py:145] Training end with time 1.1367812156677246!\n",
      "[root    |INFO|build_network.py:78] Saved trained model weight at ./simulation_s2/simulation_s2_deepbiome/weight/weight_1.h5 \n",
      "[root    |DEBUG|deepbiome_wrapper.py:98] Save weight at ./simulation_s2/simulation_s2_deepbiome/weight/weight_1.h5\n",
      "[root    |INFO|build_network.py:171] Evaluation start!\n"
     ]
    },
    {
     "name": "stdout",
     "output_type": "stream",
     "text": [
      "\r",
      "750/750 [==============================] - 0s 4us/step\n"
     ]
    },
    {
     "name": "stderr",
     "output_type": "stream",
     "text": [
      "[root    |INFO|build_network.py:176] Evaluation end with time 0.003668546676635742!\n",
      "[root    |INFO|build_network.py:177] Evaluation: [0.9377524256706238, 0.2720000147819519, 0.0, 1.0, 0.0, 0.4184083938598633]\n",
      "[root    |INFO|build_network.py:171] Evaluation start!\n"
     ]
    },
    {
     "name": "stdout",
     "output_type": "stream",
     "text": [
      "\r",
      "250/250 [==============================] - 0s 16us/step\n"
     ]
    },
    {
     "name": "stderr",
     "output_type": "stream",
     "text": [
      "[root    |INFO|build_network.py:176] Evaluation end with time 0.004987955093383789!\n",
      "[root    |INFO|build_network.py:177] Evaluation: [0.91334068775177, 0.30399999022483826, 0.0, 1.0, 0.0, 0.4902071952819824]\n",
      "[root    |INFO|deepbiome_wrapper.py:110] Compute time : 2.720632791519165\n",
      "[root    |INFO|deepbiome_wrapper.py:111] 2 fold computing end!---------------------------------------------\n",
      "[root    |INFO|deepbiome_wrapper.py:114] -----------------------------------------------------------------\n",
      "[root    |INFO|deepbiome_wrapper.py:116] Train Evaluation : ['loss' 'binary_accuracy' 'sensitivity' 'specificity' 'gmeasure' 'auc']\n",
      "[root    |INFO|deepbiome_wrapper.py:119]       mean : [0.81163803 0.48133335 0.5        0.5        0.         0.45126376]\n",
      "[root    |INFO|deepbiome_wrapper.py:120]        std : [0.1261144  0.20933333 0.5        0.5        0.         0.03285536]\n",
      "[root    |INFO|deepbiome_wrapper.py:121] -----------------------------------------------------------------\n",
      "[root    |INFO|deepbiome_wrapper.py:123] Test Evaluation : ['loss' 'binary_accuracy' 'sensitivity' 'specificity' 'gmeasure' 'auc']\n",
      "[root    |INFO|deepbiome_wrapper.py:126]       mean : [0.79972619 0.48999999 0.5        0.5        0.         0.50103903]\n",
      "[root    |INFO|deepbiome_wrapper.py:127]        std : [0.1136145  0.186      0.5        0.5        0.         0.01083183]\n",
      "[root    |INFO|deepbiome_wrapper.py:128] -----------------------------------------------------------------\n",
      "[root    |INFO|deepbiome_wrapper.py:137] Total Computing Ended\n",
      "[root    |INFO|deepbiome_wrapper.py:138] -----------------------------------------------------------------\n"
     ]
    }
   ],
   "source": [
    "test_evaluation, train_evaluation, network = deepbiome_train(log, network_info, path_info, number_of_fold=2)"
   ]
  },
  {
   "cell_type": "code",
   "execution_count": 6,
   "metadata": {},
   "outputs": [
    {
     "data": {
      "text/plain": [
       "array([[0.68611169, 0.676     , 1.        , 0.        , 0.        ,\n",
       "        0.51187086],\n",
       "       [0.91334069, 0.30399999, 0.        , 1.        , 0.        ,\n",
       "        0.4902072 ]])"
      ]
     },
     "execution_count": 6,
     "metadata": {},
     "output_type": "execute_result"
    }
   ],
   "source": [
    "test_evaluation"
   ]
  }
 ],
 "metadata": {
  "kernelspec": {
   "display_name": "Python 3",
   "language": "python",
   "name": "python3"
  },
  "language_info": {
   "codemirror_mode": {
    "name": "ipython",
    "version": 3
   },
   "file_extension": ".py",
   "mimetype": "text/x-python",
   "name": "python",
   "nbconvert_exporter": "python",
   "pygments_lexer": "ipython3",
   "version": "3.5.2"
  }
 },
 "nbformat": 4,
 "nbformat_minor": 2
}
