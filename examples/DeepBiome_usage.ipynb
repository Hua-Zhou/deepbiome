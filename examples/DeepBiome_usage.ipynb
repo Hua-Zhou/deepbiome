{
 "cells": [
  {
   "cell_type": "markdown",
   "metadata": {},
   "source": [
    "# DeepBiome Usage"
   ]
  },
  {
   "cell_type": "markdown",
   "metadata": {},
   "source": [
    "### Library"
   ]
  },
  {
   "cell_type": "code",
   "execution_count": 1,
   "metadata": {},
   "outputs": [
    {
     "name": "stderr",
     "output_type": "stream",
     "text": [
      "Using TensorFlow backend.\n"
     ]
    }
   ],
   "source": [
    "from deepbiome_wrapper import *"
   ]
  },
  {
   "cell_type": "code",
   "execution_count": 2,
   "metadata": {},
   "outputs": [],
   "source": [
    "logging.basicConfig(format = '[%(name)-8s|%(levelname)s|%(filename)s:%(lineno)s] %(message)s',\n",
    "                    level=logging.DEBUG)\n",
    "log = logging.getLogger()"
   ]
  },
  {
   "cell_type": "markdown",
   "metadata": {},
   "source": [
    "### Arguments"
   ]
  },
  {
   "cell_type": "code",
   "execution_count": 9,
   "metadata": {},
   "outputs": [],
   "source": [
    "network_info = {'architecture_info': {'batch_normalization': 'False',\n",
    "  'drop_out': '0',\n",
    "  'weight_decay': 'phylogenetic_tree',\n",
    "  'weight_initial': 'glorot_uniform'},\n",
    " 'model_info': {'decay': '0.001',\n",
    "  'loss': 'binary_crossentropy',\n",
    "  'lr': '0.01',\n",
    "  'metrics': 'binary_accuracy, sensitivity, specificity, gmeasure, auc',\n",
    "  'network_class': 'DeepBiomeNetwork',\n",
    "  'normalizer': 'normalize_minmax',\n",
    "  'optimizer': 'adam',\n",
    "  'reader_class': 'MicroBiomeReader',\n",
    "  'texa_selection_metrics': 'accuracy, sensitivity, specificity, gmeasure'},\n",
    " 'tensorboard_info': {'histogram_freq': '0',\n",
    "  'tensorboard_dir': 'None',\n",
    "  'write_grads': 'False',\n",
    "  'write_graph': 'False',\n",
    "  'write_image': 'False',\n",
    "  'write_weights_histogram': 'False',\n",
    "  'write_weights_images': 'False'},\n",
    " 'test_info': {'batch_size': 'None'},\n",
    " 'training_info': {'batch_size': '200', 'epochs': '100'},\n",
    " 'validation_info': {'batch_size': 'None', 'validation_size': '0.2'}}"
   ]
  },
  {
   "cell_type": "code",
   "execution_count": 10,
   "metadata": {},
   "outputs": [],
   "source": [
    "path_info = {'data_info': {'count_list_path': 'data/simulation/gcount_list.csv',\n",
    "  'count_path': 'data/simulation/count',\n",
    "  'data_path': 'data/simulation/s2/ver0',\n",
    "  'idx_path': 'data/simulation/s2/idx.csv',\n",
    "  'tree_info_path': 'data/genus48/genus48_dic.csv',\n",
    "  'x_path': '',\n",
    "  'y_path': 'y.csv'},\n",
    " 'model_info': {'evaluation': 'eval.npy',\n",
    "  'history': 'history/hist.json',\n",
    "  'model_dir': './simulation_s2_v0/simulation_s2_deepbiome/',\n",
    "  'weight': 'weight/weight.h5'}}"
   ]
  },
  {
   "cell_type": "markdown",
   "metadata": {},
   "source": [
    "## Deepbiome Training"
   ]
  },
  {
   "cell_type": "code",
   "execution_count": 12,
   "metadata": {},
   "outputs": [
    {
     "name": "stderr",
     "output_type": "stream",
     "text": [
      "[root    |INFO|deepbiome_wrapper.py:46] -----------------------------------------------------------------\n",
      "[root    |INFO|deepbiome_wrapper.py:71] -------1 simulation start!----------------------------------\n",
      "[root    |INFO|readers.py:59] -----------------------------------------------------------------------\n",
      "[root    |INFO|readers.py:60] Construct Dataset\n",
      "[root    |INFO|readers.py:61] -----------------------------------------------------------------------\n",
      "[root    |INFO|readers.py:62] Load data\n",
      "[root    |INFO|deepbiome_wrapper.py:81] -----------------------------------------------------------------\n",
      "[root    |INFO|deepbiome_wrapper.py:82] Build network for 1 simulation\n",
      "[root    |INFO|build_network.py:507] ------------------------------------------------------------------------------------------\n",
      "[root    |INFO|build_network.py:508] Read phylogenetic tree information from data/genus48/genus48_dic.csv\n",
      "[root    |INFO|build_network.py:512] Phylogenetic tree level list: ['Genus', 'Family', 'Order', 'Class', 'Phylum']\n",
      "[root    |INFO|build_network.py:513] ------------------------------------------------------------------------------------------\n",
      "[root    |INFO|build_network.py:518]      Genus: 48\n",
      "[root    |INFO|build_network.py:518]     Family: 40\n",
      "[root    |INFO|build_network.py:518]      Order: 23\n",
      "[root    |INFO|build_network.py:518]      Class: 17\n",
      "[root    |INFO|build_network.py:518]     Phylum: 9\n",
      "[root    |INFO|build_network.py:521] ------------------------------------------------------------------------------------------\n",
      "[root    |INFO|build_network.py:522] Phylogenetic_tree_dict info: ['Order', 'Class', 'Phylum', 'Family', 'Genus', 'Number']\n",
      "[root    |INFO|build_network.py:523] ------------------------------------------------------------------------------------------\n",
      "[root    |INFO|build_network.py:533] Build edge weights between [ Genus, Family]\n",
      "[root    |INFO|build_network.py:533] Build edge weights between [Family,  Order]\n",
      "[root    |INFO|build_network.py:533] Build edge weights between [ Order,  Class]\n",
      "[root    |INFO|build_network.py:533] Build edge weights between [ Class, Phylum]\n",
      "[root    |INFO|build_network.py:546] ------------------------------------------------------------------------------------------\n",
      "[root    |INFO|build_network.py:562] ------------------------------------------------------------------------------------------\n",
      "[root    |INFO|build_network.py:563] Build network based on phylogenetic tree information\n",
      "[root    |INFO|build_network.py:564] ------------------------------------------------------------------------------------------\n",
      "[root    |INFO|build_network.py:635] ------------------------------------------------------------------------------------------\n",
      "[root    |INFO|build_network.py:56] Build Network\n",
      "[root    |INFO|build_network.py:57] Optimizer = adam\n",
      "[root    |INFO|build_network.py:58] Loss = binary_crossentropy\n",
      "[root    |INFO|build_network.py:59] Metrics = binary_accuracy, sensitivity, specificity, gmeasure, auc\n"
     ]
    },
    {
     "name": "stdout",
     "output_type": "stream",
     "text": [
      "_________________________________________________________________\n",
      "Layer (type)                 Output Shape              Param #   \n",
      "=================================================================\n",
      "input (InputLayer)           (None, 48)                0         \n",
      "_________________________________________________________________\n",
      "l1_dense (Dense_with_tree)   (None, 40)                1960      \n",
      "_________________________________________________________________\n",
      "l1_activation (Activation)   (None, 40)                0         \n",
      "_________________________________________________________________\n",
      "l2_dense (Dense_with_tree)   (None, 23)                943       \n",
      "_________________________________________________________________\n",
      "l2_activation (Activation)   (None, 23)                0         \n",
      "_________________________________________________________________\n",
      "l3_dense (Dense_with_tree)   (None, 17)                408       \n",
      "_________________________________________________________________\n",
      "l3_activation (Activation)   (None, 17)                0         \n",
      "_________________________________________________________________\n",
      "l4_dense (Dense_with_tree)   (None, 9)                 162       \n",
      "_________________________________________________________________\n",
      "l4_activation (Activation)   (None, 9)                 0         \n",
      "_________________________________________________________________\n",
      "last_dense_h (Dense)         (None, 1)                 10        \n",
      "_________________________________________________________________\n",
      "p_hat (Activation)           (None, 1)                 0         \n",
      "=================================================================\n",
      "Total params: 3,483\n",
      "Trainable params: 3,483\n",
      "Non-trainable params: 0\n",
      "_________________________________________________________________\n"
     ]
    },
    {
     "name": "stderr",
     "output_type": "stream",
     "text": [
      "[root    |INFO|deepbiome_wrapper.py:89] -----------------------------------------------------------------\n",
      "[root    |INFO|deepbiome_wrapper.py:90] 1 fold computing start!----------------------------------\n",
      "[root    |INFO|build_network.py:135] Training start!\n"
     ]
    },
    {
     "name": "stdout",
     "output_type": "stream",
     "text": [
      "Train on 600 samples, validate on 150 samples\n",
      "Epoch 1/100\n",
      "600/600 [==============================] - 1s 1ms/step - loss: 0.6901 - binary_accuracy: 0.5883 - sensitivity: 0.3000 - specificity: 0.6750 - gmeasure: 0.0500 - auc: 0.4513 - val_loss: 0.6822 - val_binary_accuracy: 0.8333 - val_sensitivity: 0.0000e+00 - val_specificity: 1.0000 - val_gmeasure: 0.0000e+00 - val_auc: 0.4323\n",
      "Epoch 2/100\n",
      "600/600 [==============================] - 0s 35us/step - loss: 0.6802 - binary_accuracy: 0.7883 - sensitivity: 0.0000e+00 - specificity: 1.0000 - gmeasure: 0.0000e+00 - auc: 0.5164 - val_loss: 0.6690 - val_binary_accuracy: 0.8333 - val_sensitivity: 0.0000e+00 - val_specificity: 1.0000 - val_gmeasure: 0.0000e+00 - val_auc: 0.4046\n",
      "Epoch 3/100\n",
      "600/600 [==============================] - 0s 33us/step - loss: 0.6685 - binary_accuracy: 0.7883 - sensitivity: 0.0000e+00 - specificity: 1.0000 - gmeasure: 0.0000e+00 - auc: 0.5089 - val_loss: 0.6544 - val_binary_accuracy: 0.8333 - val_sensitivity: 0.0000e+00 - val_specificity: 1.0000 - val_gmeasure: 0.0000e+00 - val_auc: 0.4040\n",
      "Epoch 4/100\n",
      "600/600 [==============================] - 0s 37us/step - loss: 0.6553 - binary_accuracy: 0.7883 - sensitivity: 0.0000e+00 - specificity: 1.0000 - gmeasure: 0.0000e+00 - auc: 0.5076 - val_loss: 0.6385 - val_binary_accuracy: 0.8333 - val_sensitivity: 0.0000e+00 - val_specificity: 1.0000 - val_gmeasure: 0.0000e+00 - val_auc: 0.4110\n",
      "Epoch 5/100\n",
      "600/600 [==============================] - 0s 36us/step - loss: 0.6414 - binary_accuracy: 0.7883 - sensitivity: 0.0000e+00 - specificity: 1.0000 - gmeasure: 0.0000e+00 - auc: 0.5093 - val_loss: 0.6211 - val_binary_accuracy: 0.8333 - val_sensitivity: 0.0000e+00 - val_specificity: 1.0000 - val_gmeasure: 0.0000e+00 - val_auc: 0.4227\n",
      "Epoch 6/100\n",
      "600/600 [==============================] - 0s 36us/step - loss: 0.6267 - binary_accuracy: 0.7883 - sensitivity: 0.0000e+00 - specificity: 1.0000 - gmeasure: 0.0000e+00 - auc: 0.5224 - val_loss: 0.6023 - val_binary_accuracy: 0.8333 - val_sensitivity: 0.0000e+00 - val_specificity: 1.0000 - val_gmeasure: 0.0000e+00 - val_auc: 0.4458\n",
      "Epoch 7/100\n",
      "600/600 [==============================] - 0s 37us/step - loss: 0.6104 - binary_accuracy: 0.7883 - sensitivity: 0.0000e+00 - specificity: 1.0000 - gmeasure: 0.0000e+00 - auc: 0.5367 - val_loss: 0.5822 - val_binary_accuracy: 0.8333 - val_sensitivity: 0.0000e+00 - val_specificity: 1.0000 - val_gmeasure: 0.0000e+00 - val_auc: 0.4965\n",
      "Epoch 8/100\n",
      "600/600 [==============================] - 0s 34us/step - loss: 0.5941 - binary_accuracy: 0.7883 - sensitivity: 0.0000e+00 - specificity: 1.0000 - gmeasure: 0.0000e+00 - auc: 0.5671 - val_loss: 0.5608 - val_binary_accuracy: 0.8333 - val_sensitivity: 0.0000e+00 - val_specificity: 1.0000 - val_gmeasure: 0.0000e+00 - val_auc: 0.5954\n",
      "Epoch 9/100\n",
      "600/600 [==============================] - 0s 35us/step - loss: 0.5769 - binary_accuracy: 0.7883 - sensitivity: 0.0000e+00 - specificity: 1.0000 - gmeasure: 0.0000e+00 - auc: 0.6405 - val_loss: 0.5387 - val_binary_accuracy: 0.8333 - val_sensitivity: 0.0000e+00 - val_specificity: 1.0000 - val_gmeasure: 0.0000e+00 - val_auc: 0.7835\n",
      "Epoch 10/100\n",
      "600/600 [==============================] - 0s 33us/step - loss: 0.5603 - binary_accuracy: 0.7883 - sensitivity: 0.0000e+00 - specificity: 1.0000 - gmeasure: 0.0000e+00 - auc: 0.6998 - val_loss: 0.5165 - val_binary_accuracy: 0.8333 - val_sensitivity: 0.0000e+00 - val_specificity: 1.0000 - val_gmeasure: 0.0000e+00 - val_auc: 0.8272\n",
      "Epoch 11/100\n",
      "600/600 [==============================] - 0s 30us/step - loss: 0.5437 - binary_accuracy: 0.7883 - sensitivity: 0.0000e+00 - specificity: 1.0000 - gmeasure: 0.0000e+00 - auc: 0.6490 - val_loss: 0.4954 - val_binary_accuracy: 0.8333 - val_sensitivity: 0.0000e+00 - val_specificity: 1.0000 - val_gmeasure: 0.0000e+00 - val_auc: 0.7926\n",
      "Epoch 12/100\n",
      "600/600 [==============================] - 0s 36us/step - loss: 0.5298 - binary_accuracy: 0.7883 - sensitivity: 0.0000e+00 - specificity: 1.0000 - gmeasure: 0.0000e+00 - auc: 0.6246 - val_loss: 0.4770 - val_binary_accuracy: 0.8333 - val_sensitivity: 0.0000e+00 - val_specificity: 1.0000 - val_gmeasure: 0.0000e+00 - val_auc: 0.7792\n",
      "Epoch 13/100\n",
      "600/600 [==============================] - 0s 36us/step - loss: 0.5214 - binary_accuracy: 0.7883 - sensitivity: 0.0000e+00 - specificity: 1.0000 - gmeasure: 0.0000e+00 - auc: 0.6086 - val_loss: 0.4627 - val_binary_accuracy: 0.8333 - val_sensitivity: 0.0000e+00 - val_specificity: 1.0000 - val_gmeasure: 0.0000e+00 - val_auc: 0.7722\n",
      "Epoch 14/100\n",
      "600/600 [==============================] - 0s 36us/step - loss: 0.5163 - binary_accuracy: 0.7883 - sensitivity: 0.0000e+00 - specificity: 1.0000 - gmeasure: 0.0000e+00 - auc: 0.6064 - val_loss: 0.4543 - val_binary_accuracy: 0.8333 - val_sensitivity: 0.0000e+00 - val_specificity: 1.0000 - val_gmeasure: 0.0000e+00 - val_auc: 0.7693\n",
      "Epoch 15/100\n",
      "600/600 [==============================] - 0s 35us/step - loss: 0.5181 - binary_accuracy: 0.7883 - sensitivity: 0.0000e+00 - specificity: 1.0000 - gmeasure: 0.0000e+00 - auc: 0.6082 - val_loss: 0.4507 - val_binary_accuracy: 0.8333 - val_sensitivity: 0.0000e+00 - val_specificity: 1.0000 - val_gmeasure: 0.0000e+00 - val_auc: 0.7709\n",
      "Epoch 16/100\n",
      "600/600 [==============================] - 0s 35us/step - loss: 0.5202 - binary_accuracy: 0.7883 - sensitivity: 0.0000e+00 - specificity: 1.0000 - gmeasure: 0.0000e+00 - auc: 0.6080 - val_loss: 0.4500 - val_binary_accuracy: 0.8333 - val_sensitivity: 0.0000e+00 - val_specificity: 1.0000 - val_gmeasure: 0.0000e+00 - val_auc: 0.7787\n",
      "Epoch 17/100\n",
      "600/600 [==============================] - 0s 33us/step - loss: 0.5204 - binary_accuracy: 0.7883 - sensitivity: 0.0000e+00 - specificity: 1.0000 - gmeasure: 0.0000e+00 - auc: 0.6130 - val_loss: 0.4503 - val_binary_accuracy: 0.8333 - val_sensitivity: 0.0000e+00 - val_specificity: 1.0000 - val_gmeasure: 0.0000e+00 - val_auc: 0.7859\n",
      "Epoch 18/100\n",
      "600/600 [==============================] - 0s 34us/step - loss: 0.5189 - binary_accuracy: 0.7883 - sensitivity: 0.0000e+00 - specificity: 1.0000 - gmeasure: 0.0000e+00 - auc: 0.6201 - val_loss: 0.4512 - val_binary_accuracy: 0.8333 - val_sensitivity: 0.0000e+00 - val_specificity: 1.0000 - val_gmeasure: 0.0000e+00 - val_auc: 0.7920\n",
      "Epoch 19/100\n",
      "600/600 [==============================] - 0s 36us/step - loss: 0.5173 - binary_accuracy: 0.7883 - sensitivity: 0.0000e+00 - specificity: 1.0000 - gmeasure: 0.0000e+00 - auc: 0.6283 - val_loss: 0.4532 - val_binary_accuracy: 0.8333 - val_sensitivity: 0.0000e+00 - val_specificity: 1.0000 - val_gmeasure: 0.0000e+00 - val_auc: 0.8022\n",
      "Epoch 20/100\n",
      "600/600 [==============================] - 0s 35us/step - loss: 0.5167 - binary_accuracy: 0.7883 - sensitivity: 0.0000e+00 - specificity: 1.0000 - gmeasure: 0.0000e+00 - auc: 0.6375 - val_loss: 0.4559 - val_binary_accuracy: 0.8333 - val_sensitivity: 0.0000e+00 - val_specificity: 1.0000 - val_gmeasure: 0.0000e+00 - val_auc: 0.8086\n",
      "Epoch 21/100\n",
      "600/600 [==============================] - 0s 35us/step - loss: 0.5160 - binary_accuracy: 0.7883 - sensitivity: 0.0000e+00 - specificity: 1.0000 - gmeasure: 0.0000e+00 - auc: 0.6496 - val_loss: 0.4582 - val_binary_accuracy: 0.8333 - val_sensitivity: 0.0000e+00 - val_specificity: 1.0000 - val_gmeasure: 0.0000e+00 - val_auc: 0.8157\n",
      "Epoch 22/100\n",
      "600/600 [==============================] - 0s 34us/step - loss: 0.5166 - binary_accuracy: 0.7883 - sensitivity: 0.0000e+00 - specificity: 1.0000 - gmeasure: 0.0000e+00 - auc: 0.6584 - val_loss: 0.4601 - val_binary_accuracy: 0.8333 - val_sensitivity: 0.0000e+00 - val_specificity: 1.0000 - val_gmeasure: 0.0000e+00 - val_auc: 0.8198\n",
      "Epoch 23/100\n",
      "600/600 [==============================] - 0s 33us/step - loss: 0.5164 - binary_accuracy: 0.7883 - sensitivity: 0.0000e+00 - specificity: 1.0000 - gmeasure: 0.0000e+00 - auc: 0.6633 - val_loss: 0.4602 - val_binary_accuracy: 0.8333 - val_sensitivity: 0.0000e+00 - val_specificity: 1.0000 - val_gmeasure: 0.0000e+00 - val_auc: 0.8227\n",
      "Epoch 24/100\n",
      "600/600 [==============================] - 0s 37us/step - loss: 0.5164 - binary_accuracy: 0.7883 - sensitivity: 0.0000e+00 - specificity: 1.0000 - gmeasure: 0.0000e+00 - auc: 0.6635 - val_loss: 0.4597 - val_binary_accuracy: 0.8333 - val_sensitivity: 0.0000e+00 - val_specificity: 1.0000 - val_gmeasure: 0.0000e+00 - val_auc: 0.8266\n"
     ]
    },
    {
     "name": "stdout",
     "output_type": "stream",
     "text": [
      "Epoch 25/100\n",
      "600/600 [==============================] - 0s 33us/step - loss: 0.5162 - binary_accuracy: 0.7883 - sensitivity: 0.0000e+00 - specificity: 1.0000 - gmeasure: 0.0000e+00 - auc: 0.6694 - val_loss: 0.4588 - val_binary_accuracy: 0.8333 - val_sensitivity: 0.0000e+00 - val_specificity: 1.0000 - val_gmeasure: 0.0000e+00 - val_auc: 0.8317\n",
      "Epoch 26/100\n",
      "600/600 [==============================] - 0s 34us/step - loss: 0.5160 - binary_accuracy: 0.7883 - sensitivity: 0.0000e+00 - specificity: 1.0000 - gmeasure: 0.0000e+00 - auc: 0.6744 - val_loss: 0.4581 - val_binary_accuracy: 0.8333 - val_sensitivity: 0.0000e+00 - val_specificity: 1.0000 - val_gmeasure: 0.0000e+00 - val_auc: 0.8362\n",
      "Epoch 27/100\n",
      "600/600 [==============================] - 0s 36us/step - loss: 0.5159 - binary_accuracy: 0.7883 - sensitivity: 0.0000e+00 - specificity: 1.0000 - gmeasure: 0.0000e+00 - auc: 0.6779 - val_loss: 0.4569 - val_binary_accuracy: 0.8333 - val_sensitivity: 0.0000e+00 - val_specificity: 1.0000 - val_gmeasure: 0.0000e+00 - val_auc: 0.8397\n",
      "Epoch 28/100\n",
      "600/600 [==============================] - 0s 34us/step - loss: 0.5158 - binary_accuracy: 0.7883 - sensitivity: 0.0000e+00 - specificity: 1.0000 - gmeasure: 0.0000e+00 - auc: 0.6870 - val_loss: 0.4560 - val_binary_accuracy: 0.8333 - val_sensitivity: 0.0000e+00 - val_specificity: 1.0000 - val_gmeasure: 0.0000e+00 - val_auc: 0.8451\n",
      "Epoch 29/100\n",
      "600/600 [==============================] - ETA: 0s - loss: 0.5663 - binary_accuracy: 0.7500 - sensitivity: 0.0000e+00 - specificity: 1.0000 - gmeasure: 0.0000e+00 - auc: 0.70 - 0s 33us/step - loss: 0.5157 - binary_accuracy: 0.7883 - sensitivity: 0.0000e+00 - specificity: 1.0000 - gmeasure: 0.0000e+00 - auc: 0.6901 - val_loss: 0.4556 - val_binary_accuracy: 0.8333 - val_sensitivity: 0.0000e+00 - val_specificity: 1.0000 - val_gmeasure: 0.0000e+00 - val_auc: 0.8499\n",
      "Epoch 30/100\n",
      "600/600 [==============================] - 0s 35us/step - loss: 0.5158 - binary_accuracy: 0.7883 - sensitivity: 0.0000e+00 - specificity: 1.0000 - gmeasure: 0.0000e+00 - auc: 0.7030 - val_loss: 0.4550 - val_binary_accuracy: 0.8333 - val_sensitivity: 0.0000e+00 - val_specificity: 1.0000 - val_gmeasure: 0.0000e+00 - val_auc: 0.8566\n",
      "Epoch 31/100\n",
      "600/600 [==============================] - 0s 33us/step - loss: 0.5157 - binary_accuracy: 0.7883 - sensitivity: 0.0000e+00 - specificity: 1.0000 - gmeasure: 0.0000e+00 - auc: 0.7091 - val_loss: 0.4548 - val_binary_accuracy: 0.8333 - val_sensitivity: 0.0000e+00 - val_specificity: 1.0000 - val_gmeasure: 0.0000e+00 - val_auc: 0.8637\n",
      "Epoch 32/100\n",
      "600/600 [==============================] - 0s 36us/step - loss: 0.5157 - binary_accuracy: 0.7883 - sensitivity: 0.0000e+00 - specificity: 1.0000 - gmeasure: 0.0000e+00 - auc: 0.7302 - val_loss: 0.4545 - val_binary_accuracy: 0.8333 - val_sensitivity: 0.0000e+00 - val_specificity: 1.0000 - val_gmeasure: 0.0000e+00 - val_auc: 0.8714\n",
      "Epoch 33/100\n",
      "600/600 [==============================] - 0s 38us/step - loss: 0.5157 - binary_accuracy: 0.7883 - sensitivity: 0.0000e+00 - specificity: 1.0000 - gmeasure: 0.0000e+00 - auc: 0.7334 - val_loss: 0.4545 - val_binary_accuracy: 0.8333 - val_sensitivity: 0.0000e+00 - val_specificity: 1.0000 - val_gmeasure: 0.0000e+00 - val_auc: 0.8790\n",
      "Epoch 34/100\n",
      "600/600 [==============================] - 0s 33us/step - loss: 0.5156 - binary_accuracy: 0.7883 - sensitivity: 0.0000e+00 - specificity: 1.0000 - gmeasure: 0.0000e+00 - auc: 0.7499 - val_loss: 0.4551 - val_binary_accuracy: 0.8333 - val_sensitivity: 0.0000e+00 - val_specificity: 1.0000 - val_gmeasure: 0.0000e+00 - val_auc: 0.8893\n",
      "Epoch 35/100\n",
      "600/600 [==============================] - 0s 36us/step - loss: 0.5155 - binary_accuracy: 0.7883 - sensitivity: 0.0000e+00 - specificity: 1.0000 - gmeasure: 0.0000e+00 - auc: 0.7682 - val_loss: 0.4549 - val_binary_accuracy: 0.8333 - val_sensitivity: 0.0000e+00 - val_specificity: 1.0000 - val_gmeasure: 0.0000e+00 - val_auc: 0.8947\n",
      "Epoch 36/100\n",
      "600/600 [==============================] - 0s 35us/step - loss: 0.5154 - binary_accuracy: 0.7883 - sensitivity: 0.0000e+00 - specificity: 1.0000 - gmeasure: 0.0000e+00 - auc: 0.7711 - val_loss: 0.4556 - val_binary_accuracy: 0.8333 - val_sensitivity: 0.0000e+00 - val_specificity: 1.0000 - val_gmeasure: 0.0000e+00 - val_auc: 0.9030\n",
      "Epoch 37/100\n",
      "600/600 [==============================] - 0s 36us/step - loss: 0.5153 - binary_accuracy: 0.7883 - sensitivity: 0.0000e+00 - specificity: 1.0000 - gmeasure: 0.0000e+00 - auc: 0.7833 - val_loss: 0.4558 - val_binary_accuracy: 0.8333 - val_sensitivity: 0.0000e+00 - val_specificity: 1.0000 - val_gmeasure: 0.0000e+00 - val_auc: 0.9114\n",
      "Epoch 38/100\n",
      "600/600 [==============================] - 0s 34us/step - loss: 0.5153 - binary_accuracy: 0.7883 - sensitivity: 0.0000e+00 - specificity: 1.0000 - gmeasure: 0.0000e+00 - auc: 0.8004 - val_loss: 0.4558 - val_binary_accuracy: 0.8333 - val_sensitivity: 0.0000e+00 - val_specificity: 1.0000 - val_gmeasure: 0.0000e+00 - val_auc: 0.9168\n",
      "Epoch 39/100\n",
      "600/600 [==============================] - 0s 34us/step - loss: 0.5154 - binary_accuracy: 0.7883 - sensitivity: 0.0000e+00 - specificity: 1.0000 - gmeasure: 0.0000e+00 - auc: 0.8169 - val_loss: 0.4551 - val_binary_accuracy: 0.8333 - val_sensitivity: 0.0000e+00 - val_specificity: 1.0000 - val_gmeasure: 0.0000e+00 - val_auc: 0.9206\n",
      "Epoch 40/100\n",
      "600/600 [==============================] - 0s 32us/step - loss: 0.5150 - binary_accuracy: 0.7883 - sensitivity: 0.0000e+00 - specificity: 1.0000 - gmeasure: 0.0000e+00 - auc: 0.8183 - val_loss: 0.4553 - val_binary_accuracy: 0.8333 - val_sensitivity: 0.0000e+00 - val_specificity: 1.0000 - val_gmeasure: 0.0000e+00 - val_auc: 0.9267\n",
      "Epoch 41/100\n",
      "600/600 [==============================] - 0s 33us/step - loss: 0.5149 - binary_accuracy: 0.7883 - sensitivity: 0.0000e+00 - specificity: 1.0000 - gmeasure: 0.0000e+00 - auc: 0.8331 - val_loss: 0.4548 - val_binary_accuracy: 0.8333 - val_sensitivity: 0.0000e+00 - val_specificity: 1.0000 - val_gmeasure: 0.0000e+00 - val_auc: 0.9322\n",
      "Epoch 42/100\n",
      "600/600 [==============================] - 0s 34us/step - loss: 0.5147 - binary_accuracy: 0.7883 - sensitivity: 0.0000e+00 - specificity: 1.0000 - gmeasure: 0.0000e+00 - auc: 0.8461 - val_loss: 0.4547 - val_binary_accuracy: 0.8333 - val_sensitivity: 0.0000e+00 - val_specificity: 1.0000 - val_gmeasure: 0.0000e+00 - val_auc: 0.9382\n",
      "Epoch 43/100\n",
      "600/600 [==============================] - 0s 35us/step - loss: 0.5146 - binary_accuracy: 0.7883 - sensitivity: 0.0000e+00 - specificity: 1.0000 - gmeasure: 0.0000e+00 - auc: 0.8603 - val_loss: 0.4543 - val_binary_accuracy: 0.8333 - val_sensitivity: 0.0000e+00 - val_specificity: 1.0000 - val_gmeasure: 0.0000e+00 - val_auc: 0.9466\n",
      "Epoch 44/100\n",
      "600/600 [==============================] - 0s 32us/step - loss: 0.5147 - binary_accuracy: 0.7883 - sensitivity: 0.0000e+00 - specificity: 1.0000 - gmeasure: 0.0000e+00 - auc: 0.8630 - val_loss: 0.4535 - val_binary_accuracy: 0.8333 - val_sensitivity: 0.0000e+00 - val_specificity: 1.0000 - val_gmeasure: 0.0000e+00 - val_auc: 0.9523\n",
      "Epoch 45/100\n",
      "600/600 [==============================] - 0s 34us/step - loss: 0.5143 - binary_accuracy: 0.7883 - sensitivity: 0.0000e+00 - specificity: 1.0000 - gmeasure: 0.0000e+00 - auc: 0.8715 - val_loss: 0.4536 - val_binary_accuracy: 0.8333 - val_sensitivity: 0.0000e+00 - val_specificity: 1.0000 - val_gmeasure: 0.0000e+00 - val_auc: 0.9574\n",
      "Epoch 46/100\n",
      "600/600 [==============================] - 0s 34us/step - loss: 0.5143 - binary_accuracy: 0.7883 - sensitivity: 0.0000e+00 - specificity: 1.0000 - gmeasure: 0.0000e+00 - auc: 0.8771 - val_loss: 0.4541 - val_binary_accuracy: 0.8333 - val_sensitivity: 0.0000e+00 - val_specificity: 1.0000 - val_gmeasure: 0.0000e+00 - val_auc: 0.9638\n",
      "Epoch 47/100\n",
      "600/600 [==============================] - 0s 34us/step - loss: 0.5140 - binary_accuracy: 0.7883 - sensitivity: 0.0000e+00 - specificity: 1.0000 - gmeasure: 0.0000e+00 - auc: 0.8966 - val_loss: 0.4532 - val_binary_accuracy: 0.8333 - val_sensitivity: 0.0000e+00 - val_specificity: 1.0000 - val_gmeasure: 0.0000e+00 - val_auc: 0.9674\n",
      "Epoch 48/100\n"
     ]
    },
    {
     "name": "stdout",
     "output_type": "stream",
     "text": [
      "600/600 [==============================] - 0s 33us/step - loss: 0.5137 - binary_accuracy: 0.7883 - sensitivity: 0.0000e+00 - specificity: 1.0000 - gmeasure: 0.0000e+00 - auc: 0.9006 - val_loss: 0.4533 - val_binary_accuracy: 0.8333 - val_sensitivity: 0.0000e+00 - val_specificity: 1.0000 - val_gmeasure: 0.0000e+00 - val_auc: 0.9694\n",
      "Epoch 49/100\n",
      "600/600 [==============================] - 0s 31us/step - loss: 0.5134 - binary_accuracy: 0.7883 - sensitivity: 0.0000e+00 - specificity: 1.0000 - gmeasure: 0.0000e+00 - auc: 0.9060 - val_loss: 0.4530 - val_binary_accuracy: 0.8333 - val_sensitivity: 0.0000e+00 - val_specificity: 1.0000 - val_gmeasure: 0.0000e+00 - val_auc: 0.9750\n",
      "Epoch 50/100\n",
      "600/600 [==============================] - 0s 32us/step - loss: 0.5133 - binary_accuracy: 0.7883 - sensitivity: 0.0000e+00 - specificity: 1.0000 - gmeasure: 0.0000e+00 - auc: 0.9149 - val_loss: 0.4522 - val_binary_accuracy: 0.8333 - val_sensitivity: 0.0000e+00 - val_specificity: 1.0000 - val_gmeasure: 0.0000e+00 - val_auc: 0.9798\n",
      "Epoch 51/100\n",
      "600/600 [==============================] - 0s 29us/step - loss: 0.5129 - binary_accuracy: 0.7883 - sensitivity: 0.0000e+00 - specificity: 1.0000 - gmeasure: 0.0000e+00 - auc: 0.9213 - val_loss: 0.4518 - val_binary_accuracy: 0.8333 - val_sensitivity: 0.0000e+00 - val_specificity: 1.0000 - val_gmeasure: 0.0000e+00 - val_auc: 0.9827\n",
      "Epoch 52/100\n",
      "600/600 [==============================] - 0s 30us/step - loss: 0.5126 - binary_accuracy: 0.7883 - sensitivity: 0.0000e+00 - specificity: 1.0000 - gmeasure: 0.0000e+00 - auc: 0.9319 - val_loss: 0.4514 - val_binary_accuracy: 0.8333 - val_sensitivity: 0.0000e+00 - val_specificity: 1.0000 - val_gmeasure: 0.0000e+00 - val_auc: 0.9859\n",
      "Epoch 53/100\n",
      "600/600 [==============================] - 0s 35us/step - loss: 0.5122 - binary_accuracy: 0.7883 - sensitivity: 0.0000e+00 - specificity: 1.0000 - gmeasure: 0.0000e+00 - auc: 0.9318 - val_loss: 0.4511 - val_binary_accuracy: 0.8333 - val_sensitivity: 0.0000e+00 - val_specificity: 1.0000 - val_gmeasure: 0.0000e+00 - val_auc: 0.9875\n",
      "Epoch 54/100\n",
      "600/600 [==============================] - 0s 33us/step - loss: 0.5119 - binary_accuracy: 0.7883 - sensitivity: 0.0000e+00 - specificity: 1.0000 - gmeasure: 0.0000e+00 - auc: 0.9333 - val_loss: 0.4507 - val_binary_accuracy: 0.8333 - val_sensitivity: 0.0000e+00 - val_specificity: 1.0000 - val_gmeasure: 0.0000e+00 - val_auc: 0.9888\n",
      "Epoch 55/100\n",
      "600/600 [==============================] - 0s 34us/step - loss: 0.5115 - binary_accuracy: 0.7883 - sensitivity: 0.0000e+00 - specificity: 1.0000 - gmeasure: 0.0000e+00 - auc: 0.9426 - val_loss: 0.4504 - val_binary_accuracy: 0.8333 - val_sensitivity: 0.0000e+00 - val_specificity: 1.0000 - val_gmeasure: 0.0000e+00 - val_auc: 0.9907\n",
      "Epoch 56/100\n",
      "600/600 [==============================] - 0s 32us/step - loss: 0.5112 - binary_accuracy: 0.7883 - sensitivity: 0.0000e+00 - specificity: 1.0000 - gmeasure: 0.0000e+00 - auc: 0.9454 - val_loss: 0.4506 - val_binary_accuracy: 0.8333 - val_sensitivity: 0.0000e+00 - val_specificity: 1.0000 - val_gmeasure: 0.0000e+00 - val_auc: 0.9923\n",
      "Epoch 57/100\n",
      "600/600 [==============================] - 0s 33us/step - loss: 0.5107 - binary_accuracy: 0.7883 - sensitivity: 0.0000e+00 - specificity: 1.0000 - gmeasure: 0.0000e+00 - auc: 0.9522 - val_loss: 0.4500 - val_binary_accuracy: 0.8333 - val_sensitivity: 0.0000e+00 - val_specificity: 1.0000 - val_gmeasure: 0.0000e+00 - val_auc: 0.9936\n",
      "Epoch 58/100\n",
      "600/600 [==============================] - 0s 36us/step - loss: 0.5102 - binary_accuracy: 0.7883 - sensitivity: 0.0000e+00 - specificity: 1.0000 - gmeasure: 0.0000e+00 - auc: 0.9553 - val_loss: 0.4495 - val_binary_accuracy: 0.8333 - val_sensitivity: 0.0000e+00 - val_specificity: 1.0000 - val_gmeasure: 0.0000e+00 - val_auc: 0.9939\n",
      "Epoch 59/100\n",
      "600/600 [==============================] - 0s 35us/step - loss: 0.5096 - binary_accuracy: 0.7883 - sensitivity: 0.0000e+00 - specificity: 1.0000 - gmeasure: 0.0000e+00 - auc: 0.9589 - val_loss: 0.4485 - val_binary_accuracy: 0.8333 - val_sensitivity: 0.0000e+00 - val_specificity: 1.0000 - val_gmeasure: 0.0000e+00 - val_auc: 0.9952\n",
      "Epoch 60/100\n",
      "600/600 [==============================] - 0s 36us/step - loss: 0.5090 - binary_accuracy: 0.7883 - sensitivity: 0.0000e+00 - specificity: 1.0000 - gmeasure: 0.0000e+00 - auc: 0.9642 - val_loss: 0.4476 - val_binary_accuracy: 0.8333 - val_sensitivity: 0.0000e+00 - val_specificity: 1.0000 - val_gmeasure: 0.0000e+00 - val_auc: 0.9955\n",
      "Epoch 61/100\n",
      "600/600 [==============================] - 0s 33us/step - loss: 0.5086 - binary_accuracy: 0.7883 - sensitivity: 0.0000e+00 - specificity: 1.0000 - gmeasure: 0.0000e+00 - auc: 0.9641 - val_loss: 0.4463 - val_binary_accuracy: 0.8333 - val_sensitivity: 0.0000e+00 - val_specificity: 1.0000 - val_gmeasure: 0.0000e+00 - val_auc: 0.9962\n",
      "Epoch 62/100\n",
      "600/600 [==============================] - 0s 42us/step - loss: 0.5079 - binary_accuracy: 0.7883 - sensitivity: 0.0000e+00 - specificity: 1.0000 - gmeasure: 0.0000e+00 - auc: 0.9675 - val_loss: 0.4463 - val_binary_accuracy: 0.8333 - val_sensitivity: 0.0000e+00 - val_specificity: 1.0000 - val_gmeasure: 0.0000e+00 - val_auc: 0.9968\n",
      "Epoch 63/100\n",
      "600/600 [==============================] - 0s 33us/step - loss: 0.5070 - binary_accuracy: 0.7883 - sensitivity: 0.0000e+00 - specificity: 1.0000 - gmeasure: 0.0000e+00 - auc: 0.9727 - val_loss: 0.4452 - val_binary_accuracy: 0.8333 - val_sensitivity: 0.0000e+00 - val_specificity: 1.0000 - val_gmeasure: 0.0000e+00 - val_auc: 0.9968\n",
      "Epoch 64/100\n",
      "600/600 [==============================] - 0s 36us/step - loss: 0.5061 - binary_accuracy: 0.7883 - sensitivity: 0.0000e+00 - specificity: 1.0000 - gmeasure: 0.0000e+00 - auc: 0.9735 - val_loss: 0.4444 - val_binary_accuracy: 0.8333 - val_sensitivity: 0.0000e+00 - val_specificity: 1.0000 - val_gmeasure: 0.0000e+00 - val_auc: 0.9962\n",
      "Epoch 65/100\n",
      "600/600 [==============================] - 0s 34us/step - loss: 0.5052 - binary_accuracy: 0.7883 - sensitivity: 0.0000e+00 - specificity: 1.0000 - gmeasure: 0.0000e+00 - auc: 0.9749 - val_loss: 0.4434 - val_binary_accuracy: 0.8333 - val_sensitivity: 0.0000e+00 - val_specificity: 1.0000 - val_gmeasure: 0.0000e+00 - val_auc: 0.9958\n",
      "Epoch 66/100\n",
      "600/600 [==============================] - 0s 32us/step - loss: 0.5043 - binary_accuracy: 0.7883 - sensitivity: 0.0000e+00 - specificity: 1.0000 - gmeasure: 0.0000e+00 - auc: 0.9784 - val_loss: 0.4428 - val_binary_accuracy: 0.8333 - val_sensitivity: 0.0000e+00 - val_specificity: 1.0000 - val_gmeasure: 0.0000e+00 - val_auc: 0.9952\n",
      "Epoch 67/100\n",
      "600/600 [==============================] - 0s 35us/step - loss: 0.5031 - binary_accuracy: 0.7883 - sensitivity: 0.0000e+00 - specificity: 1.0000 - gmeasure: 0.0000e+00 - auc: 0.9798 - val_loss: 0.4417 - val_binary_accuracy: 0.8333 - val_sensitivity: 0.0000e+00 - val_specificity: 1.0000 - val_gmeasure: 0.0000e+00 - val_auc: 0.9933\n",
      "Epoch 68/100\n",
      "600/600 [==============================] - 0s 29us/step - loss: 0.5019 - binary_accuracy: 0.7883 - sensitivity: 0.0000e+00 - specificity: 1.0000 - gmeasure: 0.0000e+00 - auc: 0.9808 - val_loss: 0.4402 - val_binary_accuracy: 0.8333 - val_sensitivity: 0.0000e+00 - val_specificity: 1.0000 - val_gmeasure: 0.0000e+00 - val_auc: 0.9926\n",
      "Epoch 69/100\n",
      "600/600 [==============================] - 0s 28us/step - loss: 0.5009 - binary_accuracy: 0.7883 - sensitivity: 0.0000e+00 - specificity: 1.0000 - gmeasure: 0.0000e+00 - auc: 0.9810 - val_loss: 0.4380 - val_binary_accuracy: 0.8333 - val_sensitivity: 0.0000e+00 - val_specificity: 1.0000 - val_gmeasure: 0.0000e+00 - val_auc: 0.9907\n",
      "Epoch 70/100\n",
      "600/600 [==============================] - 0s 30us/step - loss: 0.4992 - binary_accuracy: 0.7883 - sensitivity: 0.0000e+00 - specificity: 1.0000 - gmeasure: 0.0000e+00 - auc: 0.9799 - val_loss: 0.4372 - val_binary_accuracy: 0.8333 - val_sensitivity: 0.0000e+00 - val_specificity: 1.0000 - val_gmeasure: 0.0000e+00 - val_auc: 0.9882\n",
      "Epoch 71/100\n",
      "600/600 [==============================] - 0s 30us/step - loss: 0.4977 - binary_accuracy: 0.7883 - sensitivity: 0.0000e+00 - specificity: 1.0000 - gmeasure: 0.0000e+00 - auc: 0.9832 - val_loss: 0.4360 - val_binary_accuracy: 0.8333 - val_sensitivity: 0.0000e+00 - val_specificity: 1.0000 - val_gmeasure: 0.0000e+00 - val_auc: 0.9859\n"
     ]
    },
    {
     "name": "stdout",
     "output_type": "stream",
     "text": [
      "Epoch 72/100\n",
      "600/600 [==============================] - 0s 29us/step - loss: 0.4958 - binary_accuracy: 0.7883 - sensitivity: 0.0000e+00 - specificity: 1.0000 - gmeasure: 0.0000e+00 - auc: 0.9811 - val_loss: 0.4343 - val_binary_accuracy: 0.8333 - val_sensitivity: 0.0000e+00 - val_specificity: 1.0000 - val_gmeasure: 0.0000e+00 - val_auc: 0.9818\n",
      "Epoch 73/100\n",
      "600/600 [==============================] - 0s 34us/step - loss: 0.4938 - binary_accuracy: 0.7883 - sensitivity: 0.0000e+00 - specificity: 1.0000 - gmeasure: 0.0000e+00 - auc: 0.9816 - val_loss: 0.4319 - val_binary_accuracy: 0.8333 - val_sensitivity: 0.0000e+00 - val_specificity: 1.0000 - val_gmeasure: 0.0000e+00 - val_auc: 0.9779\n",
      "Epoch 74/100\n",
      "600/600 [==============================] - 0s 30us/step - loss: 0.4916 - binary_accuracy: 0.7883 - sensitivity: 0.0000e+00 - specificity: 1.0000 - gmeasure: 0.0000e+00 - auc: 0.9827 - val_loss: 0.4299 - val_binary_accuracy: 0.8333 - val_sensitivity: 0.0000e+00 - val_specificity: 1.0000 - val_gmeasure: 0.0000e+00 - val_auc: 0.9741\n",
      "Epoch 75/100\n",
      "600/600 [==============================] - 0s 27us/step - loss: 0.4893 - binary_accuracy: 0.7883 - sensitivity: 0.0000e+00 - specificity: 1.0000 - gmeasure: 0.0000e+00 - auc: 0.9825 - val_loss: 0.4270 - val_binary_accuracy: 0.8333 - val_sensitivity: 0.0000e+00 - val_specificity: 1.0000 - val_gmeasure: 0.0000e+00 - val_auc: 0.9699\n",
      "Epoch 76/100\n",
      "600/600 [==============================] - 0s 34us/step - loss: 0.4864 - binary_accuracy: 0.7883 - sensitivity: 0.0000e+00 - specificity: 1.0000 - gmeasure: 0.0000e+00 - auc: 0.9825 - val_loss: 0.4249 - val_binary_accuracy: 0.8333 - val_sensitivity: 0.0000e+00 - val_specificity: 1.0000 - val_gmeasure: 0.0000e+00 - val_auc: 0.9683\n",
      "Epoch 77/100\n",
      "600/600 [==============================] - 0s 33us/step - loss: 0.4834 - binary_accuracy: 0.7883 - sensitivity: 0.0000e+00 - specificity: 1.0000 - gmeasure: 0.0000e+00 - auc: 0.9807 - val_loss: 0.4222 - val_binary_accuracy: 0.8333 - val_sensitivity: 0.0000e+00 - val_specificity: 1.0000 - val_gmeasure: 0.0000e+00 - val_auc: 0.9664\n",
      "Epoch 78/100\n",
      "600/600 [==============================] - 0s 33us/step - loss: 0.4798 - binary_accuracy: 0.7883 - sensitivity: 0.0000e+00 - specificity: 1.0000 - gmeasure: 0.0000e+00 - auc: 0.9812 - val_loss: 0.4186 - val_binary_accuracy: 0.8333 - val_sensitivity: 0.0000e+00 - val_specificity: 1.0000 - val_gmeasure: 0.0000e+00 - val_auc: 0.9642\n",
      "Epoch 79/100\n",
      "600/600 [==============================] - 0s 34us/step - loss: 0.4760 - binary_accuracy: 0.7883 - sensitivity: 0.0000e+00 - specificity: 1.0000 - gmeasure: 0.0000e+00 - auc: 0.9832 - val_loss: 0.4153 - val_binary_accuracy: 0.8333 - val_sensitivity: 0.0000e+00 - val_specificity: 1.0000 - val_gmeasure: 0.0000e+00 - val_auc: 0.9622\n",
      "Epoch 80/100\n",
      "600/600 [==============================] - 0s 33us/step - loss: 0.4714 - binary_accuracy: 0.7883 - sensitivity: 0.0000e+00 - specificity: 1.0000 - gmeasure: 0.0000e+00 - auc: 0.9809 - val_loss: 0.4111 - val_binary_accuracy: 0.8333 - val_sensitivity: 0.0000e+00 - val_specificity: 1.0000 - val_gmeasure: 0.0000e+00 - val_auc: 0.9606\n",
      "Epoch 81/100\n",
      "600/600 [==============================] - 0s 31us/step - loss: 0.4663 - binary_accuracy: 0.7883 - sensitivity: 0.0000e+00 - specificity: 1.0000 - gmeasure: 0.0000e+00 - auc: 0.9836 - val_loss: 0.4064 - val_binary_accuracy: 0.8333 - val_sensitivity: 0.0000e+00 - val_specificity: 1.0000 - val_gmeasure: 0.0000e+00 - val_auc: 0.9603\n",
      "Epoch 82/100\n",
      "600/600 [==============================] - 0s 32us/step - loss: 0.4601 - binary_accuracy: 0.7883 - sensitivity: 0.0000e+00 - specificity: 1.0000 - gmeasure: 0.0000e+00 - auc: 0.9834 - val_loss: 0.4004 - val_binary_accuracy: 0.8333 - val_sensitivity: 0.0000e+00 - val_specificity: 1.0000 - val_gmeasure: 0.0000e+00 - val_auc: 0.9613\n",
      "Epoch 83/100\n",
      "600/600 [==============================] - 0s 33us/step - loss: 0.4536 - binary_accuracy: 0.7883 - sensitivity: 0.0000e+00 - specificity: 1.0000 - gmeasure: 0.0000e+00 - auc: 0.9851 - val_loss: 0.3938 - val_binary_accuracy: 0.8333 - val_sensitivity: 0.0000e+00 - val_specificity: 1.0000 - val_gmeasure: 0.0000e+00 - val_auc: 0.9616\n",
      "Epoch 84/100\n",
      "600/600 [==============================] - 0s 35us/step - loss: 0.4468 - binary_accuracy: 0.7883 - sensitivity: 0.0000e+00 - specificity: 1.0000 - gmeasure: 0.0000e+00 - auc: 0.9859 - val_loss: 0.3879 - val_binary_accuracy: 0.8333 - val_sensitivity: 0.0000e+00 - val_specificity: 1.0000 - val_gmeasure: 0.0000e+00 - val_auc: 0.9632\n",
      "Epoch 85/100\n",
      "600/600 [==============================] - 0s 37us/step - loss: 0.4390 - binary_accuracy: 0.7883 - sensitivity: 0.0000e+00 - specificity: 1.0000 - gmeasure: 0.0000e+00 - auc: 0.9856 - val_loss: 0.3799 - val_binary_accuracy: 0.8333 - val_sensitivity: 0.0000e+00 - val_specificity: 1.0000 - val_gmeasure: 0.0000e+00 - val_auc: 0.9658\n",
      "Epoch 86/100\n",
      "600/600 [==============================] - 0s 33us/step - loss: 0.4301 - binary_accuracy: 0.7883 - sensitivity: 0.0000e+00 - specificity: 1.0000 - gmeasure: 0.0000e+00 - auc: 0.9873 - val_loss: 0.3703 - val_binary_accuracy: 0.8333 - val_sensitivity: 0.0000e+00 - val_specificity: 1.0000 - val_gmeasure: 0.0000e+00 - val_auc: 0.9702\n",
      "Epoch 87/100\n",
      "600/600 [==============================] - 0s 34us/step - loss: 0.4208 - binary_accuracy: 0.7883 - sensitivity: 0.0000e+00 - specificity: 1.0000 - gmeasure: 0.0000e+00 - auc: 0.9889 - val_loss: 0.3620 - val_binary_accuracy: 0.8333 - val_sensitivity: 0.0000e+00 - val_specificity: 1.0000 - val_gmeasure: 0.0000e+00 - val_auc: 0.9747\n",
      "Epoch 88/100\n",
      "600/600 [==============================] - 0s 34us/step - loss: 0.4100 - binary_accuracy: 0.7883 - sensitivity: 0.0000e+00 - specificity: 1.0000 - gmeasure: 0.0000e+00 - auc: 0.9921 - val_loss: 0.3537 - val_binary_accuracy: 0.8333 - val_sensitivity: 0.0000e+00 - val_specificity: 1.0000 - val_gmeasure: 0.0000e+00 - val_auc: 0.9757\n",
      "Epoch 89/100\n",
      "600/600 [==============================] - 0s 33us/step - loss: 0.3986 - binary_accuracy: 0.7883 - sensitivity: 0.0000e+00 - specificity: 1.0000 - gmeasure: 0.0000e+00 - auc: 0.9927 - val_loss: 0.3427 - val_binary_accuracy: 0.8333 - val_sensitivity: 0.0000e+00 - val_specificity: 1.0000 - val_gmeasure: 0.0000e+00 - val_auc: 0.9795\n",
      "Epoch 90/100\n",
      "600/600 [==============================] - 0s 33us/step - loss: 0.3863 - binary_accuracy: 0.7883 - sensitivity: 0.0000e+00 - specificity: 1.0000 - gmeasure: 0.0000e+00 - auc: 0.9942 - val_loss: 0.3321 - val_binary_accuracy: 0.8333 - val_sensitivity: 0.0000e+00 - val_specificity: 1.0000 - val_gmeasure: 0.0000e+00 - val_auc: 0.9837\n",
      "Epoch 91/100\n",
      "600/600 [==============================] - 0s 36us/step - loss: 0.3737 - binary_accuracy: 0.7883 - sensitivity: 0.0000e+00 - specificity: 1.0000 - gmeasure: 0.0000e+00 - auc: 0.9953 - val_loss: 0.3221 - val_binary_accuracy: 0.8333 - val_sensitivity: 0.0000e+00 - val_specificity: 1.0000 - val_gmeasure: 0.0000e+00 - val_auc: 0.9862\n",
      "Epoch 92/100\n",
      "600/600 [==============================] - 0s 34us/step - loss: 0.3610 - binary_accuracy: 0.7883 - sensitivity: 0.0000e+00 - specificity: 1.0000 - gmeasure: 0.0000e+00 - auc: 0.9969 - val_loss: 0.3118 - val_binary_accuracy: 0.8333 - val_sensitivity: 0.0000e+00 - val_specificity: 1.0000 - val_gmeasure: 0.0000e+00 - val_auc: 0.9878\n",
      "Epoch 93/100\n",
      "600/600 [==============================] - 0s 38us/step - loss: 0.3483 - binary_accuracy: 0.7883 - sensitivity: 0.0000e+00 - specificity: 1.0000 - gmeasure: 0.0000e+00 - auc: 0.9965 - val_loss: 0.3007 - val_binary_accuracy: 0.8333 - val_sensitivity: 0.0000e+00 - val_specificity: 1.0000 - val_gmeasure: 0.0000e+00 - val_auc: 0.9888\n",
      "Epoch 94/100\n",
      "600/600 [==============================] - 0s 34us/step - loss: 0.3357 - binary_accuracy: 0.7883 - sensitivity: 0.0000e+00 - specificity: 1.0000 - gmeasure: 0.0000e+00 - auc: 0.9972 - val_loss: 0.2874 - val_binary_accuracy: 0.8333 - val_sensitivity: 0.0000e+00 - val_specificity: 1.0000 - val_gmeasure: 0.0000e+00 - val_auc: 0.9885\n",
      "Epoch 95/100\n",
      "600/600 [==============================] - 0s 34us/step - loss: 0.3232 - binary_accuracy: 0.7883 - sensitivity: 0.0000e+00 - specificity: 1.0000 - gmeasure: 0.0000e+00 - auc: 0.9969 - val_loss: 0.2773 - val_binary_accuracy: 0.8333 - val_sensitivity: 0.0000e+00 - val_specificity: 1.0000 - val_gmeasure: 0.0000e+00 - val_auc: 0.9891\n"
     ]
    },
    {
     "name": "stdout",
     "output_type": "stream",
     "text": [
      "Epoch 96/100\n",
      "600/600 [==============================] - 0s 34us/step - loss: 0.3092 - binary_accuracy: 0.7883 - sensitivity: 0.0000e+00 - specificity: 1.0000 - gmeasure: 0.0000e+00 - auc: 0.9979 - val_loss: 0.2690 - val_binary_accuracy: 0.8333 - val_sensitivity: 0.0000e+00 - val_specificity: 1.0000 - val_gmeasure: 0.0000e+00 - val_auc: 0.9894\n",
      "Epoch 97/100\n",
      "600/600 [==============================] - 0s 34us/step - loss: 0.2970 - binary_accuracy: 0.7883 - sensitivity: 0.0000e+00 - specificity: 1.0000 - gmeasure: 0.0000e+00 - auc: 0.9976 - val_loss: 0.2562 - val_binary_accuracy: 0.8333 - val_sensitivity: 0.0000e+00 - val_specificity: 1.0000 - val_gmeasure: 0.0000e+00 - val_auc: 0.9898\n",
      "Epoch 98/100\n",
      "600/600 [==============================] - 0s 32us/step - loss: 0.2855 - binary_accuracy: 0.7883 - sensitivity: 0.0000e+00 - specificity: 1.0000 - gmeasure: 0.0000e+00 - auc: 0.9981 - val_loss: 0.2478 - val_binary_accuracy: 0.8333 - val_sensitivity: 0.0000e+00 - val_specificity: 1.0000 - val_gmeasure: 0.0000e+00 - val_auc: 0.9904\n",
      "Epoch 99/100\n",
      "600/600 [==============================] - 0s 33us/step - loss: 0.2751 - binary_accuracy: 0.7883 - sensitivity: 0.0000e+00 - specificity: 1.0000 - gmeasure: 0.0000e+00 - auc: 0.9983 - val_loss: 0.2392 - val_binary_accuracy: 0.8333 - val_sensitivity: 0.0000e+00 - val_specificity: 1.0000 - val_gmeasure: 0.0000e+00 - val_auc: 0.9904\n",
      "Epoch 100/100\n",
      "600/600 [==============================] - 0s 32us/step - loss: 0.2679 - binary_accuracy: 0.7883 - sensitivity: 0.0000e+00 - specificity: 1.0000 - gmeasure: 0.0000e+00 - auc: 0.9982 - val_loss: 0.2329 - val_binary_accuracy: 0.8333 - val_sensitivity: 0.0000e+00 - val_specificity: 1.0000 - val_gmeasure: 0.0000e+00 - val_auc: 0.9910\n"
     ]
    },
    {
     "name": "stderr",
     "output_type": "stream",
     "text": [
      "[root    |INFO|build_network.py:145] Training end with time 3.305809497833252!\n",
      "[root    |INFO|build_network.py:78] Saved trained model weight at ./simulation_s2_v0/simulation_s2_deepbiome/weight/weight_0.h5 \n",
      "[root    |DEBUG|deepbiome_wrapper.py:98] Save weight at ./simulation_s2_v0/simulation_s2_deepbiome/weight/weight_0.h5\n",
      "[root    |INFO|build_network.py:171] Evaluation start!\n"
     ]
    },
    {
     "name": "stdout",
     "output_type": "stream",
     "text": [
      "\r",
      "750/750 [==============================] - 0s 4us/step\n"
     ]
    },
    {
     "name": "stderr",
     "output_type": "stream",
     "text": [
      "[root    |INFO|build_network.py:176] Evaluation end with time 0.004774570465087891!\n",
      "[root    |INFO|build_network.py:177] Evaluation: [0.25429022312164307, 0.7973333597183228, 0.0, 1.0, 0.0, 0.9972056150436401]\n",
      "[root    |INFO|build_network.py:171] Evaluation start!\n"
     ]
    },
    {
     "name": "stdout",
     "output_type": "stream",
     "text": [
      "\r",
      "250/250 [==============================] - 0s 11us/step\n"
     ]
    },
    {
     "name": "stderr",
     "output_type": "stream",
     "text": [
      "[root    |INFO|build_network.py:176] Evaluation end with time 0.004277944564819336!\n",
      "[root    |INFO|build_network.py:177] Evaluation: [0.26895520091056824, 0.8080000281333923, 0.0, 1.0, 0.0, 0.9606022834777832]\n",
      "[root    |INFO|deepbiome_wrapper.py:110] Compute time : 5.03412652015686\n",
      "[root    |INFO|deepbiome_wrapper.py:111] 1 fold computing end!---------------------------------------------\n",
      "[root    |INFO|deepbiome_wrapper.py:114] -----------------------------------------------------------------\n",
      "[root    |INFO|deepbiome_wrapper.py:116] Train Evaluation : ['loss' 'binary_accuracy' 'sensitivity' 'specificity' 'gmeasure' 'auc']\n",
      "[root    |INFO|deepbiome_wrapper.py:119]       mean : [0.25429022 0.79733336 0.         1.         0.         0.99720562]\n",
      "[root    |INFO|deepbiome_wrapper.py:120]        std : [0. 0. 0. 0. 0. 0.]\n",
      "[root    |INFO|deepbiome_wrapper.py:121] -----------------------------------------------------------------\n",
      "[root    |INFO|deepbiome_wrapper.py:123] Test Evaluation : ['loss' 'binary_accuracy' 'sensitivity' 'specificity' 'gmeasure' 'auc']\n",
      "[root    |INFO|deepbiome_wrapper.py:126]       mean : [0.2689552  0.80800003 0.         1.         0.         0.96060228]\n",
      "[root    |INFO|deepbiome_wrapper.py:127]        std : [0. 0. 0. 0. 0. 0.]\n",
      "[root    |INFO|deepbiome_wrapper.py:128] -----------------------------------------------------------------\n",
      "[root    |INFO|deepbiome_wrapper.py:137] Total Computing Ended\n",
      "[root    |INFO|deepbiome_wrapper.py:138] -----------------------------------------------------------------\n"
     ]
    }
   ],
   "source": [
    "test_evaluation, train_evaluation, network = deepbiome_train(log, network_info, path_info, number_of_fold=1)"
   ]
  },
  {
   "cell_type": "code",
   "execution_count": 14,
   "metadata": {},
   "outputs": [
    {
     "data": {
      "text/plain": [
       "<build_network.DeepBiomeNetwork at 0x7f936eaaba20>"
      ]
     },
     "execution_count": 14,
     "metadata": {},
     "output_type": "execute_result"
    }
   ],
   "source": [
    "network"
   ]
  }
 ],
 "metadata": {
  "kernelspec": {
   "display_name": "Python 3",
   "language": "python",
   "name": "python3"
  },
  "language_info": {
   "codemirror_mode": {
    "name": "ipython",
    "version": 3
   },
   "file_extension": ".py",
   "mimetype": "text/x-python",
   "name": "python",
   "nbconvert_exporter": "python",
   "pygments_lexer": "ipython3",
   "version": "3.5.2"
  }
 },
 "nbformat": 4,
 "nbformat_minor": 2
}
