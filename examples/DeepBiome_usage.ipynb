{
 "cells": [
  {
   "cell_type": "markdown",
   "metadata": {},
   "source": [
    "# DeepBiome Usage"
   ]
  },
  {
   "cell_type": "code",
   "execution_count": 1,
   "metadata": {},
   "outputs": [
    {
     "name": "stderr",
     "output_type": "stream",
     "text": [
      "Using TensorFlow backend.\n"
     ]
    }
   ],
   "source": [
    "from deepbiome.deepbiome import *"
   ]
  },
  {
   "cell_type": "markdown",
   "metadata": {},
   "source": [
    "### Arguments"
   ]
  },
  {
   "cell_type": "code",
   "execution_count": 2,
   "metadata": {
    "collapsed": true
   },
   "outputs": [],
   "source": [
    "logging.basicConfig(format = '[%(name)-8s|%(levelname)s|%(filename)s:%(lineno)s] %(message)s',\n",
    "                    level=logging.DEBUG)\n",
    "log = logging.getLogger()"
   ]
  },
  {
   "cell_type": "code",
   "execution_count": 3,
   "metadata": {
    "collapsed": true
   },
   "outputs": [],
   "source": [
    "network_info = {\n",
    "    'architecture_info': {'batch_normalization': 'False',\n",
    "                          'drop_out': '0',\n",
    "                          'weight_initial': 'glorot_uniform',\n",
    "                          'weight_l1_penalty':'0.01',\n",
    "                          'weight_decay': 'phylogenetic_tree',\n",
    "                         },\n",
    "    'model_info': {'decay': '0.001',\n",
    "                   'loss': 'binary_crossentropy',\n",
    "                   'lr': '0.01',\n",
    "                   'metrics': 'binary_accuracy, sensitivity, specificity, gmeasure, auc',\n",
    "                   'network_class': 'DeepBiomeNetwork',\n",
    "                   'normalizer': 'normalize_minmax',\n",
    "                   'optimizer': 'adam',\n",
    "                   'reader_class': 'MicroBiomeReader',\n",
    "                   'texa_selection_metrics': 'accuracy, sensitivity, specificity, gmeasure'},\n",
    " 'tensorboard_info': {'histogram_freq': '0',\n",
    "  'tensorboard_dir': 'None',\n",
    "  'write_grads': 'False',\n",
    "  'write_graph': 'False',\n",
    "  'write_image': 'False',\n",
    "  'write_weights_histogram': 'False',\n",
    "  'write_weights_images': 'False'},\n",
    " 'test_info': {'batch_size': 'None'},\n",
    " 'training_info': {'batch_size': '200', 'epochs': '10'},\n",
    " 'validation_info': {'batch_size': 'None', 'validation_size': '0.2'}}"
   ]
  },
  {
   "cell_type": "code",
   "execution_count": 4,
   "metadata": {
    "collapsed": true
   },
   "outputs": [],
   "source": [
    "path_info = {'data_info': {'count_list_path': 'data/simulation/gcount_list.csv',\n",
    "                          'count_path': 'data/simulation/count',\n",
    "                          'data_path': 'data/simulation/s2/',\n",
    "                          'idx_path': 'data/simulation/s2/idx.csv',\n",
    "                          'tree_info_path': 'data/genus48/genus48_dic.csv',\n",
    "                          'x_path': '',\n",
    "                          'y_path': 'y.csv'},\n",
    "             'model_info': {'evaluation': 'eval.npy',\n",
    "                          'history': 'history/hist.json',\n",
    "                          'model_dir': './simulation_s2/simulation_s2_deepbiome/',\n",
    "                          'weight': 'weight/weight.h5'}}"
   ]
  },
  {
   "cell_type": "markdown",
   "metadata": {},
   "source": [
    "## Deepbiome Training"
   ]
  },
  {
   "cell_type": "code",
   "execution_count": 5,
   "metadata": {},
   "outputs": [
    {
     "ename": "NameError",
     "evalue": "name 'model_save_dir' is not defined",
     "output_type": "error",
     "traceback": [
      "\u001b[0;31m---------------------------------------------------------------------------\u001b[0m",
      "\u001b[0;31mNameError\u001b[0m                                 Traceback (most recent call last)",
      "\u001b[0;32m<ipython-input-5-52665a7c0c61>\u001b[0m in \u001b[0;36m<module>\u001b[0;34m()\u001b[0m\n\u001b[0;32m----> 1\u001b[0;31m \u001b[0mtest_evaluation\u001b[0m\u001b[0;34m,\u001b[0m \u001b[0mtrain_evaluation\u001b[0m\u001b[0;34m,\u001b[0m \u001b[0mnetwork\u001b[0m \u001b[0;34m=\u001b[0m \u001b[0mdeepbiome_train\u001b[0m\u001b[0;34m(\u001b[0m\u001b[0mlog\u001b[0m\u001b[0;34m,\u001b[0m \u001b[0mnetwork_info\u001b[0m\u001b[0;34m,\u001b[0m \u001b[0mpath_info\u001b[0m\u001b[0;34m,\u001b[0m \u001b[0mnumber_of_fold\u001b[0m\u001b[0;34m=\u001b[0m\u001b[0;36m2\u001b[0m\u001b[0;34m)\u001b[0m\u001b[0;34m\u001b[0m\u001b[0m\n\u001b[0m",
      "\u001b[0;32m~/github_repos/deepbiome/deepbiome/deepbiome.py\u001b[0m in \u001b[0;36mdeepbiome_train\u001b[0;34m(log, network_info, path_info, number_of_fold, max_queue_size, workers, use_multiprocessing)\u001b[0m\n\u001b[1;32m     49\u001b[0m \u001b[0;34m\u001b[0m\u001b[0m\n\u001b[1;32m     50\u001b[0m     \u001b[0;31m### Argument #########################################################################################\u001b[0m\u001b[0;34m\u001b[0m\u001b[0;34m\u001b[0m\u001b[0m\n\u001b[0;32m---> 51\u001b[0;31m     \u001b[0mmodel_path\u001b[0m \u001b[0;34m=\u001b[0m \u001b[0mos\u001b[0m\u001b[0;34m.\u001b[0m\u001b[0mpath\u001b[0m\u001b[0;34m.\u001b[0m\u001b[0mjoin\u001b[0m\u001b[0;34m(\u001b[0m\u001b[0mmodel_save_dir\u001b[0m\u001b[0;34m,\u001b[0m \u001b[0mpath_info\u001b[0m\u001b[0;34m[\u001b[0m\u001b[0;34m'model_info'\u001b[0m\u001b[0;34m]\u001b[0m\u001b[0;34m[\u001b[0m\u001b[0;34m'weight'\u001b[0m\u001b[0;34m]\u001b[0m\u001b[0;34m)\u001b[0m\u001b[0;34m\u001b[0m\u001b[0m\n\u001b[0m\u001b[1;32m     52\u001b[0m     \u001b[0;31m# hist_path = os.path.join(model_save_dir, path_info['model_info']['history'\u001b[0m\u001b[0;34m\u001b[0m\u001b[0;34m\u001b[0m\u001b[0m\n\u001b[1;32m     53\u001b[0m \u001b[0;34m\u001b[0m\u001b[0m\n",
      "\u001b[0;31mNameError\u001b[0m: name 'model_save_dir' is not defined"
     ]
    }
   ],
   "source": [
    "test_evaluation, train_evaluation, network = deepbiome_train(log, network_info, path_info, number_of_fold=2)"
   ]
  },
  {
   "cell_type": "code",
   "execution_count": null,
   "metadata": {},
   "outputs": [],
   "source": [
    "test_evaluation"
   ]
  }
 ],
 "metadata": {
  "kernelspec": {
   "display_name": "Python 3",
   "language": "python",
   "name": "python3"
  },
  "language_info": {
   "codemirror_mode": {
    "name": "ipython",
    "version": 3
   },
   "file_extension": ".py",
   "mimetype": "text/x-python",
   "name": "python",
   "nbconvert_exporter": "python",
   "pygments_lexer": "ipython3",
   "version": "3.5.2"
  }
 },
 "nbformat": 4,
 "nbformat_minor": 2
}
