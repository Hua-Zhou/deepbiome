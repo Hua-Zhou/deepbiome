{
 "cells": [
  {
   "cell_type": "markdown",
   "metadata": {},
   "source": [
    "# DeepBiome Usage"
   ]
  },
  {
   "cell_type": "code",
   "execution_count": 1,
   "metadata": {},
   "outputs": [
    {
     "name": "stderr",
     "output_type": "stream",
     "text": [
      "Using TensorFlow backend.\n"
     ]
    }
   ],
   "source": [
    "from deepbiome.deepbiome_wrapper import *"
   ]
  },
  {
   "cell_type": "markdown",
   "metadata": {},
   "source": [
    "### Arguments"
   ]
  },
  {
   "cell_type": "code",
   "execution_count": 2,
   "metadata": {
    "collapsed": true
   },
   "outputs": [],
   "source": [
    "logging.basicConfig(format = '[%(name)-8s|%(levelname)s|%(filename)s:%(lineno)s] %(message)s',\n",
    "                    level=logging.DEBUG)\n",
    "log = logging.getLogger()"
   ]
  },
  {
   "cell_type": "code",
   "execution_count": 3,
   "metadata": {
    "collapsed": true
   },
   "outputs": [],
   "source": [
    "network_info = {\n",
    "    'architecture_info': {'batch_normalization': 'False',\n",
    "                          'drop_out': '0',\n",
    "                          'weight_initial': 'glorot_uniform',\n",
    "                          'weight_l1_penalty':'0.01',\n",
    "                          'weight_decay': 'phylogenetic_tree',\n",
    "                         },\n",
    "    'model_info': {'decay': '0.001',\n",
    "                   'loss': 'binary_crossentropy',\n",
    "                   'lr': '0.01',\n",
    "                   'metrics': 'binary_accuracy, sensitivity, specificity, gmeasure, auc',\n",
    "                   'network_class': 'DeepBiomeNetwork',\n",
    "                   'normalizer': 'normalize_minmax',\n",
    "                   'optimizer': 'adam',\n",
    "                   'reader_class': 'MicroBiomeReader',\n",
    "                   'texa_selection_metrics': 'accuracy, sensitivity, specificity, gmeasure'},\n",
    " 'tensorboard_info': {'histogram_freq': '0',\n",
    "  'tensorboard_dir': 'None',\n",
    "  'write_grads': 'False',\n",
    "  'write_graph': 'False',\n",
    "  'write_image': 'False',\n",
    "  'write_weights_histogram': 'False',\n",
    "  'write_weights_images': 'False'},\n",
    " 'test_info': {'batch_size': 'None'},\n",
    " 'training_info': {'batch_size': '200', 'epochs': '10'},\n",
    " 'validation_info': {'batch_size': 'None', 'validation_size': '0.2'}}"
   ]
  },
  {
   "cell_type": "code",
   "execution_count": 4,
   "metadata": {
    "collapsed": true
   },
   "outputs": [],
   "source": [
    "path_info = {'data_info': {'count_list_path': 'data/simulation/gcount_list.csv',\n",
    "                          'count_path': 'data/simulation/count',\n",
    "                          'data_path': 'data/simulation/s2/',\n",
    "                          'idx_path': 'data/simulation/s2/idx.csv',\n",
    "                          'tree_info_path': 'data/genus48/genus48_dic.csv',\n",
    "                          'x_path': '',\n",
    "                          'y_path': 'y.csv'},\n",
    "             'model_info': {'evaluation': 'eval.npy',\n",
    "                          'history': 'history/hist.json',\n",
    "                          'model_dir': './simulation_s2/simulation_s2_deepbiome/',\n",
    "                          'weight': 'weight/weight.h5'}}"
   ]
  },
  {
   "cell_type": "markdown",
   "metadata": {},
   "source": [
    "## Deepbiome Training"
   ]
  },
  {
   "cell_type": "code",
   "execution_count": 5,
   "metadata": {},
   "outputs": [
    {
     "name": "stderr",
     "output_type": "stream",
     "text": [
      "[root    |INFO|deepbiome_wrapper.py:46] -----------------------------------------------------------------\n",
      "[root    |INFO|deepbiome_wrapper.py:71] -------1 simulation start!----------------------------------\n",
      "[root    |INFO|readers.py:59] -----------------------------------------------------------------------\n",
      "[root    |INFO|readers.py:60] Construct Dataset\n",
      "[root    |INFO|readers.py:61] -----------------------------------------------------------------------\n",
      "[root    |INFO|readers.py:62] Load data\n",
      "[root    |INFO|deepbiome_wrapper.py:81] -----------------------------------------------------------------\n",
      "[root    |INFO|deepbiome_wrapper.py:82] Build network for 1 simulation\n",
      "[root    |INFO|build_network.py:507] ------------------------------------------------------------------------------------------\n",
      "[root    |INFO|build_network.py:508] Read phylogenetic tree information from data/genus48/genus48_dic.csv\n",
      "[root    |INFO|build_network.py:512] Phylogenetic tree level list: ['Genus', 'Family', 'Order', 'Class', 'Phylum']\n",
      "[root    |INFO|build_network.py:513] ------------------------------------------------------------------------------------------\n",
      "[root    |INFO|build_network.py:518]      Genus: 48\n",
      "[root    |INFO|build_network.py:518]     Family: 40\n",
      "[root    |INFO|build_network.py:518]      Order: 23\n",
      "[root    |INFO|build_network.py:518]      Class: 17\n",
      "[root    |INFO|build_network.py:518]     Phylum: 9\n",
      "[root    |INFO|build_network.py:521] ------------------------------------------------------------------------------------------\n",
      "[root    |INFO|build_network.py:522] Phylogenetic_tree_dict info: ['Genus', 'Family', 'Number', 'Order', 'Class', 'Phylum']\n",
      "[root    |INFO|build_network.py:523] ------------------------------------------------------------------------------------------\n",
      "[root    |INFO|build_network.py:533] Build edge weights between [ Genus, Family]\n",
      "[root    |INFO|build_network.py:533] Build edge weights between [Family,  Order]\n",
      "[root    |INFO|build_network.py:533] Build edge weights between [ Order,  Class]\n",
      "[root    |INFO|build_network.py:533] Build edge weights between [ Class, Phylum]\n",
      "[root    |INFO|build_network.py:546] ------------------------------------------------------------------------------------------\n",
      "[root    |INFO|build_network.py:562] ------------------------------------------------------------------------------------------\n",
      "[root    |INFO|build_network.py:563] Build network based on phylogenetic tree information\n",
      "[root    |INFO|build_network.py:564] ------------------------------------------------------------------------------------------\n"
     ]
    },
    {
     "name": "stdout",
     "output_type": "stream",
     "text": [
      "WARNING:tensorflow:From /usr/local/lib/python3.5/dist-packages/tensorflow/python/framework/op_def_library.py:263: colocate_with (from tensorflow.python.framework.ops) is deprecated and will be removed in a future version.\n",
      "Instructions for updating:\n",
      "Colocations handled automatically by placer.\n"
     ]
    },
    {
     "name": "stderr",
     "output_type": "stream",
     "text": [
      "[tensorflow|WARNING|deprecation.py:328] From /usr/local/lib/python3.5/dist-packages/tensorflow/python/framework/op_def_library.py:263: colocate_with (from tensorflow.python.framework.ops) is deprecated and will be removed in a future version.\n",
      "Instructions for updating:\n",
      "Colocations handled automatically by placer.\n",
      "[root    |INFO|build_network.py:635] ------------------------------------------------------------------------------------------\n"
     ]
    },
    {
     "name": "stdout",
     "output_type": "stream",
     "text": [
      "_________________________________________________________________\n",
      "Layer (type)                 Output Shape              Param #   \n",
      "=================================================================\n",
      "input (InputLayer)           (None, 48)                0         \n",
      "_________________________________________________________________\n",
      "l1_dense (Dense_with_tree)   (None, 40)                1960      \n",
      "_________________________________________________________________\n",
      "l1_activation (Activation)   (None, 40)                0         \n",
      "_________________________________________________________________\n",
      "l2_dense (Dense_with_tree)   (None, 23)                943       \n",
      "_________________________________________________________________\n",
      "l2_activation (Activation)   (None, 23)                0         \n",
      "_________________________________________________________________\n",
      "l3_dense (Dense_with_tree)   (None, 17)                408       \n",
      "_________________________________________________________________\n",
      "l3_activation (Activation)   (None, 17)                0         \n",
      "_________________________________________________________________\n",
      "l4_dense (Dense_with_tree)   (None, 9)                 162       \n",
      "_________________________________________________________________\n",
      "l4_activation (Activation)   (None, 9)                 0         \n",
      "_________________________________________________________________\n",
      "last_dense_h (Dense)         (None, 1)                 10        \n",
      "_________________________________________________________________\n",
      "p_hat (Activation)           (None, 1)                 0         \n",
      "=================================================================\n",
      "Total params: 3,483\n",
      "Trainable params: 3,483\n",
      "Non-trainable params: 0\n",
      "_________________________________________________________________\n",
      "WARNING:tensorflow:From /DATA/home/muha/.local/lib/python3.5/site-packages/deepbiome/loss_and_metric.py:51: py_func (from tensorflow.python.ops.script_ops) is deprecated and will be removed in a future version.\n",
      "Instructions for updating:\n",
      "tf.py_func is deprecated in TF V2. Instead, use\n",
      "    tf.py_function, which takes a python function which manipulates tf eager\n",
      "    tensors instead of numpy arrays. It's easy to convert a tf eager tensor to\n",
      "    an ndarray (just call tensor.numpy()) but having access to eager tensors\n",
      "    means `tf.py_function`s can use accelerators such as GPUs as well as\n",
      "    being differentiable using a gradient tape.\n",
      "    \n"
     ]
    },
    {
     "name": "stderr",
     "output_type": "stream",
     "text": [
      "[tensorflow|WARNING|deprecation.py:328] From /DATA/home/muha/.local/lib/python3.5/site-packages/deepbiome/loss_and_metric.py:51: py_func (from tensorflow.python.ops.script_ops) is deprecated and will be removed in a future version.\n",
      "Instructions for updating:\n",
      "tf.py_func is deprecated in TF V2. Instead, use\n",
      "    tf.py_function, which takes a python function which manipulates tf eager\n",
      "    tensors instead of numpy arrays. It's easy to convert a tf eager tensor to\n",
      "    an ndarray (just call tensor.numpy()) but having access to eager tensors\n",
      "    means `tf.py_function`s can use accelerators such as GPUs as well as\n",
      "    being differentiable using a gradient tape.\n",
      "    \n",
      "[root    |INFO|build_network.py:56] Build Network\n",
      "[root    |INFO|build_network.py:57] Optimizer = adam\n",
      "[root    |INFO|build_network.py:58] Loss = binary_crossentropy\n",
      "[root    |INFO|build_network.py:59] Metrics = binary_accuracy, sensitivity, specificity, gmeasure, auc\n",
      "[root    |INFO|deepbiome_wrapper.py:89] -----------------------------------------------------------------\n",
      "[root    |INFO|deepbiome_wrapper.py:90] 1 fold computing start!----------------------------------\n",
      "[root    |INFO|build_network.py:135] Training start!\n"
     ]
    },
    {
     "name": "stdout",
     "output_type": "stream",
     "text": [
      "WARNING:tensorflow:From /usr/local/lib/python3.5/dist-packages/tensorflow/python/ops/math_ops.py:2862: to_int32 (from tensorflow.python.ops.math_ops) is deprecated and will be removed in a future version.\n",
      "Instructions for updating:\n",
      "Use tf.cast instead.\n"
     ]
    },
    {
     "name": "stderr",
     "output_type": "stream",
     "text": [
      "[tensorflow|WARNING|deprecation.py:328] From /usr/local/lib/python3.5/dist-packages/tensorflow/python/ops/math_ops.py:2862: to_int32 (from tensorflow.python.ops.math_ops) is deprecated and will be removed in a future version.\n",
      "Instructions for updating:\n",
      "Use tf.cast instead.\n"
     ]
    },
    {
     "name": "stdout",
     "output_type": "stream",
     "text": [
      "Train on 600 samples, validate on 150 samples\n",
      "Epoch 1/10\n",
      "600/600 [==============================] - 2s 3ms/step - loss: 8.4618 - binary_accuracy: 0.3117 - sensitivity: 0.0000e+00 - specificity: 1.0000 - gmeasure: 0.0000e+00 - auc: 0.5286 - val_loss: 2.6466 - val_binary_accuracy: 0.3000 - val_sensitivity: 0.0000e+00 - val_specificity: 1.0000 - val_gmeasure: 0.0000e+00 - val_auc: 0.6010\n",
      "Epoch 2/10\n",
      "600/600 [==============================] - 0s 27us/step - loss: 2.3843 - binary_accuracy: 0.3117 - sensitivity: 0.0000e+00 - specificity: 1.0000 - gmeasure: 0.0000e+00 - auc: 0.5437 - val_loss: 2.0951 - val_binary_accuracy: 0.3000 - val_sensitivity: 0.0000e+00 - val_specificity: 1.0000 - val_gmeasure: 0.0000e+00 - val_auc: 0.6020\n",
      "Epoch 3/10\n",
      "600/600 [==============================] - 0s 34us/step - loss: 1.9627 - binary_accuracy: 0.3117 - sensitivity: 0.0000e+00 - specificity: 1.0000 - gmeasure: 0.0000e+00 - auc: 0.5377 - val_loss: 1.8243 - val_binary_accuracy: 0.3000 - val_sensitivity: 0.0000e+00 - val_specificity: 1.0000 - val_gmeasure: 0.0000e+00 - val_auc: 0.5153\n",
      "Epoch 4/10\n",
      "600/600 [==============================] - 0s 25us/step - loss: 1.7309 - binary_accuracy: 0.3117 - sensitivity: 0.0000e+00 - specificity: 1.0000 - gmeasure: 0.0000e+00 - auc: 0.5493 - val_loss: 1.6367 - val_binary_accuracy: 0.3000 - val_sensitivity: 0.0000e+00 - val_specificity: 1.0000 - val_gmeasure: 0.0000e+00 - val_auc: 0.5188\n",
      "Epoch 5/10\n",
      "600/600 [==============================] - 0s 25us/step - loss: 1.5609 - binary_accuracy: 0.3117 - sensitivity: 0.0000e+00 - specificity: 1.0000 - gmeasure: 0.0000e+00 - auc: 0.5462 - val_loss: 1.4877 - val_binary_accuracy: 0.3000 - val_sensitivity: 0.0000e+00 - val_specificity: 1.0000 - val_gmeasure: 0.0000e+00 - val_auc: 0.5289\n",
      "Epoch 6/10\n",
      "600/600 [==============================] - 0s 26us/step - loss: 1.4229 - binary_accuracy: 0.3117 - sensitivity: 0.0000e+00 - specificity: 1.0000 - gmeasure: 0.0000e+00 - auc: 0.5360 - val_loss: 1.3606 - val_binary_accuracy: 0.3000 - val_sensitivity: 0.0000e+00 - val_specificity: 1.0000 - val_gmeasure: 0.0000e+00 - val_auc: 0.5401\n",
      "Epoch 7/10\n",
      "600/600 [==============================] - 0s 43us/step - loss: 1.3023 - binary_accuracy: 0.3117 - sensitivity: 0.0000e+00 - specificity: 1.0000 - gmeasure: 0.0000e+00 - auc: 0.5329 - val_loss: 1.2470 - val_binary_accuracy: 0.3000 - val_sensitivity: 0.0000e+00 - val_specificity: 1.0000 - val_gmeasure: 0.0000e+00 - val_auc: 0.5501\n",
      "Epoch 8/10\n",
      "600/600 [==============================] - 0s 24us/step - loss: 1.1938 - binary_accuracy: 0.3117 - sensitivity: 0.0000e+00 - specificity: 1.0000 - gmeasure: 0.0000e+00 - auc: 0.5123 - val_loss: 1.1435 - val_binary_accuracy: 0.3000 - val_sensitivity: 0.0000e+00 - val_specificity: 1.0000 - val_gmeasure: 0.0000e+00 - val_auc: 0.5550\n",
      "Epoch 9/10\n",
      "600/600 [==============================] - 0s 32us/step - loss: 1.0978 - binary_accuracy: 0.3117 - sensitivity: 0.0000e+00 - specificity: 1.0000 - gmeasure: 0.0000e+00 - auc: 0.5356 - val_loss: 1.0473 - val_binary_accuracy: 0.3000 - val_sensitivity: 0.0000e+00 - val_specificity: 1.0000 - val_gmeasure: 0.0000e+00 - val_auc: 0.5697\n",
      "Epoch 10/10\n",
      "600/600 [==============================] - 0s 31us/step - loss: 1.0047 - binary_accuracy: 0.3117 - sensitivity: 0.0000e+00 - specificity: 1.0000 - gmeasure: 0.0000e+00 - auc: 0.5350 - val_loss: 0.9577 - val_binary_accuracy: 0.3000 - val_sensitivity: 0.0000e+00 - val_specificity: 1.0000 - val_gmeasure: 0.0000e+00 - val_auc: 0.5853\n"
     ]
    },
    {
     "name": "stderr",
     "output_type": "stream",
     "text": [
      "[root    |INFO|build_network.py:145] Training end with time 2.754775047302246!\n",
      "[root    |INFO|build_network.py:78] Saved trained model weight at ./simulation_s2/simulation_s2_deepbiome/weight/weight_0.h5 \n",
      "[root    |DEBUG|deepbiome_wrapper.py:98] Save weight at ./simulation_s2/simulation_s2_deepbiome/weight/weight_0.h5\n",
      "[root    |INFO|build_network.py:171] Evaluation start!\n"
     ]
    },
    {
     "name": "stdout",
     "output_type": "stream",
     "text": [
      "\r",
      "750/750 [==============================] - 0s 4us/step\n"
     ]
    },
    {
     "name": "stderr",
     "output_type": "stream",
     "text": [
      "[root    |INFO|build_network.py:176] Evaluation end with time 0.004266023635864258!\n",
      "[root    |INFO|build_network.py:177] Evaluation: [0.9495974779129028, 0.30933332443237305, 0.0, 1.0, 0.0, 0.5414226055145264]\n",
      "[root    |INFO|build_network.py:171] Evaluation start!\n"
     ]
    },
    {
     "name": "stdout",
     "output_type": "stream",
     "text": [
      "\r",
      "250/250 [==============================] - 0s 10us/step\n"
     ]
    },
    {
     "name": "stderr",
     "output_type": "stream",
     "text": [
      "[root    |INFO|build_network.py:176] Evaluation end with time 0.004544258117675781!\n",
      "[root    |INFO|build_network.py:177] Evaluation: [0.936873733997345, 0.3240000009536743, 0.0, 1.0, 0.0, 0.5033968687057495]\n",
      "[root    |INFO|deepbiome_wrapper.py:110] Compute time : 5.411771297454834\n",
      "[root    |INFO|deepbiome_wrapper.py:111] 1 fold computing end!---------------------------------------------\n",
      "[root    |INFO|deepbiome_wrapper.py:71] -------2 simulation start!----------------------------------\n",
      "[root    |INFO|readers.py:59] -----------------------------------------------------------------------\n",
      "[root    |INFO|readers.py:60] Construct Dataset\n",
      "[root    |INFO|readers.py:61] -----------------------------------------------------------------------\n",
      "[root    |INFO|readers.py:62] Load data\n",
      "[root    |INFO|deepbiome_wrapper.py:81] -----------------------------------------------------------------\n",
      "[root    |INFO|deepbiome_wrapper.py:82] Build network for 2 simulation\n",
      "[root    |INFO|build_network.py:507] ------------------------------------------------------------------------------------------\n",
      "[root    |INFO|build_network.py:508] Read phylogenetic tree information from data/genus48/genus48_dic.csv\n",
      "[root    |INFO|build_network.py:512] Phylogenetic tree level list: ['Genus', 'Family', 'Order', 'Class', 'Phylum']\n",
      "[root    |INFO|build_network.py:513] ------------------------------------------------------------------------------------------\n",
      "[root    |INFO|build_network.py:518]      Genus: 48\n",
      "[root    |INFO|build_network.py:518]     Family: 40\n",
      "[root    |INFO|build_network.py:518]      Order: 23\n",
      "[root    |INFO|build_network.py:518]      Class: 17\n",
      "[root    |INFO|build_network.py:518]     Phylum: 9\n",
      "[root    |INFO|build_network.py:521] ------------------------------------------------------------------------------------------\n",
      "[root    |INFO|build_network.py:522] Phylogenetic_tree_dict info: ['Genus', 'Family', 'Number', 'Order', 'Class', 'Phylum']\n",
      "[root    |INFO|build_network.py:523] ------------------------------------------------------------------------------------------\n",
      "[root    |INFO|build_network.py:533] Build edge weights between [ Genus, Family]\n",
      "[root    |INFO|build_network.py:533] Build edge weights between [Family,  Order]\n",
      "[root    |INFO|build_network.py:533] Build edge weights between [ Order,  Class]\n",
      "[root    |INFO|build_network.py:533] Build edge weights between [ Class, Phylum]\n",
      "[root    |INFO|build_network.py:546] ------------------------------------------------------------------------------------------\n",
      "[root    |INFO|build_network.py:562] ------------------------------------------------------------------------------------------\n",
      "[root    |INFO|build_network.py:563] Build network based on phylogenetic tree information\n",
      "[root    |INFO|build_network.py:564] ------------------------------------------------------------------------------------------\n",
      "[root    |INFO|build_network.py:635] ------------------------------------------------------------------------------------------\n",
      "[root    |INFO|build_network.py:56] Build Network\n",
      "[root    |INFO|build_network.py:57] Optimizer = adam\n",
      "[root    |INFO|build_network.py:58] Loss = binary_crossentropy\n",
      "[root    |INFO|build_network.py:59] Metrics = binary_accuracy, sensitivity, specificity, gmeasure, auc\n"
     ]
    },
    {
     "name": "stdout",
     "output_type": "stream",
     "text": [
      "_________________________________________________________________\n",
      "Layer (type)                 Output Shape              Param #   \n",
      "=================================================================\n",
      "input (InputLayer)           (None, 48)                0         \n",
      "_________________________________________________________________\n",
      "l1_dense (Dense_with_tree)   (None, 40)                1960      \n",
      "_________________________________________________________________\n",
      "l1_activation (Activation)   (None, 40)                0         \n",
      "_________________________________________________________________\n",
      "l2_dense (Dense_with_tree)   (None, 23)                943       \n",
      "_________________________________________________________________\n",
      "l2_activation (Activation)   (None, 23)                0         \n",
      "_________________________________________________________________\n",
      "l3_dense (Dense_with_tree)   (None, 17)                408       \n",
      "_________________________________________________________________\n",
      "l3_activation (Activation)   (None, 17)                0         \n",
      "_________________________________________________________________\n",
      "l4_dense (Dense_with_tree)   (None, 9)                 162       \n",
      "_________________________________________________________________\n",
      "l4_activation (Activation)   (None, 9)                 0         \n",
      "_________________________________________________________________\n",
      "last_dense_h (Dense)         (None, 1)                 10        \n",
      "_________________________________________________________________\n",
      "p_hat (Activation)           (None, 1)                 0         \n",
      "=================================================================\n",
      "Total params: 3,483\n",
      "Trainable params: 3,483\n",
      "Non-trainable params: 0\n",
      "_________________________________________________________________\n"
     ]
    },
    {
     "name": "stderr",
     "output_type": "stream",
     "text": [
      "[root    |INFO|deepbiome_wrapper.py:89] -----------------------------------------------------------------\n",
      "[root    |INFO|deepbiome_wrapper.py:90] 2 fold computing start!----------------------------------\n",
      "[root    |INFO|build_network.py:135] Training start!\n"
     ]
    },
    {
     "name": "stdout",
     "output_type": "stream",
     "text": [
      "Train on 600 samples, validate on 150 samples\n",
      "Epoch 1/10\n",
      "600/600 [==============================] - 0s 823us/step - loss: 5.5926 - binary_accuracy: 0.2717 - sensitivity: 0.0000e+00 - specificity: 1.0000 - gmeasure: 0.0000e+00 - auc: 0.4733 - val_loss: 2.4602 - val_binary_accuracy: 0.2733 - val_sensitivity: 0.0000e+00 - val_specificity: 1.0000 - val_gmeasure: 0.0000e+00 - val_auc: 0.5195\n",
      "Epoch 2/10\n",
      "600/600 [==============================] - 0s 27us/step - loss: 2.3166 - binary_accuracy: 0.2717 - sensitivity: 0.0000e+00 - specificity: 1.0000 - gmeasure: 0.0000e+00 - auc: 0.5186 - val_loss: 2.0670 - val_binary_accuracy: 0.2733 - val_sensitivity: 0.0000e+00 - val_specificity: 1.0000 - val_gmeasure: 0.0000e+00 - val_auc: 0.5140\n",
      "Epoch 3/10\n",
      "600/600 [==============================] - 0s 29us/step - loss: 1.9787 - binary_accuracy: 0.2717 - sensitivity: 0.0000e+00 - specificity: 1.0000 - gmeasure: 0.0000e+00 - auc: 0.5179 - val_loss: 1.8105 - val_binary_accuracy: 0.2733 - val_sensitivity: 0.0000e+00 - val_specificity: 1.0000 - val_gmeasure: 0.0000e+00 - val_auc: 0.5125\n",
      "Epoch 4/10\n",
      "600/600 [==============================] - 0s 37us/step - loss: 1.7461 - binary_accuracy: 0.2717 - sensitivity: 0.0000e+00 - specificity: 1.0000 - gmeasure: 0.0000e+00 - auc: 0.5166 - val_loss: 1.6190 - val_binary_accuracy: 0.2733 - val_sensitivity: 0.0000e+00 - val_specificity: 1.0000 - val_gmeasure: 0.0000e+00 - val_auc: 0.5151\n",
      "Epoch 5/10\n",
      "600/600 [==============================] - 0s 29us/step - loss: 1.5677 - binary_accuracy: 0.2717 - sensitivity: 0.0000e+00 - specificity: 1.0000 - gmeasure: 0.0000e+00 - auc: 0.5146 - val_loss: 1.4676 - val_binary_accuracy: 0.2733 - val_sensitivity: 0.0000e+00 - val_specificity: 1.0000 - val_gmeasure: 0.0000e+00 - val_auc: 0.5114\n",
      "Epoch 6/10\n",
      "600/600 [==============================] - 0s 27us/step - loss: 1.4278 - binary_accuracy: 0.2717 - sensitivity: 0.0000e+00 - specificity: 1.0000 - gmeasure: 0.0000e+00 - auc: 0.5181 - val_loss: 1.3418 - val_binary_accuracy: 0.2733 - val_sensitivity: 0.0000e+00 - val_specificity: 1.0000 - val_gmeasure: 0.0000e+00 - val_auc: 0.5125\n",
      "Epoch 7/10\n",
      "600/600 [==============================] - 0s 25us/step - loss: 1.3072 - binary_accuracy: 0.2717 - sensitivity: 0.0000e+00 - specificity: 1.0000 - gmeasure: 0.0000e+00 - auc: 0.5146 - val_loss: 1.2342 - val_binary_accuracy: 0.2733 - val_sensitivity: 0.0000e+00 - val_specificity: 1.0000 - val_gmeasure: 0.0000e+00 - val_auc: 0.5246\n",
      "Epoch 8/10\n",
      "600/600 [==============================] - 0s 28us/step - loss: 1.2035 - binary_accuracy: 0.2717 - sensitivity: 0.0000e+00 - specificity: 1.0000 - gmeasure: 0.0000e+00 - auc: 0.5096 - val_loss: 1.1400 - val_binary_accuracy: 0.2733 - val_sensitivity: 0.0000e+00 - val_specificity: 1.0000 - val_gmeasure: 0.0000e+00 - val_auc: 0.5305\n",
      "Epoch 9/10\n",
      "600/600 [==============================] - 0s 31us/step - loss: 1.1129 - binary_accuracy: 0.2717 - sensitivity: 0.0000e+00 - specificity: 1.0000 - gmeasure: 0.0000e+00 - auc: 0.5049 - val_loss: 1.0562 - val_binary_accuracy: 0.2733 - val_sensitivity: 0.0000e+00 - val_specificity: 1.0000 - val_gmeasure: 0.0000e+00 - val_auc: 0.5292\n",
      "Epoch 10/10\n",
      "600/600 [==============================] - 0s 25us/step - loss: 1.0329 - binary_accuracy: 0.2717 - sensitivity: 0.0000e+00 - specificity: 1.0000 - gmeasure: 0.0000e+00 - auc: 0.5083 - val_loss: 0.9807 - val_binary_accuracy: 0.2733 - val_sensitivity: 0.0000e+00 - val_specificity: 1.0000 - val_gmeasure: 0.0000e+00 - val_auc: 0.5313\n"
     ]
    },
    {
     "name": "stderr",
     "output_type": "stream",
     "text": [
      "[root    |INFO|build_network.py:145] Training end with time 1.1637012958526611!\n",
      "[root    |INFO|build_network.py:78] Saved trained model weight at ./simulation_s2/simulation_s2_deepbiome/weight/weight_1.h5 \n",
      "[root    |DEBUG|deepbiome_wrapper.py:98] Save weight at ./simulation_s2/simulation_s2_deepbiome/weight/weight_1.h5\n",
      "[root    |INFO|build_network.py:171] Evaluation start!\n"
     ]
    },
    {
     "name": "stdout",
     "output_type": "stream",
     "text": [
      "\r",
      "750/750 [==============================] - 0s 3us/step\n"
     ]
    },
    {
     "name": "stderr",
     "output_type": "stream",
     "text": [
      "[root    |INFO|build_network.py:176] Evaluation end with time 0.004462480545043945!\n",
      "[root    |INFO|build_network.py:177] Evaluation: [0.9818658232688904, 0.2720000147819519, 0.0, 1.0, 0.0, 0.5061633586883545]\n",
      "[root    |INFO|build_network.py:171] Evaluation start!\n"
     ]
    },
    {
     "name": "stdout",
     "output_type": "stream",
     "text": [
      "\r",
      "250/250 [==============================] - 0s 9us/step\n"
     ]
    },
    {
     "name": "stderr",
     "output_type": "stream",
     "text": [
      "[root    |INFO|build_network.py:176] Evaluation end with time 0.0035784244537353516!\n",
      "[root    |INFO|build_network.py:177] Evaluation: [0.954129695892334, 0.30399999022483826, 0.0, 1.0, 0.0, 0.4986766576766968]\n",
      "[root    |INFO|deepbiome_wrapper.py:110] Compute time : 2.314201831817627\n",
      "[root    |INFO|deepbiome_wrapper.py:111] 2 fold computing end!---------------------------------------------\n",
      "[root    |INFO|deepbiome_wrapper.py:114] -----------------------------------------------------------------\n",
      "[root    |INFO|deepbiome_wrapper.py:116] Train Evaluation : ['loss' 'binary_accuracy' 'sensitivity' 'specificity' 'gmeasure' 'auc']\n",
      "[root    |INFO|deepbiome_wrapper.py:119]       mean : [0.96573165 0.29066667 0.         1.         0.         0.52379298]\n",
      "[root    |INFO|deepbiome_wrapper.py:120]        std : [0.01613417 0.01866665 0.         0.         0.         0.01762962]\n",
      "[root    |INFO|deepbiome_wrapper.py:121] -----------------------------------------------------------------\n",
      "[root    |INFO|deepbiome_wrapper.py:123] Test Evaluation : ['loss' 'binary_accuracy' 'sensitivity' 'specificity' 'gmeasure' 'auc']\n",
      "[root    |INFO|deepbiome_wrapper.py:126]       mean : [0.94550171 0.314      0.         1.         0.         0.50103676]\n",
      "[root    |INFO|deepbiome_wrapper.py:127]        std : [0.00862798 0.01000001 0.         0.         0.         0.00236011]\n",
      "[root    |INFO|deepbiome_wrapper.py:128] -----------------------------------------------------------------\n",
      "[root    |INFO|deepbiome_wrapper.py:137] Total Computing Ended\n",
      "[root    |INFO|deepbiome_wrapper.py:138] -----------------------------------------------------------------\n"
     ]
    }
   ],
   "source": [
    "test_evaluation, train_evaluation, network = deepbiome_train(log, network_info, path_info, number_of_fold=2)"
   ]
  },
  {
   "cell_type": "code",
   "execution_count": 6,
   "metadata": {},
   "outputs": [
    {
     "data": {
      "text/plain": [
       "array([[0.93687373, 0.324     , 0.        , 1.        , 0.        ,\n",
       "        0.50339687],\n",
       "       [0.9541297 , 0.30399999, 0.        , 1.        , 0.        ,\n",
       "        0.49867666]])"
      ]
     },
     "execution_count": 6,
     "metadata": {},
     "output_type": "execute_result"
    }
   ],
   "source": [
    "test_evaluation"
   ]
  }
 ],
 "metadata": {
  "kernelspec": {
   "display_name": "Python 3",
   "language": "python",
   "name": "python3"
  },
  "language_info": {
   "codemirror_mode": {
    "name": "ipython",
    "version": 3
   },
   "file_extension": ".py",
   "mimetype": "text/x-python",
   "name": "python",
   "nbconvert_exporter": "python",
   "pygments_lexer": "ipython3",
   "version": "3.5.2"
  }
 },
 "nbformat": 4,
 "nbformat_minor": 2
}
