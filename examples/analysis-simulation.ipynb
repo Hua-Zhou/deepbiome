{
 "cells": [
  {
   "cell_type": "markdown",
   "metadata": {},
   "source": [
    "# Deep MicroBiome\n",
    "\n",
    "Aug. 14. 2019\n",
    "@ Youngwon (youngwon08@gmail.com)"
   ]
  },
  {
   "cell_type": "code",
   "execution_count": 1,
   "metadata": {},
   "outputs": [
    {
     "name": "stderr",
     "output_type": "stream",
     "text": [
      "/DATA/home/muha/.local/lib/python3.5/site-packages/h5py/__init__.py:36: FutureWarning: Conversion of the second argument of issubdtype from `float` to `np.floating` is deprecated. In future, it will be treated as `np.float64 == np.dtype(float).type`.\n",
      "  from ._conv import register_converters as _register_converters\n",
      "Using TensorFlow backend.\n"
     ]
    }
   ],
   "source": [
    "import os\n",
    "import json\n",
    "import numpy as np\n",
    "import pandas as pd\n",
    "import copy\n",
    "import logging\n",
    "import sys\n",
    "\n",
    "import keras.backend as k\n",
    "import tensorflow as tf\n",
    "\n",
    "import matplotlib.pyplot as plt\n",
    "%matplotlib inline\n",
    "\n",
    "os.environ['CUDA_VISIBLE_DEVICES']='0'"
   ]
  },
  {
   "cell_type": "code",
   "execution_count": 2,
   "metadata": {
    "collapsed": true
   },
   "outputs": [],
   "source": [
    "from deepbiome.deepbiome import *"
   ]
  },
  {
   "cell_type": "code",
   "execution_count": 3,
   "metadata": {
    "collapsed": true
   },
   "outputs": [],
   "source": [
    "config = tf.ConfigProto()\n",
    "config.gpu_options.allow_growth=True\n",
    "#config.gpu_options.per_process_gpu_memory_fraction = 0.4\n",
    "k.set_session(tf.Session(config=config))\n",
    "\n",
    "logging.basicConfig(format = '[%(name)-8s|%(levelname)s|%(filename)s:%(lineno)s] %(message)s',\n",
    "                    level=logging.DEBUG)\n",
    "log = logging.getLogger()"
   ]
  },
  {
   "cell_type": "markdown",
   "metadata": {},
   "source": [
    "## Pick Models"
   ]
  },
  {
   "cell_type": "code",
   "execution_count": 4,
   "metadata": {
    "collapsed": true
   },
   "outputs": [],
   "source": [
    "save = False\n",
    "# kfold=1000\n",
    "kfold=10\n",
    "network_model_keys = ['optimizer','lr','decay']\n",
    "architecture_keys = ['weight_decay', 'weight_l1_penalty', #'weight_l2_penalty',\n",
    "                     'tree_thrd', 'weight_initial',\n",
    "                     'batch_normalization','drop_out']\n",
    "network_training_keys = ['batch_size','epochs']"
   ]
  },
  {
   "cell_type": "code",
   "execution_count": 5,
   "metadata": {
    "collapsed": true
   },
   "outputs": [],
   "source": [
    "#######################################################################\n",
    "# filenames = 'simulation_s0.Rmd'\n",
    "# models = [\n",
    "#           'simulation_s0/simulation_s0_deep',\n",
    "#           'simulation_s0/simulation_s0_deep_l1',\n",
    "#           'simulation_s0/simulation_s0_deepbiome',\n",
    "#          ]\n",
    "\n",
    "# models_aka = [\n",
    "#           'DNN',\n",
    "#           'DNN+l1',\n",
    "#           'DeepBiome',\n",
    "#          ]\n",
    "# num_classes = 0\n",
    "########################################################################\n",
    "# filenames = 'simulation_s1.Rmd'\n",
    "# models = [\n",
    "#           'simulation_s1/simulation_s1_deep',\n",
    "#           'simulation_s1/simulation_s1_deep_l1',\n",
    "#           'simulation_s1/simulation_s1_deepbiome',\n",
    "#          ]\n",
    "\n",
    "# models_aka = [\n",
    "#           'DNN',\n",
    "#           'DNN+l1',\n",
    "#           'DeepBiome',\n",
    "#          ]\n",
    "# num_classes = 0\n",
    "# ########################################################################\n",
    "# filenames = 'simulation_s2.Rmd'\n",
    "# models = [\n",
    "#           'simulation_s2/simulation_s2_deep',\n",
    "#           'simulation_s2/simulation_s2_deep_l1',\n",
    "#           'simulation_s2/simulation_s2_deepbiome',\n",
    "#          ]\n",
    "\n",
    "# models_aka = [\n",
    "#           'DNN',\n",
    "#           'DNN+l1',\n",
    "#           'DeepBiome',\n",
    "#          ]\n",
    "# num_classes = 1\n",
    "# #######################################################################\n",
    "# filenames = 'simulation_s3.Rmd'\n",
    "# models = [\n",
    "#           'simulation_s3/simulation_s3_deep',\n",
    "#           'simulation_s3/simulation_s3_deep_l1',\n",
    "#           'simulation_s3/simulation_s3_deepbiome',\n",
    "#          ]\n",
    "\n",
    "# models_aka = [\n",
    "#           'DNN',\n",
    "#           'DNN+l1',\n",
    "#           'DeepBiome',\n",
    "#          ]\n",
    "# num_classes = 3\n",
    "# # ########################################################################\n",
    "# filenames = 'simulation_s4.Rmd'\n",
    "# models = [\n",
    "#           'simulation_s4/simulation_s4_deep',\n",
    "#           'simulation_s4/simulation_s4_deep_l1',\n",
    "#           'simulation_s4/simulation_s4_deepbiome',\n",
    "#          ]\n",
    "\n",
    "# models_aka = [\n",
    "#           'DNN',\n",
    "#           'DNN+l1',\n",
    "#           'DeepBiome',\n",
    "#          ]\n",
    "# num_classes = 0\n",
    "########################################################################\n",
    "filenames = 'simulation_s5.Rmd'\n",
    "models = [\n",
    "          'simulation_s5/simulation_s5_deep',\n",
    "          'simulation_s5/simulation_s5_deep_l1',\n",
    "          'simulation_s5/simulation_s5_deepbiome',\n",
    "         ]\n",
    "\n",
    "models_aka = [\n",
    "          'DNN',\n",
    "          'DNN+l1',\n",
    "          'DeepBiome',\n",
    "         ]\n",
    "num_classes = 0\n",
    "########################################################################"
   ]
  },
  {
   "cell_type": "code",
   "execution_count": 6,
   "metadata": {
    "collapsed": true
   },
   "outputs": [],
   "source": [
    "model_network_info = {}\n",
    "model_path_info = {}\n",
    "for model_path in models:\n",
    "    config_data = configuration.Configurator('%s/config/path_info.cfg' % model_path, log, verbose=False)\n",
    "    config_data.set_config_map(config_data.get_section_map())\n",
    "    config_network = configuration.Configurator('%s/config/network_info.cfg' % model_path, log, verbose=False)\n",
    "    config_network.set_config_map(config_network.get_section_map())\n",
    "\n",
    "    model_path_info[model_path] = config_data.get_config_map()\n",
    "    model_network_info[model_path] = config_network.get_config_map()\n",
    "    \n",
    "if num_classes == 0: y_names = ['loss','correlation_coefficient']\n",
    "elif num_classes==1: y_names = ['loss','binary_accuracy','sensitivity','specificity','gmeasure', 'auc']\n",
    "else: y_names=['loss','categorical_accuracy','precision','recall','f1', 'auc']\n",
    "\n",
    "if num_classes == 0: measure_index = np.array([0,1])\n",
    "elif num_classes==1: measure_index = np.array([2,3,4,1,5])\n",
    "else: measure_index = np.array([1,2,3,4,5])"
   ]
  },
  {
   "cell_type": "markdown",
   "metadata": {},
   "source": [
    "## Accuracy"
   ]
  },
  {
   "cell_type": "code",
   "execution_count": 7,
   "metadata": {},
   "outputs": [
    {
     "name": "stdout",
     "output_type": "stream",
     "text": [
      "     model &    loss &   (sd) & correlation_coefficient &   (sd)  \\\\\\ \\hline\n",
      "       DNN &   0.408 &   0.208&  0.860 &   0.071 &   0.151 &   0.157&  0.951 &   0.052 \\\\\n",
      "    DNN+l1 &   0.433 &   0.211&    nan &     nan &   0.181 &   0.214&    nan &     nan \\\\\n",
      " DeepBiome &   0.304 &   0.247&  0.895 &   0.087 &   0.191 &   0.198&  0.936 &   0.067 \\\\\n"
     ]
    }
   ],
   "source": [
    "results = []\n",
    "# log.info('%20s & %s' % ('model', '& '.join(['%s ' % name for name in np.array(y_names)[[measure_index]]])))\n",
    "print('%10s & %s \\\\\\\\\\ \\hline' % ('model', '& '.join(['%7s &   (sd) ' % name for name in np.array(y_names)[[measure_index]]])))\n",
    "# for model, aka in zip(models, models_aka):\n",
    "#     evaluation = np.load('%s/eval.npy' % model)\n",
    "#     log.info('%20s: %s' % (aka, ''.join(['%10.4f (%10.4f)'%(mean, std) for mean, std in zip(np.mean(evaluation, axis=0),np.std(evaluation, axis=0))])))\n",
    "#     results.append(np.vstack([np.mean(evaluation, axis=0),np.std(evaluation, axis=0)]).transpose())\n",
    "for model, aka in zip(models, models_aka):\n",
    "    train_evaluation = np.load('%s/train_eval.npy' % model)[:,measure_index]\n",
    "    train_res = '&'.join(['%7.3f & %7.3f'%(mean, std) for mean, std in zip(np.mean(train_evaluation, axis=0),np.std(train_evaluation, axis=0))])\n",
    "    test_evaluation = np.load('%s/test_eval.npy' % model)[:,measure_index]\n",
    "    test_res = '&'.join(['%7.3f & %7.3f'%(mean, std) for mean, std in zip(np.mean(test_evaluation, axis=0),np.std(test_evaluation, axis=0))])\n",
    "#     log.info('%s & %s & %s \\\\\\\\' % (aka, train_res, test_res))\n",
    "    print('%10s & %s & %s \\\\\\\\' % (aka, test_res, train_res))\n",
    "#     results.append(np.vstack([np.mean(evaluation, axis=0),np.std(evaluation, axis=0)]).transpose())"
   ]
  },
  {
   "cell_type": "markdown",
   "metadata": {},
   "source": [
    "# Choose Model"
   ]
  },
  {
   "cell_type": "code",
   "execution_count": 8,
   "metadata": {},
   "outputs": [
    {
     "name": "stderr",
     "output_type": "stream",
     "text": [
      "[root    |INFO|<ipython-input-8-3ecb0a3edfce>:23]                  model : simulation_s5/simulation_s5_deep_l1\n",
      "[root    |INFO|<ipython-input-8-3ecb0a3edfce>:24]              model_aka : DNN+l1\n",
      "[root    |INFO|<ipython-input-8-3ecb0a3edfce>:26]           weight_decay : None\n",
      "[root    |INFO|<ipython-input-8-3ecb0a3edfce>:26]      weight_l1_penalty : 0.01\n",
      "[root    |INFO|<ipython-input-8-3ecb0a3edfce>:26]              tree_thrd : None\n",
      "[root    |INFO|<ipython-input-8-3ecb0a3edfce>:26]         weight_initial : glorot_uniform\n",
      "[root    |INFO|<ipython-input-8-3ecb0a3edfce>:26]    batch_normalization : False\n",
      "[root    |INFO|<ipython-input-8-3ecb0a3edfce>:26]               drop_out : 0\n",
      "[root    |INFO|<ipython-input-8-3ecb0a3edfce>:28]              optimizer : adam\n",
      "[root    |INFO|<ipython-input-8-3ecb0a3edfce>:28]                     lr : 0.01\n",
      "[root    |INFO|<ipython-input-8-3ecb0a3edfce>:28]                  decay : 0.0001\n",
      "[root    |INFO|<ipython-input-8-3ecb0a3edfce>:30]             batch_size : 100\n",
      "[root    |INFO|<ipython-input-8-3ecb0a3edfce>:30]                 epochs : 5000\n"
     ]
    }
   ],
   "source": [
    "num=1\n",
    "model_path = models[num]\n",
    "model_aka = models_aka[num]\n",
    "\n",
    "config_data = configuration.Configurator('%s/config/path_info.cfg' % model_path, log, verbose=False)\n",
    "config_data.set_config_map(config_data.get_section_map())\n",
    "config_network = configuration.Configurator('%s/config/network_info.cfg' % model_path, log, verbose=False)\n",
    "config_network.set_config_map(config_network.get_section_map())\n",
    "\n",
    "path_info = config_data.get_config_map()\n",
    "network_info = config_network.get_config_map()\n",
    "\n",
    "path_info['data_info']['data_path'] = '/'.join(path_info['data_info']['data_path'].split('/')[2:])\n",
    "path_info['data_info']['tree_info_path'] = '/'.join(path_info['data_info']['tree_info_path'].split('/')[2:])\n",
    "try: path_info['data_info']['count_list_path'] = '/'.join(path_info['data_info']['count_list_path'].split('/')[2:])\n",
    "except: pass\n",
    "try: path_info['data_info']['count_path'] = '/'.join(path_info['data_info']['count_path'].split('/')[2:])\n",
    "except: pass\n",
    "path_info['data_info']['idx_path'] = '/'.join(path_info['data_info']['idx_path'].split('/')[2:])\n",
    "try: path_info['data_info']['disease_weight_path'] = '/'.join(path_info['data_info']['disease_weight_path'].split('/')[2:])\n",
    "except: pass\n",
    "\n",
    "log.info('%22s : %s' % ('model', model_path))\n",
    "log.info('%22s : %s' % ('model_aka', model_aka))\n",
    "for k in architecture_keys:\n",
    "    log.info('%22s : %s' % (k, network_info['architecture_info'].get(k, None)))\n",
    "for k in network_model_keys:\n",
    "    log.info('%22s : %s' % (k, network_info['model_info'].get(k, None)))\n",
    "for k in network_training_keys:\n",
    "    log.info('%22s : %s' % (k, network_info['training_info'].get(k, None)))"
   ]
  },
  {
   "cell_type": "code",
   "execution_count": 9,
   "metadata": {
    "scrolled": true
   },
   "outputs": [
    {
     "name": "stderr",
     "output_type": "stream",
     "text": [
      "[root    |INFO|<ipython-input-9-65b4b58a34e1>:2] \t loss correlation_coefficient\n",
      "[root    |INFO|<ipython-input-9-65b4b58a34e1>:4] 0 fold : [0.40407351 0.88592428]\n",
      "[root    |INFO|<ipython-input-9-65b4b58a34e1>:4] 1 fold : [0.00107405 0.99965715]\n",
      "[root    |INFO|<ipython-input-9-65b4b58a34e1>:4] 2 fold : [1.37311566        nan]\n",
      "[root    |INFO|<ipython-input-9-65b4b58a34e1>:4] 3 fold : [0.27711159 0.86056376]\n",
      "[root    |INFO|<ipython-input-9-65b4b58a34e1>:4] 4 fold : [0.05367913 0.98279351]\n",
      "[root    |INFO|<ipython-input-9-65b4b58a34e1>:4] 5 fold : [0.59386808 0.77282   ]\n",
      "[root    |INFO|<ipython-input-9-65b4b58a34e1>:4] 6 fold : [0.27745622 0.89678192]\n",
      "[root    |INFO|<ipython-input-9-65b4b58a34e1>:4] 7 fold : [0.64602184 0.81752282]\n",
      "[root    |INFO|<ipython-input-9-65b4b58a34e1>:4] 8 fold : [0.67845428 0.78367847]\n",
      "[root    |INFO|<ipython-input-9-65b4b58a34e1>:4] 9 fold : [0.59295517 0.79812491]\n",
      "[root    |INFO|<ipython-input-9-65b4b58a34e1>:4] 10 fold : [0.45132428 0.8673529 ]\n",
      "[root    |INFO|<ipython-input-9-65b4b58a34e1>:4] 11 fold : [0.24298388 0.93115091]\n",
      "[root    |INFO|<ipython-input-9-65b4b58a34e1>:4] 12 fold : [0.08566611 0.97518206]\n",
      "[root    |INFO|<ipython-input-9-65b4b58a34e1>:4] 13 fold : [0.48996991 0.85207278]\n",
      "[root    |INFO|<ipython-input-9-65b4b58a34e1>:4] 14 fold : [0.65758783 0.73660386]\n",
      "[root    |INFO|<ipython-input-9-65b4b58a34e1>:4] 15 fold : [0.40511927 0.84894419]\n",
      "[root    |INFO|<ipython-input-9-65b4b58a34e1>:4] 16 fold : [0.48553082 0.80916393]\n",
      "[root    |INFO|<ipython-input-9-65b4b58a34e1>:4] 17 fold : [0.37682945 0.85698527]\n",
      "[root    |INFO|<ipython-input-9-65b4b58a34e1>:4] 18 fold : [0.28610843 0.90238065]\n",
      "[root    |INFO|<ipython-input-9-65b4b58a34e1>:4] 19 fold : [0.17688705 0.93191594]\n",
      "[root    |INFO|<ipython-input-9-65b4b58a34e1>:4] 20 fold : [0.40868783 0.85205638]\n",
      "[root    |INFO|<ipython-input-9-65b4b58a34e1>:4] 21 fold : [0.12925352 0.95851338]\n",
      "[root    |INFO|<ipython-input-9-65b4b58a34e1>:4] 22 fold : [0.38315326 0.83645689]\n",
      "[root    |INFO|<ipython-input-9-65b4b58a34e1>:4] 23 fold : [0.2863439  0.91356266]\n",
      "[root    |INFO|<ipython-input-9-65b4b58a34e1>:4] 24 fold : [0.22471093 0.92089027]\n",
      "[root    |INFO|<ipython-input-9-65b4b58a34e1>:4] 25 fold : [0.35381973 0.8743456 ]\n",
      "[root    |INFO|<ipython-input-9-65b4b58a34e1>:4] 26 fold : [0.47959101 0.82899022]\n",
      "[root    |INFO|<ipython-input-9-65b4b58a34e1>:4] 27 fold : [0.62615293 0.80528456]\n",
      "[root    |INFO|<ipython-input-9-65b4b58a34e1>:4] 28 fold : [0.60732114 0.82527435]\n",
      "[root    |INFO|<ipython-input-9-65b4b58a34e1>:4] 29 fold : [0.55031419 0.80914605]\n",
      "[root    |INFO|<ipython-input-9-65b4b58a34e1>:4] 30 fold : [0.18830781 0.93876642]\n",
      "[root    |INFO|<ipython-input-9-65b4b58a34e1>:4] 31 fold : [0.215241   0.93560088]\n",
      "[root    |INFO|<ipython-input-9-65b4b58a34e1>:4] 32 fold : [0.42948452 0.84757507]\n",
      "[root    |INFO|<ipython-input-9-65b4b58a34e1>:4] 33 fold : [0.2936492 0.8984856]\n",
      "[root    |INFO|<ipython-input-9-65b4b58a34e1>:4] 34 fold : [0.60422575 0.76208651]\n",
      "[root    |INFO|<ipython-input-9-65b4b58a34e1>:4] 35 fold : [0.72126269 0.78212827]\n",
      "[root    |INFO|<ipython-input-9-65b4b58a34e1>:4] 36 fold : [0.32371745 0.85762143]\n",
      "[root    |INFO|<ipython-input-9-65b4b58a34e1>:4] 37 fold : [0.47506893 0.80338031]\n",
      "[root    |INFO|<ipython-input-9-65b4b58a34e1>:4] 38 fold : [0.48016655 0.85178697]\n",
      "[root    |INFO|<ipython-input-9-65b4b58a34e1>:4] 39 fold : [0.57082468 0.8224476 ]\n",
      "[root    |INFO|<ipython-input-9-65b4b58a34e1>:4] 40 fold : [0.24827597 0.91318315]\n",
      "[root    |INFO|<ipython-input-9-65b4b58a34e1>:4] 41 fold : [0.22857533 0.8906067 ]\n",
      "[root    |INFO|<ipython-input-9-65b4b58a34e1>:4] 42 fold : [0.6898579  0.71824855]\n",
      "[root    |INFO|<ipython-input-9-65b4b58a34e1>:4] 43 fold : [0.38948017 0.85047179]\n",
      "[root    |INFO|<ipython-input-9-65b4b58a34e1>:4] 44 fold : [0.50278401 0.79613942]\n",
      "[root    |INFO|<ipython-input-9-65b4b58a34e1>:4] 45 fold : [0.63515168 0.73707193]\n",
      "[root    |INFO|<ipython-input-9-65b4b58a34e1>:4] 46 fold : [0.17959113 0.94582164]\n",
      "[root    |INFO|<ipython-input-9-65b4b58a34e1>:4] 47 fold : [0.63005757 0.77169144]\n",
      "[root    |INFO|<ipython-input-9-65b4b58a34e1>:4] 48 fold : [0.54052758 0.79594314]\n",
      "[root    |INFO|<ipython-input-9-65b4b58a34e1>:4] 49 fold : [0.61766016 0.81000847]\n",
      "[root    |INFO|<ipython-input-9-65b4b58a34e1>:4] 50 fold : [0.29059595 0.91258514]\n",
      "[root    |INFO|<ipython-input-9-65b4b58a34e1>:4] 51 fold : [0.29406592 0.91220045]\n",
      "[root    |INFO|<ipython-input-9-65b4b58a34e1>:4] 52 fold : [0.70523983 0.77382272]\n",
      "[root    |INFO|<ipython-input-9-65b4b58a34e1>:4] 53 fold : [0.32026026 0.89766914]\n",
      "[root    |INFO|<ipython-input-9-65b4b58a34e1>:4] 54 fold : [0.36487395 0.88325858]\n",
      "[root    |INFO|<ipython-input-9-65b4b58a34e1>:4] 55 fold : [0.46238673 0.8467977 ]\n",
      "[root    |INFO|<ipython-input-9-65b4b58a34e1>:4] 56 fold : [0.66402274 0.76816964]\n",
      "[root    |INFO|<ipython-input-9-65b4b58a34e1>:4] 57 fold : [0.65635306 0.74946332]\n",
      "[root    |INFO|<ipython-input-9-65b4b58a34e1>:4] 58 fold : [0.62431699 0.77543801]\n",
      "[root    |INFO|<ipython-input-9-65b4b58a34e1>:4] 59 fold : [0.65223414 0.80389279]\n",
      "[root    |INFO|<ipython-input-9-65b4b58a34e1>:4] 60 fold : [0.67615992 0.77188551]\n",
      "[root    |INFO|<ipython-input-9-65b4b58a34e1>:4] 61 fold : [0.631666   0.76466823]\n",
      "[root    |INFO|<ipython-input-9-65b4b58a34e1>:4] 62 fold : [0.274957   0.89825606]\n",
      "[root    |INFO|<ipython-input-9-65b4b58a34e1>:4] 63 fold : [0.2733506  0.91717142]\n",
      "[root    |INFO|<ipython-input-9-65b4b58a34e1>:4] 64 fold : [0.19779646 0.93003476]\n",
      "[root    |INFO|<ipython-input-9-65b4b58a34e1>:4] 65 fold : [0.69406313 0.81135625]\n",
      "[root    |INFO|<ipython-input-9-65b4b58a34e1>:4] 66 fold : [0.40280834 0.84868175]\n",
      "[root    |INFO|<ipython-input-9-65b4b58a34e1>:4] 67 fold : [0.34810889 0.8851198 ]\n",
      "[root    |INFO|<ipython-input-9-65b4b58a34e1>:4] 68 fold : [0.00268433 0.99929696]\n",
      "[root    |INFO|<ipython-input-9-65b4b58a34e1>:4] 69 fold : [0.23995633 0.91552085]\n",
      "[root    |INFO|<ipython-input-9-65b4b58a34e1>:4] 70 fold : [0.50634903 0.82513648]\n",
      "[root    |INFO|<ipython-input-9-65b4b58a34e1>:4] 71 fold : [0.36416969 0.87995201]\n",
      "[root    |INFO|<ipython-input-9-65b4b58a34e1>:4] 72 fold : [0.5262512  0.84608388]\n",
      "[root    |INFO|<ipython-input-9-65b4b58a34e1>:4] 73 fold : [0.27284986 0.91932106]\n",
      "[root    |INFO|<ipython-input-9-65b4b58a34e1>:4] 74 fold : [0.05477968 0.98223937]\n",
      "[root    |INFO|<ipython-input-9-65b4b58a34e1>:4] 75 fold : [0.33382833 0.89079654]\n",
      "[root    |INFO|<ipython-input-9-65b4b58a34e1>:4] 76 fold : [0.54844511 0.8485958 ]\n",
      "[root    |INFO|<ipython-input-9-65b4b58a34e1>:4] 77 fold : [0.23819071 0.91502374]\n",
      "[root    |INFO|<ipython-input-9-65b4b58a34e1>:4] 78 fold : [0.4814918  0.86367124]\n",
      "[root    |INFO|<ipython-input-9-65b4b58a34e1>:4] 79 fold : [0.60720116 0.74405462]\n",
      "[root    |INFO|<ipython-input-9-65b4b58a34e1>:4] 80 fold : [0.45513776 0.83061033]\n",
      "[root    |INFO|<ipython-input-9-65b4b58a34e1>:4] 81 fold : [0.43210119 0.86571181]\n",
      "[root    |INFO|<ipython-input-9-65b4b58a34e1>:4] 82 fold : [0.27734891 0.91079032]\n",
      "[root    |INFO|<ipython-input-9-65b4b58a34e1>:4] 83 fold : [0.22239712 0.93204862]\n",
      "[root    |INFO|<ipython-input-9-65b4b58a34e1>:4] 84 fold : [0.54469645 0.85729241]\n",
      "[root    |INFO|<ipython-input-9-65b4b58a34e1>:4] 85 fold : [0.547521   0.76089782]\n",
      "[root    |INFO|<ipython-input-9-65b4b58a34e1>:4] 86 fold : [0.65039301 0.75139278]\n",
      "[root    |INFO|<ipython-input-9-65b4b58a34e1>:4] 87 fold : [0.58378941 0.82156736]\n",
      "[root    |INFO|<ipython-input-9-65b4b58a34e1>:4] 88 fold : [0.59874976 0.7950449 ]\n",
      "[root    |INFO|<ipython-input-9-65b4b58a34e1>:4] 89 fold : [0.75348413 0.73928487]\n",
      "[root    |INFO|<ipython-input-9-65b4b58a34e1>:4] 90 fold : [0.08063625 0.97032285]\n",
      "[root    |INFO|<ipython-input-9-65b4b58a34e1>:4] 91 fold : [0.70943052 0.77776498]\n",
      "[root    |INFO|<ipython-input-9-65b4b58a34e1>:4] 92 fold : [0.2850422  0.89504313]\n",
      "[root    |INFO|<ipython-input-9-65b4b58a34e1>:4] 93 fold : [0.38189912 0.88517052]\n",
      "[root    |INFO|<ipython-input-9-65b4b58a34e1>:4] 94 fold : [0.27894804 0.91926378]\n",
      "[root    |INFO|<ipython-input-9-65b4b58a34e1>:4] 95 fold : [0.69262105 0.78224671]\n",
      "[root    |INFO|<ipython-input-9-65b4b58a34e1>:4] 96 fold : [0.21032396 0.9181338 ]\n",
      "[root    |INFO|<ipython-input-9-65b4b58a34e1>:4] 97 fold : [0.16967638 0.9446969 ]\n"
     ]
    },
    {
     "name": "stderr",
     "output_type": "stream",
     "text": [
      "[root    |INFO|<ipython-input-9-65b4b58a34e1>:4] 98 fold : [0.54417413 0.81766647]\n",
      "[root    |INFO|<ipython-input-9-65b4b58a34e1>:4] 99 fold : [0.57060295 0.82955003]\n",
      "[root    |INFO|<ipython-input-9-65b4b58a34e1>:5] Mean   : [0.43267506        nan]\n",
      "[root    |INFO|<ipython-input-9-65b4b58a34e1>:6] Std   : [0.2110273       nan]\n"
     ]
    }
   ],
   "source": [
    "evaluation = np.load('%s/test_eval.npy' % model_path)\n",
    "log.info('\\t %s'%' '.join(['%s' % name for name in y_names]))\n",
    "\n",
    "_ = [log.info('%d fold : %s' % (i,line)) for i, line in enumerate(evaluation)]\n",
    "log.info('Mean   : %s' % np.mean(evaluation, axis=0))\n",
    "log.info('Std   : %s' % np.std(evaluation, axis=0))\n",
    "\n",
    "# _ = [print('%d fold & %s \\\\tabularnewline' % (i, ' & '.join(['%.3f'% v for v in line]))) for i, line in enumerate(evaluation)]\n",
    "# print('Mean & %s \\\\tabularnewline' % (' & '.join(['%.3f'% v for v in np.mean(evaluation, axis=0)])))\n",
    "# print('Sd & %s \\\\tabularnewline' % (' & '.join(['%.3f'% v for v in np.std(evaluation, axis=0)])))"
   ]
  },
  {
   "cell_type": "markdown",
   "metadata": {},
   "source": [
    "## Weight estimation of DeepBiom\n",
    "\n",
    "We identify the largest weight estimatio of neurons in two hidden layers; by doing this, we can identify the strongest phylogenetic connections. We compute the True Positive Rate (``TPR``, sensitivity), True Negative Rate (``TNR``, specificity), and their geometric mean (i.e., ``g-Measure``). The false discovery rate (FDR) would be ``FDR = 1-TPR`` in our case."
   ]
  },
  {
   "cell_type": "code",
   "execution_count": 10,
   "metadata": {
    "collapsed": true
   },
   "outputs": [],
   "source": [
    "def texa_selection_accuracy(tree_weight_list, true_tree_weight_list):\n",
    "    accuracy_list = []\n",
    "    for i in range(len(true_tree_weight_list)):\n",
    "        tree_tw = true_tree_weight_list[i].astype(np.int32)\n",
    "        tree_w = np.zeros_like(tree_tw, dtype=np.int32)\n",
    "        tree_w_abs = np.abs(tree_weight_list[i])\n",
    "        for row, maxcol in enumerate(np.argmax(tree_w_abs, axis=1)):\n",
    "            tree_w[row,maxcol] = tree_w_abs[row,maxcol]\n",
    "#         tree_w = (tree_w > 1e-2).astype(np.int32)\n",
    "        tree_w = (tree_w > 0).astype(np.int32)\n",
    "        num_selected_texa = np.sum(np.sum(tree_w, axis=1)>0)\n",
    "        sensitivity, specificity, gmeasure, accuracy = loss_and_metric.metric_texa_test(tree_tw.flatten(), tree_w.flatten())\n",
    "        accuracy_list.append([num_selected_texa, sensitivity, specificity, gmeasure, accuracy])\n",
    "    return accuracy_list\n",
    "\n",
    "def texa_selection_accuracy_2(tree_weight_list, true_tree_weight_list):\n",
    "    accuracy_list = []\n",
    "    for i in range(len(true_tree_weight_list)):\n",
    "        tree_tw = true_tree_weight_list[i].astype(np.int32)\n",
    "        tree_w = np.zeros_like(tree_tw, dtype=np.int32)\n",
    "        tree_w_abs = np.abs(tree_weight_list[i])\n",
    "#         tree_w = (tree_w_abs>1e-2).astype(np.int32)\n",
    "        for row in range(tree_w_abs.shape[0]):\n",
    "#             tree_w[row,:] = (tree_w_abs[row,:]> 0).astype(np.int32)\n",
    "            tree_w[row,:] = (tree_w_abs[row,:]> 1e-2).astype(np.int32)\n",
    "        num_selected_texa = np.sum(np.sum(tree_w, axis=1)>0)\n",
    "        sensitivity, specificity, gmeasure, accuracy = loss_and_metric.metric_texa_test(tree_tw.flatten(), tree_w.flatten())\n",
    "        accuracy_list.append([num_selected_texa, sensitivity, specificity, gmeasure, accuracy])\n",
    "    return accuracy_list"
   ]
  },
  {
   "cell_type": "markdown",
   "metadata": {},
   "source": [
    "### Accuracy"
   ]
  },
  {
   "cell_type": "code",
   "execution_count": 11,
   "metadata": {
    "scrolled": true
   },
   "outputs": [
    {
     "name": "stderr",
     "output_type": "stream",
     "text": [
      "[root    |INFO|build_network.py:508] ------------------------------------------------------------------------------------------\n",
      "[root    |INFO|build_network.py:509] Read phylogenetic tree information from data/genus48/genus48_dic_misspecify.csv\n",
      "[root    |INFO|build_network.py:513] Phylogenetic tree level list: ['Genus', 'Family', 'Order', 'Class', 'Phylum']\n",
      "[root    |INFO|build_network.py:514] ------------------------------------------------------------------------------------------\n",
      "[root    |INFO|build_network.py:519]      Genus: 48\n",
      "[root    |INFO|build_network.py:519]     Family: 40\n",
      "[root    |INFO|build_network.py:519]      Order: 22\n",
      "[root    |INFO|build_network.py:519]      Class: 16\n",
      "[root    |INFO|build_network.py:519]     Phylum: 9\n",
      "[root    |INFO|build_network.py:522] ------------------------------------------------------------------------------------------\n",
      "[root    |INFO|build_network.py:523] Phylogenetic_tree_dict info: ['Family', 'Phylum', 'Class', 'Number', 'Order', 'Genus']\n",
      "[root    |INFO|build_network.py:524] ------------------------------------------------------------------------------------------\n",
      "[root    |INFO|build_network.py:534] Build edge weights between [ Genus, Family]\n",
      "[root    |INFO|build_network.py:534] Build edge weights between [Family,  Order]\n",
      "[root    |INFO|build_network.py:534] Build edge weights between [ Order,  Class]\n",
      "[root    |INFO|build_network.py:534] Build edge weights between [ Class, Phylum]\n",
      "[root    |INFO|build_network.py:547] ------------------------------------------------------------------------------------------\n",
      "[root    |INFO|build_network.py:563] ------------------------------------------------------------------------------------------\n",
      "[root    |INFO|build_network.py:564] Build network based on phylogenetic tree information\n",
      "[root    |INFO|build_network.py:565] ------------------------------------------------------------------------------------------\n"
     ]
    },
    {
     "name": "stdout",
     "output_type": "stream",
     "text": [
      "WARNING:tensorflow:From /usr/local/lib/python3.5/dist-packages/tensorflow/python/ops/resource_variable_ops.py:432: colocate_with (from tensorflow.python.framework.ops) is deprecated and will be removed in a future version.\n",
      "Instructions for updating:\n",
      "Colocations handled automatically by placer.\n"
     ]
    },
    {
     "name": "stderr",
     "output_type": "stream",
     "text": [
      "[tensorflow|WARNING|deprecation.py:328] From /usr/local/lib/python3.5/dist-packages/tensorflow/python/ops/resource_variable_ops.py:432: colocate_with (from tensorflow.python.framework.ops) is deprecated and will be removed in a future version.\n",
      "Instructions for updating:\n",
      "Colocations handled automatically by placer.\n",
      "[root    |INFO|build_network.py:636] ------------------------------------------------------------------------------------------\n"
     ]
    },
    {
     "name": "stdout",
     "output_type": "stream",
     "text": [
      "Model: \"model_1\"\n",
      "_________________________________________________________________\n",
      "Layer (type)                 Output Shape              Param #   \n",
      "=================================================================\n",
      "input (InputLayer)           (None, 48)                0         \n",
      "_________________________________________________________________\n",
      "l1_dense (Dense_with_new_tre (None, 40)                1960      \n",
      "_________________________________________________________________\n",
      "l1_activation (Activation)   (None, 40)                0         \n",
      "_________________________________________________________________\n",
      "l2_dense (Dense_with_new_tre (None, 22)                902       \n",
      "_________________________________________________________________\n",
      "l2_activation (Activation)   (None, 22)                0         \n",
      "_________________________________________________________________\n",
      "l3_dense (Dense_with_new_tre (None, 16)                368       \n",
      "_________________________________________________________________\n",
      "l3_activation (Activation)   (None, 16)                0         \n",
      "_________________________________________________________________\n",
      "l4_dense (Dense_with_new_tre (None, 9)                 153       \n",
      "_________________________________________________________________\n",
      "l4_activation (Activation)   (None, 9)                 0         \n",
      "_________________________________________________________________\n",
      "last_dense_h (Dense)         (None, 1)                 10        \n",
      "_________________________________________________________________\n",
      "p_hat (Activation)           (None, 1)                 0         \n",
      "=================================================================\n",
      "Total params: 3,393\n",
      "Trainable params: 3,393\n",
      "Non-trainable params: 0\n",
      "_________________________________________________________________\n"
     ]
    },
    {
     "name": "stderr",
     "output_type": "stream",
     "text": [
      "[root    |INFO|build_network.py:57] Build Network\n",
      "[root    |INFO|build_network.py:58] Optimizer = adam\n",
      "[root    |INFO|build_network.py:59] Loss = mean_squared_error\n",
      "[root    |INFO|build_network.py:60] Metrics = correlation_coefficient\n"
     ]
    }
   ],
   "source": [
    "model_weight_path = './%s/%s' % (model_path, path_info['model_info']['weight'])\n",
    "\n",
    "network_class = getattr(build_network, network_info['model_info']['network_class'].strip()) \n",
    "# network = network_class(network_info, path_info['data_info'], log, fold=0, num_classes=max(1,num_classes))\n",
    "network = network_class(network_info, path_info['data_info'], log, fold=0, num_classes=num_classes)\n",
    "network.model_compile()"
   ]
  },
  {
   "cell_type": "code",
   "execution_count": 12,
   "metadata": {
    "scrolled": true
   },
   "outputs": [
    {
     "name": "stdout",
     "output_type": "stream",
     "text": [
      "  Model, True (Total),     Selected,  Sensitivity,  Specificity,     gMeasure,     Accuracy\n",
      "---------------------------------------------------------------------------------------------------------------\n",
      "    DNN+l1 &   Genus &      19 (48) &  0.005 &  0.016& 0.994 &  0.006& 0.023 &  0.069& 0.984 &  0.006 \\\\\n",
      "           &  Family &      15 (40) &  0.013 &  0.027& 0.995 &  0.004& 0.051 &  0.103& 0.979 &  0.004 \\\\\n",
      "           &   Order &       4 (23) &  0.000 &  0.000& 0.995 &  0.006& 0.000 &  0.000& 0.985 &  0.005 \\\\\n",
      "           &   Class &       3 (17) &  0.033 &  0.100& 0.992 &  0.010& 0.058 &  0.173& 0.973 &  0.010 \\\\\n"
     ]
    }
   ],
   "source": [
    "accuracy_list = []\n",
    "for fold in range(kfold):\n",
    "    network.fold = fold\n",
    "    network.load_weights(file_path_fold(model_weight_path, fold), verbose=False)\n",
    "    true_tree_weight_list = network.load_true_tree_weight_list(path_info['data_info']['data_path'])\n",
    "    tree_weight_list = network.get_trained_weight()\n",
    "    accuracy_list.append(np.array(texa_selection_accuracy(tree_weight_list, true_tree_weight_list)))\n",
    "accuracy_list = np.array(accuracy_list)[:,:,1:]\n",
    "\n",
    "# print('%7s, %12s, %12s, %12s, %12s, %12s, %12s' % ('Model','True (Total)','Selected','Sensitivity','Specificity','gMeasure','Accuracy'))\n",
    "# print('---------------------------------------------------------------------------------------------------------------')\n",
    "# values = []\n",
    "# for i, (mean, std) in enumerate(zip(np.mean(accuracy_list, axis=0), np.std(accuracy_list, axis=0))):\n",
    "#     tree_tw = true_tree_weight_list[i].astype(np.int32)\n",
    "#     args = [network.tree_level_list[i], np.sum(np.sum(tree_tw, axis=1)>0), tree_tw.shape[0]]+ np.stack([mean, std]).T.flatten().tolist()\n",
    "#     value = '%7s, %7d (%2d), %7d (%2d), %5.3f (%5.3f), %5.3f (%5.3f), %5.3f (%5.3f), %5.3f (%5.3f)' % tuple(args)\n",
    "#     values.append(value.split(','))\n",
    "    \n",
    "print('%7s, %12s, %12s, %12s, %12s, %12s, %12s' % ('Model','True (Total)','Selected','Sensitivity','Specificity','gMeasure','Accuracy'))\n",
    "print('---------------------------------------------------------------------------------------------------------------')\n",
    "values = []\n",
    "for i, (mean, std) in enumerate(zip(np.mean(accuracy_list, axis=0), np.std(accuracy_list, axis=0))):\n",
    "    tree_tw = true_tree_weight_list[i].astype(np.int32)\n",
    "    args = [network.tree_level_list[i], np.sum(np.sum(tree_tw, axis=1)>0), tree_tw.shape[0]]\n",
    "    value = '%7s & %7d (%2d)' % tuple(args)\n",
    "    value = '%s & %s \\\\\\\\' % (value, '&'.join(['%6.3f & %6.3f'%(m,s) for m, s in zip(mean, std)]))\n",
    "    if i == 0: print('%10s & %s' % (model_aka, value))\n",
    "    else: print('%10s & %s' % ('', value))\n",
    "    values.append(value.split(','))\n",
    "    \n",
    "# if save: \n",
    "#     # filenametexa = '.'.join([\"%s_select_texa_1\" % filename.split('.')[0], filename.split('.')[1]])\n",
    "#     colname = ['Tree','True (Total)','Selected','Sensitivity','Specificity','gMeasure','Accuracy']\n",
    "#     with open('%s/%s' % (analysis_dir, filename), mode='a') as f:\n",
    "#     #     f.write('---\\ntitle: \"%s texa selection ver.1\"\\noutput: html_document\\n---\\n\\n' % filename.split('.')[0])\n",
    "#         f.write('\\n## Texa Selection Preformance (ver 1): %s\\n\\n' % model_aka)\n",
    "#         f.write('| %s |\\n' % ('|'.join([v for v in colname])))\n",
    "#         f.write('|'+'---|'*len(colname)+'\\n')\n",
    "#         for value in values:\n",
    "#             f.write('| %s |\\n' % ('|'.join(value)))"
   ]
  },
  {
   "cell_type": "code",
   "execution_count": 13,
   "metadata": {
    "scrolled": true
   },
   "outputs": [
    {
     "ename": "ValueError",
     "evalue": "could not broadcast input array from shape (22) into shape (23)",
     "output_type": "error",
     "traceback": [
      "\u001b[0;31m---------------------------------------------------------------------------\u001b[0m",
      "\u001b[0;31mValueError\u001b[0m                                Traceback (most recent call last)",
      "\u001b[0;32m<ipython-input-13-e315cc970776>\u001b[0m in \u001b[0;36m<module>\u001b[0;34m()\u001b[0m\n\u001b[1;32m      5\u001b[0m     \u001b[0mtrue_tree_weight_list\u001b[0m \u001b[0;34m=\u001b[0m \u001b[0mnetwork\u001b[0m\u001b[0;34m.\u001b[0m\u001b[0mload_true_tree_weight_list\u001b[0m\u001b[0;34m(\u001b[0m\u001b[0mpath_info\u001b[0m\u001b[0;34m[\u001b[0m\u001b[0;34m'data_info'\u001b[0m\u001b[0;34m]\u001b[0m\u001b[0;34m[\u001b[0m\u001b[0;34m'data_path'\u001b[0m\u001b[0;34m]\u001b[0m\u001b[0;34m)\u001b[0m\u001b[0;34m\u001b[0m\u001b[0m\n\u001b[1;32m      6\u001b[0m     \u001b[0mtree_weight_list\u001b[0m \u001b[0;34m=\u001b[0m \u001b[0mnetwork\u001b[0m\u001b[0;34m.\u001b[0m\u001b[0mget_trained_weight\u001b[0m\u001b[0;34m(\u001b[0m\u001b[0;34m)\u001b[0m\u001b[0;34m\u001b[0m\u001b[0m\n\u001b[0;32m----> 7\u001b[0;31m     \u001b[0maccuracy_list\u001b[0m\u001b[0;34m.\u001b[0m\u001b[0mappend\u001b[0m\u001b[0;34m(\u001b[0m\u001b[0mnp\u001b[0m\u001b[0;34m.\u001b[0m\u001b[0marray\u001b[0m\u001b[0;34m(\u001b[0m\u001b[0mtexa_selection_accuracy_2\u001b[0m\u001b[0;34m(\u001b[0m\u001b[0mtree_weight_list\u001b[0m\u001b[0;34m,\u001b[0m \u001b[0mtrue_tree_weight_list\u001b[0m\u001b[0;34m)\u001b[0m\u001b[0;34m)\u001b[0m\u001b[0;34m)\u001b[0m\u001b[0;34m\u001b[0m\u001b[0m\n\u001b[0m\u001b[1;32m      8\u001b[0m \u001b[0maccuracy_list\u001b[0m \u001b[0;34m=\u001b[0m \u001b[0mnp\u001b[0m\u001b[0;34m.\u001b[0m\u001b[0marray\u001b[0m\u001b[0;34m(\u001b[0m\u001b[0maccuracy_list\u001b[0m\u001b[0;34m)\u001b[0m\u001b[0;34m[\u001b[0m\u001b[0;34m:\u001b[0m\u001b[0;34m,\u001b[0m\u001b[0;34m:\u001b[0m\u001b[0;34m,\u001b[0m\u001b[0;36m1\u001b[0m\u001b[0;34m:\u001b[0m\u001b[0;34m]\u001b[0m\u001b[0;34m\u001b[0m\u001b[0m\n\u001b[1;32m      9\u001b[0m \u001b[0;34m\u001b[0m\u001b[0m\n",
      "\u001b[0;32m<ipython-input-10-5c21f6be91d0>\u001b[0m in \u001b[0;36mtexa_selection_accuracy_2\u001b[0;34m(tree_weight_list, true_tree_weight_list)\u001b[0m\n\u001b[1;32m     23\u001b[0m         \u001b[0;32mfor\u001b[0m \u001b[0mrow\u001b[0m \u001b[0;32min\u001b[0m \u001b[0mrange\u001b[0m\u001b[0;34m(\u001b[0m\u001b[0mtree_w_abs\u001b[0m\u001b[0;34m.\u001b[0m\u001b[0mshape\u001b[0m\u001b[0;34m[\u001b[0m\u001b[0;36m0\u001b[0m\u001b[0;34m]\u001b[0m\u001b[0;34m)\u001b[0m\u001b[0;34m:\u001b[0m\u001b[0;34m\u001b[0m\u001b[0m\n\u001b[1;32m     24\u001b[0m \u001b[0;31m#             tree_w[row,:] = (tree_w_abs[row,:]> 0).astype(np.int32)\u001b[0m\u001b[0;34m\u001b[0m\u001b[0;34m\u001b[0m\u001b[0m\n\u001b[0;32m---> 25\u001b[0;31m             \u001b[0mtree_w\u001b[0m\u001b[0;34m[\u001b[0m\u001b[0mrow\u001b[0m\u001b[0;34m,\u001b[0m\u001b[0;34m:\u001b[0m\u001b[0;34m]\u001b[0m \u001b[0;34m=\u001b[0m \u001b[0;34m(\u001b[0m\u001b[0mtree_w_abs\u001b[0m\u001b[0;34m[\u001b[0m\u001b[0mrow\u001b[0m\u001b[0;34m,\u001b[0m\u001b[0;34m:\u001b[0m\u001b[0;34m]\u001b[0m\u001b[0;34m>\u001b[0m \u001b[0;36m1e-2\u001b[0m\u001b[0;34m)\u001b[0m\u001b[0;34m.\u001b[0m\u001b[0mastype\u001b[0m\u001b[0;34m(\u001b[0m\u001b[0mnp\u001b[0m\u001b[0;34m.\u001b[0m\u001b[0mint32\u001b[0m\u001b[0;34m)\u001b[0m\u001b[0;34m\u001b[0m\u001b[0m\n\u001b[0m\u001b[1;32m     26\u001b[0m         \u001b[0mnum_selected_texa\u001b[0m \u001b[0;34m=\u001b[0m \u001b[0mnp\u001b[0m\u001b[0;34m.\u001b[0m\u001b[0msum\u001b[0m\u001b[0;34m(\u001b[0m\u001b[0mnp\u001b[0m\u001b[0;34m.\u001b[0m\u001b[0msum\u001b[0m\u001b[0;34m(\u001b[0m\u001b[0mtree_w\u001b[0m\u001b[0;34m,\u001b[0m \u001b[0maxis\u001b[0m\u001b[0;34m=\u001b[0m\u001b[0;36m1\u001b[0m\u001b[0;34m)\u001b[0m\u001b[0;34m>\u001b[0m\u001b[0;36m0\u001b[0m\u001b[0;34m)\u001b[0m\u001b[0;34m\u001b[0m\u001b[0m\n\u001b[1;32m     27\u001b[0m         \u001b[0msensitivity\u001b[0m\u001b[0;34m,\u001b[0m \u001b[0mspecificity\u001b[0m\u001b[0;34m,\u001b[0m \u001b[0mgmeasure\u001b[0m\u001b[0;34m,\u001b[0m \u001b[0maccuracy\u001b[0m \u001b[0;34m=\u001b[0m \u001b[0mloss_and_metric\u001b[0m\u001b[0;34m.\u001b[0m\u001b[0mmetric_texa_test\u001b[0m\u001b[0;34m(\u001b[0m\u001b[0mtree_tw\u001b[0m\u001b[0;34m.\u001b[0m\u001b[0mflatten\u001b[0m\u001b[0;34m(\u001b[0m\u001b[0;34m)\u001b[0m\u001b[0;34m,\u001b[0m \u001b[0mtree_w\u001b[0m\u001b[0;34m.\u001b[0m\u001b[0mflatten\u001b[0m\u001b[0;34m(\u001b[0m\u001b[0;34m)\u001b[0m\u001b[0;34m)\u001b[0m\u001b[0;34m\u001b[0m\u001b[0m\n",
      "\u001b[0;31mValueError\u001b[0m: could not broadcast input array from shape (22) into shape (23)"
     ]
    }
   ],
   "source": [
    "accuracy_list = []\n",
    "for fold in range(kfold):\n",
    "    network.fold = fold\n",
    "    network.load_weights(file_path_fold(model_weight_path, fold), verbose=False)\n",
    "    true_tree_weight_list = network.load_true_tree_weight_list(path_info['data_info']['data_path'])\n",
    "    tree_weight_list = network.get_trained_weight()\n",
    "    accuracy_list.append(np.array(texa_selection_accuracy_2(tree_weight_list, true_tree_weight_list)))\n",
    "accuracy_list = np.array(accuracy_list)[:,:,1:]\n",
    "\n",
    "# print('%7s, %12s, %12s, %12s, %12s, %12s, %12s' % ('Model','True (Total)','Selected','Sensitivity','Specificity','gMeasure','Accuracy'))\n",
    "# print('---------------------------------------------------------------------------------------------------------------')\n",
    "# values = []\n",
    "# for i, (mean, std) in enumerate(zip(np.mean(accuracy_list, axis=0), np.std(accuracy_list, axis=0))):\n",
    "#     tree_tw = true_tree_weight_list[i].astype(np.int32)\n",
    "#     args = [network.tree_level_list[i], np.sum(np.sum(tree_tw, axis=1)>0), tree_tw.shape[0]]+ np.stack([mean, std]).T.flatten().tolist()\n",
    "#     value = '%7s, %7d (%2d), %7d (%2d), %5.3f (%5.3f), %5.3f (%5.3f), %5.3f (%5.3f), %5.3f (%5.3f)' % tuple(args)\n",
    "#     values.append(value.split(','))\n",
    "    \n",
    "print('%7s, %12s, %12s, %12s, %12s, %12s, %12s' % ('Model','True (Total)','Selected','Sensitivity','Specificity','gMeasure','Accuracy'))\n",
    "print('---------------------------------------------------------------------------------------------------------------')\n",
    "values = []\n",
    "for i, (mean, std) in enumerate(zip(np.mean(accuracy_list, axis=0), np.std(accuracy_list, axis=0))):\n",
    "    tree_tw = true_tree_weight_list[i].astype(np.int32)\n",
    "    args = [network.tree_level_list[i], np.sum(np.sum(tree_tw, axis=1)>0), tree_tw.shape[0]]\n",
    "    value = '%7s & %7d (%2d)' % tuple(args)\n",
    "    value = '%s & %s \\\\\\\\' % (value, '&'.join(['%6.3f & %6.3f'%(m,s) for m, s in zip(mean, std)]))\n",
    "    if i == 0: print('%10s & %s' % (model_aka, value))\n",
    "    else: print('%10s & %s' % ('', value))\n",
    "    values.append(value.split(','))\n",
    "    \n",
    "# if save: \n",
    "#     # filenametexa = '.'.join([\"%s_select_texa_1\" % filename.split('.')[0], filename.split('.')[1]])\n",
    "#     colname = ['Tree','True (Total)','Selected','Sensitivity','Specificity','gMeasure','Accuracy']\n",
    "#     with open('%s/%s' % (analysis_dir, filename), mode='a') as f:\n",
    "#     #     f.write('---\\ntitle: \"%s texa selection ver.1\"\\noutput: html_document\\n---\\n\\n' % filename.split('.')[0])\n",
    "#         f.write('\\n## Texa Selection Preformance (ver 1): %s\\n\\n' % model_aka)\n",
    "#         f.write('| %s |\\n' % ('|'.join([v for v in colname])))\n",
    "#         f.write('|'+'---|'*len(colname)+'\\n')\n",
    "#         for value in values:\n",
    "#             f.write('| %s |\\n' % ('|'.join(value)))"
   ]
  }
 ],
 "metadata": {
  "anaconda-cloud": {},
  "kernelspec": {
   "display_name": "Python 3",
   "language": "python",
   "name": "python3"
  },
  "language_info": {
   "codemirror_mode": {
    "name": "ipython",
    "version": 3
   },
   "file_extension": ".py",
   "mimetype": "text/x-python",
   "name": "python",
   "nbconvert_exporter": "python",
   "pygments_lexer": "ipython3",
   "version": "3.5.2"
  }
 },
 "nbformat": 4,
 "nbformat_minor": 2
}
